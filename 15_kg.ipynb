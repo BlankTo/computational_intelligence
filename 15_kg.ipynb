{
 "cells": [
  {
   "cell_type": "markdown",
   "metadata": {},
   "source": [
    "trying to solve 15 kg exercise from slides\n",
    "\n",
    "get 15 kg of materials from a list of materials with different weights\n",
    "\n",
    "materials: [1, 1, 1, 1, 1, 1, 5, 5, 7, 7, 9, 9]\n"
   ]
  },
  {
   "cell_type": "code",
   "execution_count": 2,
   "metadata": {},
   "outputs": [],
   "source": [
    "import numpy as np\n",
    "from collections import namedtuple, deque\n",
    "from tqdm.auto import tqdm\n",
    "from queue import PriorityQueue\n",
    "from functools import reduce"
   ]
  },
  {
   "cell_type": "code",
   "execution_count": 103,
   "metadata": {},
   "outputs": [],
   "source": [
    "items = [0, 1, 2, 3, 4, 5, 6, 7, 8, 9, 10, 11]\n",
    "weights = [1, 1, 1, 1, 1, 1, 5, 5, 7, 7, 9, 9]\n",
    "\n",
    "FINAL_WEIGHT = 15"
   ]
  },
  {
   "cell_type": "markdown",
   "metadata": {},
   "source": [
    "## try one"
   ]
  },
  {
   "cell_type": "code",
   "execution_count": 95,
   "metadata": {},
   "outputs": [],
   "source": [
    "# bag of taken/bag of not taken\n",
    "\n",
    "State = namedtuple('State', ['taken', 'not_taken'])\n",
    "\n",
    "def compute_weight(state): return sum([weights[x] for x in state.taken])\n",
    "\n",
    "def goal_check(state): return compute_weight(state) == FINAL_WEIGHT"
   ]
  },
  {
   "cell_type": "markdown",
   "metadata": {},
   "source": [
    "Depth First"
   ]
  },
  {
   "cell_type": "code",
   "execution_count": 98,
   "metadata": {},
   "outputs": [
    {
     "name": "stderr",
     "output_type": "stream",
     "text": [
      "3it [00:00, 3011.71it/s]"
     ]
    },
    {
     "name": "stdout",
     "output_type": "stream",
     "text": [
      "Solved in 3 steps (3 tiles)\n"
     ]
    },
    {
     "name": "stderr",
     "output_type": "stream",
     "text": [
      "\n"
     ]
    }
   ],
   "source": [
    "frontier = deque()\n",
    "state = State(set(), set(items))\n",
    "frontier.append(state)\n",
    "\n",
    "counter = 0\n",
    "current_state = frontier.pop()\n",
    "current_weight = 0\n",
    "with tqdm(total=None) as pbar:\n",
    "    while not goal_check(current_state):\n",
    "        counter += 1\n",
    "        for item in current_state[1]: # for item in not taken items\n",
    "            if current_weight + weights[item] <= FINAL_WEIGHT:\n",
    "                new_state = State(\n",
    "                    current_state.taken ^ {item},\n",
    "                    current_state.not_taken ^ {item},\n",
    "                )\n",
    "                frontier.append(new_state)\n",
    "        current_state = frontier.pop()\n",
    "        current_weight = compute_weight(current_state)\n",
    "        pbar.update(1)\n",
    "\n",
    "print(f\"Solved in {counter:,} steps ({len(current_state.taken)} tiles)\")"
   ]
  },
  {
   "cell_type": "markdown",
   "metadata": {},
   "source": [
    "Breadth First"
   ]
  },
  {
   "cell_type": "code",
   "execution_count": 120,
   "metadata": {},
   "outputs": [
    {
     "name": "stderr",
     "output_type": "stream",
     "text": [
      "193it [00:00, 38702.46it/s]"
     ]
    },
    {
     "name": "stdout",
     "output_type": "stream",
     "text": [
      "Solved in 193 steps (3 tiles)\n"
     ]
    },
    {
     "name": "stderr",
     "output_type": "stream",
     "text": [
      "\n"
     ]
    }
   ],
   "source": [
    "frontier = deque()\n",
    "state = State(set(), set(items))\n",
    "frontier.append(state)\n",
    "\n",
    "counter = 0\n",
    "current_state = frontier.popleft()\n",
    "current_weight = 0\n",
    "with tqdm(total=None) as pbar:\n",
    "    while not goal_check(current_state):\n",
    "        counter += 1\n",
    "        for item in current_state[1]: # for item in not taken items\n",
    "            if current_weight + weights[item] <= FINAL_WEIGHT:\n",
    "                new_state = State(\n",
    "                    current_state.taken ^ {item},\n",
    "                    current_state.not_taken ^ {item},\n",
    "                )\n",
    "                frontier.append(new_state)\n",
    "        current_state = frontier.popleft()\n",
    "        current_weight = compute_weight(current_state)\n",
    "        pbar.update(1)\n",
    "\n",
    "print(f\"Solved in {counter:,} steps ({len(current_state.taken)} tiles)\")"
   ]
  },
  {
   "cell_type": "markdown",
   "metadata": {},
   "source": [
    "Greedy Best First"
   ]
  },
  {
   "cell_type": "code",
   "execution_count": 8,
   "metadata": {},
   "outputs": [],
   "source": [
    "def f(state):\n",
    "    missing_weight = FINAL_WEIGHT - compute_weight(state)\n",
    "    return missing_weight"
   ]
  },
  {
   "cell_type": "code",
   "execution_count": 72,
   "metadata": {},
   "outputs": [
    {
     "name": "stderr",
     "output_type": "stream",
     "text": [
      "3it [00:00, ?it/s]"
     ]
    },
    {
     "name": "stdout",
     "output_type": "stream",
     "text": [
      "Solved in 3 steps (3 tiles)\n"
     ]
    },
    {
     "name": "stderr",
     "output_type": "stream",
     "text": [
      "\n"
     ]
    }
   ],
   "source": [
    "frontier = PriorityQueue()\n",
    "state = State(set(), set(items))\n",
    "frontier.put((f(state), state))\n",
    "\n",
    "counter = 0\n",
    "_, current_state = frontier.get()\n",
    "current_weight = compute_weight(current_state)\n",
    "with tqdm(total=None) as pbar:\n",
    "    while not goal_check(current_state):\n",
    "        counter += 1\n",
    "        for item in current_state[1]:\n",
    "            if current_weight + weights[item] <= FINAL_WEIGHT:\n",
    "                new_state = State(\n",
    "                    current_state.taken ^ {item},\n",
    "                    current_state.not_taken ^ {item},\n",
    "                )\n",
    "                frontier.put((f(new_state), new_state))\n",
    "        _, current_state = frontier.get() # being a priorityQ, the next state will be the one with minimum f\n",
    "        current_weight = compute_weight(current_state)\n",
    "        pbar.update(1)\n",
    "\n",
    "print(f\"Solved in {counter:,} steps ({len(current_state.taken)} tiles)\")"
   ]
  },
  {
   "cell_type": "markdown",
   "metadata": {},
   "source": [
    "## A*"
   ]
  },
  {
   "cell_type": "code",
   "execution_count": 73,
   "metadata": {},
   "outputs": [],
   "source": [
    "def get_candidates(v, n_to_take, mw):\n",
    "    lenv = len(v)\n",
    "    ii = np.array(range(n_to_take))\n",
    "    candidates = []\n",
    "    end = False\n",
    "    cc = [v[iii] for iii in ii]\n",
    "    ccc = 0\n",
    "    for c in cc: ccc += weights[c]\n",
    "    if ccc == mw: return True\n",
    "    while not end:\n",
    "        ii[-1] += 1\n",
    "        for i in range(1, n_to_take):\n",
    "            if ii[-i] == lenv + 1 - i:\n",
    "                ii[-i -1] += 1\n",
    "                for k in range(-i, 0):\n",
    "                    ii[k] = ii[k - 1] + 1\n",
    "        if ii[0] == lenv - (n_to_take - 1): end = True\n",
    "        else:\n",
    "            cc = [v[iii] for iii in ii]\n",
    "            ccc = 0\n",
    "            for c in cc: ccc += weights[c]\n",
    "            if ccc == mw: return True\n",
    "\n",
    "    return False\n",
    "\n",
    "def f_mine(state):\n",
    "    current_weight = compute_weight(state)\n",
    "    missing_weight = FINAL_WEIGHT - current_weight\n",
    "\n",
    "    not_ok = True\n",
    "    for item in state.not_taken:\n",
    "        if current_weight + weights[item] <= FINAL_WEIGHT: not_ok = False\n",
    "    if not_ok: return 999999999\n",
    "\n",
    "    min_items = 1\n",
    "    while not get_candidates(list(state.not_taken), min_items, missing_weight): \n",
    "        min_items += 1\n",
    "        if min_items == len(state.not_taken): return 999999999\n",
    "\n",
    "    return len(state.taken) + min_items"
   ]
  },
  {
   "cell_type": "code",
   "execution_count": 74,
   "metadata": {},
   "outputs": [
    {
     "name": "stderr",
     "output_type": "stream",
     "text": [
      "45185it [00:04, 9839.72it/s] "
     ]
    },
    {
     "name": "stdout",
     "output_type": "stream",
     "text": [
      "Solved in 45,185 steps (5 tiles)\n"
     ]
    },
    {
     "name": "stderr",
     "output_type": "stream",
     "text": [
      "\n"
     ]
    }
   ],
   "source": [
    "frontier = PriorityQueue()\n",
    "state = State(set(), set(items))\n",
    "frontier.put((f_mine(state), state))\n",
    "\n",
    "counter = 0\n",
    "ss = []\n",
    "_, current_state = frontier.get()\n",
    "with tqdm(total=None) as pbar:\n",
    "    while not goal_check(current_state):\n",
    "        counter += 1\n",
    "        for action in current_state[1]:\n",
    "            new_state = State(\n",
    "                current_state.taken ^ {action},\n",
    "                current_state.not_taken ^ {action},\n",
    "            )\n",
    "            fn = f_mine(new_state)\n",
    "            frontier.put((fn, new_state))\n",
    "            ss.append((fn, new_state))\n",
    "        _, current_state = frontier.get()\n",
    "        pbar.update(1)\n",
    "\n",
    "print(f\"Solved in {counter:,} steps ({len(current_state.taken)} tiles)\")"
   ]
  },
  {
   "cell_type": "markdown",
   "metadata": {},
   "source": [
    "## try two"
   ]
  },
  {
   "cell_type": "code",
   "execution_count": 121,
   "metadata": {},
   "outputs": [
    {
     "name": "stdout",
     "output_type": "stream",
     "text": [
      "{1: 0, 5: 0, 7: 0, 9: 0}\n",
      "{1: 6, 5: 2, 7: 2, 9: 2}\n",
      "[1, 5, 7, 9]\n",
      "not_taken: {1: 6, 5: 2, 7: 2, 9: 2}\n",
      "taken:     {1: 0, 5: 0, 7: 0, 9: 0}\n"
     ]
    }
   ],
   "source": [
    "class Multiset:\n",
    "    def __init__(self, init_values= None):\n",
    "        if init_values is not None:\n",
    "            self.taken, self.not_taken, self.current_weight = init_values\n",
    "\n",
    "    def first_state(self, values):\n",
    "        self.taken = {}\n",
    "        self.not_taken = {}\n",
    "        self.current_weight = 0\n",
    "        for v in values:\n",
    "            try:\n",
    "                self.taken[v]\n",
    "                self.not_taken[v] += 1\n",
    "            except:\n",
    "                self.taken[v] = 0\n",
    "                self.not_taken[v] = 1\n",
    "        print(self.taken)\n",
    "        print(self.not_taken)\n",
    "        return self\n",
    "\n",
    "    def to_take(self):\n",
    "        tt = []\n",
    "        for k in self.not_taken.keys():\n",
    "            if self.not_taken[k] > 0:\n",
    "                tt.append(k)\n",
    "        return tt\n",
    "\n",
    "    def take(self, v):\n",
    "        self.taken[v] += 1\n",
    "        self.not_taken[v] -= 1\n",
    "        self.current_weight += v\n",
    "\n",
    "    def get_current_weight(self): return self.current_weight\n",
    "\n",
    "    def get_missing_weight(self): return FINAL_WEIGHT - self.current_weight\n",
    "\n",
    "    def goal_check(self): return self.current_weight == FINAL_WEIGHT\n",
    "\n",
    "    def copy(self): return Multiset((self.taken.copy(), self.not_taken.copy(), self.current_weight))\n",
    "\n",
    "    def __str__(self): return str(f'not_taken: {self.not_taken}\\ntaken:     {self.taken}')\n",
    "\n",
    "# draw from the bag exploration\n",
    "\n",
    "state = Multiset().first_state(weights)\n",
    "\n",
    "print(state.to_take())\n",
    "print(state)"
   ]
  },
  {
   "cell_type": "markdown",
   "metadata": {},
   "source": [
    "Depth first"
   ]
  },
  {
   "cell_type": "code",
   "execution_count": 116,
   "metadata": {},
   "outputs": [
    {
     "name": "stdout",
     "output_type": "stream",
     "text": [
      "{1: 0, 5: 0, 7: 0, 9: 0}\n",
      "{1: 6, 5: 2, 7: 2, 9: 2}\n"
     ]
    },
    {
     "name": "stderr",
     "output_type": "stream",
     "text": [
      "5it [00:00, ?it/s]"
     ]
    },
    {
     "name": "stdout",
     "output_type": "stream",
     "text": [
      "Solved in 5 steps (4 tiles)\n"
     ]
    },
    {
     "name": "stderr",
     "output_type": "stream",
     "text": [
      "\n"
     ]
    }
   ],
   "source": [
    "frontier = deque()\n",
    "state = Multiset().first_state(weights)\n",
    "frontier.append(state)\n",
    "\n",
    "counter = 0\n",
    "current_state = frontier.pop()\n",
    "current_weight = 0\n",
    "with tqdm(total=None) as pbar:\n",
    "    while not current_state.goal_check():\n",
    "        counter += 1\n",
    "        for item in current_state.to_take(): # for item in not taken items\n",
    "            if current_weight + weights[item] <= FINAL_WEIGHT:\n",
    "                new_state = current_state.copy()\n",
    "                new_state.take(item)\n",
    "                frontier.append(new_state)\n",
    "        current_state = frontier.pop()\n",
    "        current_weight = current_state.get_current_weight()\n",
    "        pbar.update(1)\n",
    "\n",
    "print(f\"Solved in {counter:,} steps ({len(current_state.taken)} tiles)\")"
   ]
  },
  {
   "cell_type": "markdown",
   "metadata": {},
   "source": [
    "Breadth First"
   ]
  },
  {
   "cell_type": "code",
   "execution_count": 119,
   "metadata": {},
   "outputs": [
    {
     "name": "stdout",
     "output_type": "stream",
     "text": [
      "{1: 0, 5: 0, 7: 0, 9: 0}\n",
      "{1: 6, 5: 2, 7: 2, 9: 2}\n"
     ]
    },
    {
     "name": "stderr",
     "output_type": "stream",
     "text": [
      "27it [00:00, ?it/s]"
     ]
    },
    {
     "name": "stdout",
     "output_type": "stream",
     "text": [
      "Solved in 27 steps (4 tiles)\n"
     ]
    },
    {
     "name": "stderr",
     "output_type": "stream",
     "text": [
      "\n"
     ]
    }
   ],
   "source": [
    "frontier = deque()\n",
    "state = Multiset().first_state(weights)\n",
    "frontier.append(state)\n",
    "\n",
    "counter = 0\n",
    "current_state = frontier.popleft()\n",
    "current_weight = 0\n",
    "with tqdm(total=None) as pbar:\n",
    "    while not current_state.goal_check():\n",
    "        counter += 1\n",
    "        for item in current_state.to_take(): # for item in not taken items\n",
    "            if current_weight + weights[item] <= FINAL_WEIGHT:\n",
    "                new_state = current_state.copy()\n",
    "                new_state.take(item)\n",
    "                frontier.append(new_state)\n",
    "        current_state = frontier.popleft()\n",
    "        current_weight = current_state.get_current_weight()\n",
    "        pbar.update(1)\n",
    "\n",
    "print(f\"Solved in {counter:,} steps ({len(current_state.taken)} tiles)\")"
   ]
  },
  {
   "cell_type": "markdown",
   "metadata": {},
   "source": [
    "Greedy Best First"
   ]
  },
  {
   "cell_type": "code",
   "execution_count": 123,
   "metadata": {},
   "outputs": [
    {
     "name": "stdout",
     "output_type": "stream",
     "text": [
      "{1: 0, 5: 0, 7: 0, 9: 0}\n",
      "{1: 6, 5: 2, 7: 2, 9: 2}\n"
     ]
    },
    {
     "name": "stderr",
     "output_type": "stream",
     "text": [
      "5it [00:00, ?it/s]"
     ]
    },
    {
     "name": "stdout",
     "output_type": "stream",
     "text": [
      "Solved in 5 steps (4 tiles)\n"
     ]
    },
    {
     "name": "stderr",
     "output_type": "stream",
     "text": [
      "\n"
     ]
    }
   ],
   "source": [
    "frontier = PriorityQueue()\n",
    "state = Multiset().first_state(weights)\n",
    "frontier.put((state.get_missing_weight(), state))\n",
    "\n",
    "counter = 0\n",
    "_, current_state = frontier.get()\n",
    "current_weight = current_state.get_current_weight()\n",
    "with tqdm(total=None) as pbar:\n",
    "    while not current_state.goal_check():\n",
    "        counter += 1\n",
    "        for item in current_state.to_take():\n",
    "            if current_weight + weights[item] <= FINAL_WEIGHT:\n",
    "                new_state = current_state.copy()\n",
    "                new_state.take(item)\n",
    "                frontier.put((new_state.get_missing_weight(), new_state))\n",
    "        _, current_state = frontier.get() # being a priorityQ, the next state will be the one with minimum f\n",
    "        current_weight = current_state.get_current_weight()\n",
    "        pbar.update(1)\n",
    "\n",
    "print(f\"Solved in {counter:,} steps ({len(current_state.taken)} tiles)\")"
   ]
  },
  {
   "cell_type": "markdown",
   "metadata": {},
   "source": [
    "## try three"
   ]
  },
  {
   "cell_type": "code",
   "execution_count": 7,
   "metadata": {},
   "outputs": [
    {
     "name": "stdout",
     "output_type": "stream",
     "text": [
      "[False False False False False False False False False False False False]\n"
     ]
    }
   ],
   "source": [
    "# single state for each element (taken/not taken)\n",
    "\n",
    "state = np.zeros(len(weights), dtype= bool)\n",
    "\n",
    "print(state)"
   ]
  }
 ],
 "metadata": {
  "kernelspec": {
   "display_name": "Python 3",
   "language": "python",
   "name": "python3"
  },
  "language_info": {
   "codemirror_mode": {
    "name": "ipython",
    "version": 3
   },
   "file_extension": ".py",
   "mimetype": "text/x-python",
   "name": "python",
   "nbconvert_exporter": "python",
   "pygments_lexer": "ipython3",
   "version": "3.10.11"
  }
 },
 "nbformat": 4,
 "nbformat_minor": 2
}
