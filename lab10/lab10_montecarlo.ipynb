{
 "cells": [
  {
   "cell_type": "markdown",
   "metadata": {},
   "source": [
    "Copyright **`(c)`** 2023 Giovanni Squillero `<giovanni.squillero@polito.it>`  \n",
    "[`https://github.com/squillero/computational-intelligence`](https://github.com/squillero/computational-intelligence)  \n",
    "Free for personal or classroom use; see [`LICENSE.md`](https://github.com/squillero/computational-intelligence/blob/master/LICENSE.md) for details.  "
   ]
  },
  {
   "cell_type": "code",
   "execution_count": 179,
   "metadata": {},
   "outputs": [],
   "source": [
    "from itertools import combinations\n",
    "from collections import namedtuple, defaultdict\n",
    "from random import choice\n",
    "from copy import deepcopy\n",
    "\n",
    "from tqdm.auto import tqdm\n",
    "import numpy as np"
   ]
  },
  {
   "cell_type": "code",
   "execution_count": 180,
   "metadata": {},
   "outputs": [],
   "source": [
    "State = namedtuple('State', ['x', 'o'])"
   ]
  },
  {
   "cell_type": "code",
   "execution_count": 181,
   "metadata": {},
   "outputs": [],
   "source": [
    "MAGIC = [2, 7, 6, 9, 5, 1, 4, 3, 8]"
   ]
  },
  {
   "cell_type": "code",
   "execution_count": 182,
   "metadata": {},
   "outputs": [],
   "source": [
    "def print_board(pos):\n",
    "    \"\"\"Nicely prints the board\"\"\"\n",
    "    for r in range(3):\n",
    "        for c in range(3):\n",
    "            i = r * 3 + c\n",
    "            if MAGIC[i] in pos.x:\n",
    "                print('X', end='')\n",
    "            elif MAGIC[i] in pos.o:\n",
    "                print('O', end='')\n",
    "            else:\n",
    "                print('.', end='')\n",
    "        print()\n",
    "    print()"
   ]
  },
  {
   "cell_type": "code",
   "execution_count": 183,
   "metadata": {},
   "outputs": [],
   "source": [
    "def win(elements):\n",
    "    \"\"\"Checks is elements is winning\"\"\"\n",
    "    return any(sum(c) == 15 for c in combinations(elements, 3))\n",
    "\n",
    "def state_value(pos: State):\n",
    "    \"\"\"Evaluate state: +1 first player wins\"\"\"\n",
    "    if win(pos.x):\n",
    "        return 1\n",
    "    elif win(pos.o):\n",
    "        return -1\n",
    "    else:\n",
    "        return 0"
   ]
  },
  {
   "cell_type": "code",
   "execution_count": 184,
   "metadata": {},
   "outputs": [],
   "source": [
    "class Random_player:\n",
    "    def __init__(self): pass\n",
    "\n",
    "    def move(self, ally_state, enemy_state, available): return choice(list(available))"
   ]
  },
  {
   "cell_type": "code",
   "execution_count": 185,
   "metadata": {},
   "outputs": [],
   "source": [
    "class Player:\n",
    "    def __init__(self, moves_dict): self.moves_dict = moves_dict\n",
    "        \n",
    "    def move(self, ally_state, enemy_state, available):\n",
    "\n",
    "        ally_state = frozenset(ally_state)\n",
    "        enemy_state = frozenset(enemy_state)\n",
    "        \n",
    "        if enemy_state in self.moves_dict.keys():\n",
    "\n",
    "            for possible_configuration in self.moves_dict[enemy_state]:\n",
    "                n_not_in = 0\n",
    "                move = None\n",
    "                for k in possible_configuration:\n",
    "                    if k not in ally_state:\n",
    "                        n_not_in += 1\n",
    "                        move = k\n",
    "                if n_not_in == 1 and move in available: return move\n",
    "\n",
    "        #print('going random')\n",
    "        return choice(list(available))"
   ]
  },
  {
   "cell_type": "code",
   "execution_count": 186,
   "metadata": {},
   "outputs": [],
   "source": [
    "def game(player_1, player_2):\n",
    "    trajectory = list()\n",
    "    state = State(set(), set())\n",
    "    available = set(range(1, 10))\n",
    "    winner = 0\n",
    "    while available:\n",
    "        move = player_1.move(state.x, state.o, available)\n",
    "        state.x.add(move)\n",
    "        trajectory.append(deepcopy(state))\n",
    "        available.remove(move)\n",
    "        if win(state.x):\n",
    "            winner = 1\n",
    "            break\n",
    "        if not available:\n",
    "            break\n",
    "\n",
    "        move = player_2.move(state.o, state.x, available)\n",
    "        state.o.add(move)\n",
    "        trajectory.append(deepcopy(state))\n",
    "        available.remove(move)\n",
    "        if win(state.o): \n",
    "            winner = 2\n",
    "            break\n",
    "\n",
    "    return trajectory, winner"
   ]
  },
  {
   "cell_type": "code",
   "execution_count": 187,
   "metadata": {},
   "outputs": [],
   "source": [
    "def update_val_dict(val_dict, trajectory, reward, epsilon):\n",
    "    for state in trajectory:\n",
    "        hashable_state = (frozenset(state.x), frozenset(state.o))\n",
    "        val_dict[hashable_state] = val_dict[\n",
    "            hashable_state\n",
    "        ] + epsilon * (reward - val_dict[hashable_state])"
   ]
  },
  {
   "cell_type": "code",
   "execution_count": 188,
   "metadata": {},
   "outputs": [],
   "source": [
    "def compute_move_dict(val_dict):\n",
    "\n",
    "    moves_dict = defaultdict()\n",
    "\n",
    "    for x in sorted(val_dict.items(), key=lambda e: e[1], reverse=True):\n",
    "        if x[0][1] not in moves_dict.keys(): moves_dict[x[0][1]] = []\n",
    "        else: moves_dict[x[0][1]].append(x[0][0])\n",
    "\n",
    "    return moves_dict"
   ]
  },
  {
   "cell_type": "code",
   "execution_count": 189,
   "metadata": {},
   "outputs": [],
   "source": [
    "def init_val_dict(epsilon, n_tries):\n",
    "\n",
    "    value_dictionary = defaultdict(float)\n",
    "    random_player = Random_player()\n",
    "\n",
    "    for _ in tqdm(range(n_tries)):\n",
    "        trajectory, _ = game(random_player, random_player)\n",
    "        final_reward = state_value(trajectory[-1])\n",
    "        update_val_dict(value_dictionary, trajectory, final_reward, epsilon)\n",
    "\n",
    "    return value_dictionary"
   ]
  },
  {
   "cell_type": "code",
   "execution_count": 190,
   "metadata": {},
   "outputs": [],
   "source": [
    "EPSILON = 0.001"
   ]
  },
  {
   "cell_type": "code",
   "execution_count": 191,
   "metadata": {},
   "outputs": [
    {
     "name": "stderr",
     "output_type": "stream",
     "text": [
      "100%|██████████| 5000/5000 [00:00<00:00, 9213.13it/s]\n"
     ]
    },
    {
     "name": "stdout",
     "output_type": "stream",
     "text": [
      "player won 878 times as first and 218 as second, total: 1096\n",
      "random won 585 times as first and 63 as second, total: 648\n",
      "draw games: 59 times with player first and 197 with player second: total: 256\n"
     ]
    }
   ],
   "source": [
    "value_dictionary = init_val_dict(EPSILON, 5_000)\n",
    "\n",
    "moves_dict = compute_move_dict(value_dictionary)\n",
    "\n",
    "win_player_first = 0\n",
    "win_rand_first = 0\n",
    "win_player_second = 0\n",
    "win_rand_second = 0\n",
    "draw_player_first = 0\n",
    "draw_player_second = 0\n",
    "\n",
    "player = Player(moves_dict)\n",
    "random_player = Random_player()\n",
    "\n",
    "for _ in range(1000):\n",
    "\n",
    "    trajectory, winner = game(player, random_player)\n",
    "    if winner == 1: win_player_first += 1\n",
    "    elif winner == 2: win_rand_second += 1\n",
    "    else: draw_player_first += 1\n",
    "\n",
    "    #if winner == 1: update_val_dict(value_dictionary, trajectory, 1, EPSILON)\n",
    "    #elif winner == 2: update_val_dict(value_dictionary, trajectory, -1, EPSILON)\n",
    "    #moves_dict = compute_move_dict(value_dictionary)\n",
    "\n",
    "    trajectory, winner = game(random_player, player)\n",
    "    if winner == 2: win_player_second += 1\n",
    "    elif winner == 1: win_rand_first += 1\n",
    "    else: draw_player_second += 1\n",
    "\n",
    "    #if winner == 1: update_val_dict(value_dictionary, trajectory, 1, EPSILON)\n",
    "    #elif winner == 2: update_val_dict(value_dictionary, trajectory, -1, EPSILON)\n",
    "    #moves_dict = compute_move_dict(value_dictionary)\n",
    "    #player = Player(moves_dict)\n",
    "   \n",
    "\n",
    "print(f'player won {win_player_first} times as first and {win_player_second} as second, total: {win_player_first + win_player_second}')\n",
    "print(f'random won {win_rand_first} times as first and {win_rand_second} as second, total: {win_rand_first + win_rand_second}')\n",
    "print(f'draw games: {draw_player_first} times with player first and {draw_player_second} with player second: total: {draw_player_first + draw_player_second}')"
   ]
  },
  {
   "cell_type": "code",
   "execution_count": 192,
   "metadata": {},
   "outputs": [
    {
     "name": "stderr",
     "output_type": "stream",
     "text": [
      "100%|██████████| 5000000/5000000 [08:47<00:00, 9486.20it/s]\n"
     ]
    },
    {
     "name": "stdout",
     "output_type": "stream",
     "text": [
      "player won 965 times as first and 284 as second, total: 1249\n",
      "random won 332 times as first and 9 as second, total: 341\n",
      "draw games: 26 times with player first and 384 with player second: total: 410\n"
     ]
    }
   ],
   "source": [
    "value_dictionary = init_val_dict(EPSILON, 5_000_000)\n",
    "\n",
    "moves_dict = compute_move_dict(value_dictionary)\n",
    "\n",
    "win_player_first = 0\n",
    "win_rand_first = 0\n",
    "win_player_second = 0\n",
    "win_rand_second = 0\n",
    "draw_player_first = 0\n",
    "draw_player_second = 0\n",
    "\n",
    "player = Player(moves_dict)\n",
    "random_player = Random_player()\n",
    "\n",
    "for _ in range(1000):\n",
    "\n",
    "    trajectory, winner = game(player, random_player)\n",
    "    if winner == 1: win_player_first += 1\n",
    "    elif winner == 2: win_rand_second += 1\n",
    "    else: draw_player_first += 1\n",
    "\n",
    "    #if winner == 1: update_val_dict(value_dictionary, trajectory, 1, EPSILON)\n",
    "    #elif winner == 2: update_val_dict(value_dictionary, trajectory, -1, EPSILON)\n",
    "    #moves_dict = compute_move_dict(value_dictionary)\n",
    "\n",
    "    trajectory, winner = game(random_player, player)\n",
    "    if winner == 2: win_player_second += 1\n",
    "    elif winner == 1: win_rand_first += 1\n",
    "    else: draw_player_second += 1\n",
    "\n",
    "    #if winner == 1: update_val_dict(value_dictionary, trajectory, 1, EPSILON)\n",
    "    #elif winner == 2: update_val_dict(value_dictionary, trajectory, -1, EPSILON)\n",
    "    #moves_dict = compute_move_dict(value_dictionary)\n",
    "    #player = Player(moves_dict)\n",
    "   \n",
    "\n",
    "print(f'player won {win_player_first} times as first and {win_player_second} as second, total: {win_player_first + win_player_second}')\n",
    "print(f'random won {win_rand_first} times as first and {win_rand_second} as second, total: {win_rand_first + win_rand_second}')\n",
    "print(f'draw games: {draw_player_first} times with player first and {draw_player_second} with player second: total: {draw_player_first + draw_player_second}')"
   ]
  },
  {
   "cell_type": "code",
   "execution_count": 193,
   "metadata": {},
   "outputs": [
    {
     "name": "stderr",
     "output_type": "stream",
     "text": [
      "100%|██████████| 50000000/50000000 [1:31:19<00:00, 9124.67it/s]\n"
     ]
    },
    {
     "name": "stdout",
     "output_type": "stream",
     "text": [
      "player won 990 times as first and 363 as second, total: 1353\n",
      "random won 317 times as first and 1 as second, total: 318\n",
      "draw games: 9 times with player first and 320 with player second: total: 329\n"
     ]
    }
   ],
   "source": [
    "value_dictionary = init_val_dict(EPSILON, 50_000_000)\n",
    "\n",
    "moves_dict = compute_move_dict(value_dictionary)\n",
    "\n",
    "win_player_first = 0\n",
    "win_rand_first = 0\n",
    "win_player_second = 0\n",
    "win_rand_second = 0\n",
    "draw_player_first = 0\n",
    "draw_player_second = 0\n",
    "\n",
    "player = Player(moves_dict)\n",
    "random_player = Random_player()\n",
    "\n",
    "for _ in range(1000):\n",
    "\n",
    "    trajectory, winner = game(player, random_player)\n",
    "    if winner == 1: win_player_first += 1\n",
    "    elif winner == 2: win_rand_second += 1\n",
    "    else: draw_player_first += 1\n",
    "\n",
    "    #if winner == 1: update_val_dict(value_dictionary, trajectory, 1, EPSILON)\n",
    "    #elif winner == 2: update_val_dict(value_dictionary, trajectory, -1, EPSILON)\n",
    "    #moves_dict = compute_move_dict(value_dictionary)\n",
    "\n",
    "    trajectory, winner = game(random_player, player)\n",
    "    if winner == 2: win_player_second += 1\n",
    "    elif winner == 1: win_rand_first += 1\n",
    "    else: draw_player_second += 1\n",
    "\n",
    "    #if winner == 1: update_val_dict(value_dictionary, trajectory, 1, EPSILON)\n",
    "    #elif winner == 2: update_val_dict(value_dictionary, trajectory, -1, EPSILON)\n",
    "    #moves_dict = compute_move_dict(value_dictionary)\n",
    "    #player = Player(moves_dict)\n",
    "   \n",
    "\n",
    "print(f'player won {win_player_first} times as first and {win_player_second} as second, total: {win_player_first + win_player_second}')\n",
    "print(f'random won {win_rand_first} times as first and {win_rand_second} as second, total: {win_rand_first + win_rand_second}')\n",
    "print(f'draw games: {draw_player_first} times with player first and {draw_player_second} with player second: total: {draw_player_first + draw_player_second}')"
   ]
  }
 ],
 "metadata": {
  "kernelspec": {
   "display_name": "ci-P-7LqQ3C-py3.11",
   "language": "python",
   "name": "python3"
  },
  "language_info": {
   "codemirror_mode": {
    "name": "ipython",
    "version": 3
   },
   "file_extension": ".py",
   "mimetype": "text/x-python",
   "name": "python",
   "nbconvert_exporter": "python",
   "pygments_lexer": "ipython3",
   "version": "3.10.11"
  }
 },
 "nbformat": 4,
 "nbformat_minor": 2
}
