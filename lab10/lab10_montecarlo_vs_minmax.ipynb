{
 "cells": [
  {
   "cell_type": "markdown",
   "metadata": {},
   "source": [
    "Copyright **`(c)`** 2023 Giovanni Squillero `<giovanni.squillero@polito.it>`  \n",
    "[`https://github.com/squillero/computational-intelligence`](https://github.com/squillero/computational-intelligence)  \n",
    "Free for personal or classroom use; see [`LICENSE.md`](https://github.com/squillero/computational-intelligence/blob/master/LICENSE.md) for details.  "
   ]
  },
  {
   "cell_type": "code",
   "execution_count": 31,
   "metadata": {},
   "outputs": [],
   "source": [
    "from itertools import combinations\n",
    "from collections import namedtuple, defaultdict\n",
    "from random import choice\n",
    "from copy import deepcopy\n",
    "\n",
    "from tqdm.auto import tqdm\n",
    "import numpy as np"
   ]
  },
  {
   "cell_type": "code",
   "execution_count": 32,
   "metadata": {},
   "outputs": [],
   "source": [
    "State = namedtuple('State', ['x', 'o'])"
   ]
  },
  {
   "cell_type": "code",
   "execution_count": 33,
   "metadata": {},
   "outputs": [],
   "source": [
    "MAGIC = [2, 7, 6, 9, 5, 1, 4, 3, 8]"
   ]
  },
  {
   "cell_type": "code",
   "execution_count": 34,
   "metadata": {},
   "outputs": [],
   "source": [
    "def print_board(pos):\n",
    "    \"\"\"Nicely prints the board\"\"\"\n",
    "    for r in range(3):\n",
    "        for c in range(3):\n",
    "            i = r * 3 + c\n",
    "            if MAGIC[i] in pos.x:\n",
    "                print('X', end='')\n",
    "            elif MAGIC[i] in pos.o:\n",
    "                print('O', end='')\n",
    "            else:\n",
    "                print('.', end='')\n",
    "        print()\n",
    "    print()"
   ]
  },
  {
   "cell_type": "code",
   "execution_count": 35,
   "metadata": {},
   "outputs": [],
   "source": [
    "def win(elements):\n",
    "    \"\"\"Checks is elements is winning\"\"\"\n",
    "    return any(sum(c) == 15 for c in combinations(elements, 3))\n",
    "\n",
    "def state_value(pos: State):\n",
    "    \"\"\"Evaluate state: +1 first player wins\"\"\"\n",
    "    if win(pos.x):\n",
    "        return 1\n",
    "    elif win(pos.o):\n",
    "        return -1\n",
    "    else:\n",
    "        return 0"
   ]
  },
  {
   "cell_type": "code",
   "execution_count": 36,
   "metadata": {},
   "outputs": [],
   "source": [
    "class Random_player:\n",
    "    def __init__(self): pass\n",
    "\n",
    "    def move(self, state, available, player): return choice(list(available))"
   ]
  },
  {
   "cell_type": "code",
   "execution_count": 37,
   "metadata": {},
   "outputs": [],
   "source": [
    "class Player_montecarlo:\n",
    "    def __init__(self, moves_dict): self.moves_dict = moves_dict\n",
    "        \n",
    "    def move(self, state, available, player):\n",
    "\n",
    "        if player == 0:\n",
    "            ally_state = frozenset(state.x)\n",
    "            enemy_state = frozenset(state.o)\n",
    "        else:\n",
    "            ally_state = frozenset(state.o)\n",
    "            enemy_state = frozenset(state.x)\n",
    "        \n",
    "        if enemy_state in self.moves_dict.keys():\n",
    "\n",
    "            for possible_configuration in self.moves_dict[enemy_state]:\n",
    "                n_not_in = 0\n",
    "                move = None\n",
    "                for k in possible_configuration:\n",
    "                    if k not in ally_state:\n",
    "                        n_not_in += 1\n",
    "                        move = k\n",
    "                if n_not_in == 1 and move in available: return move\n",
    "\n",
    "        #print('going random')\n",
    "        return choice(list(available))"
   ]
  },
  {
   "cell_type": "code",
   "execution_count": 38,
   "metadata": {},
   "outputs": [],
   "source": [
    "def game(player_1, player_2):\n",
    "    trajectory = list()\n",
    "    state = State(set(), set())\n",
    "    available = set(range(1, 10))\n",
    "    winner = 0\n",
    "    while available:\n",
    "        move = player_1.move(state, available, 0)\n",
    "        state.x.add(move)\n",
    "        trajectory.append(deepcopy(state))\n",
    "        available.remove(move)\n",
    "        if win(state.x):\n",
    "            winner = 1\n",
    "            break\n",
    "        if not available:\n",
    "            break\n",
    "\n",
    "        move = player_2.move(state, available, 1)\n",
    "        state.o.add(move)\n",
    "        trajectory.append(deepcopy(state))\n",
    "        available.remove(move)\n",
    "        if win(state.o): \n",
    "            winner = 2\n",
    "            break\n",
    "\n",
    "    return trajectory, winner"
   ]
  },
  {
   "cell_type": "code",
   "execution_count": 39,
   "metadata": {},
   "outputs": [],
   "source": [
    "def update_val_dict(val_dict, trajectory, reward, epsilon):\n",
    "    for state in trajectory:\n",
    "        hashable_state = (frozenset(state.x), frozenset(state.o))\n",
    "        val_dict[hashable_state] = val_dict[\n",
    "            hashable_state\n",
    "        ] + epsilon * (reward - val_dict[hashable_state])"
   ]
  },
  {
   "cell_type": "code",
   "execution_count": 40,
   "metadata": {},
   "outputs": [],
   "source": [
    "def compute_move_dict(val_dict):\n",
    "\n",
    "    moves_dict = defaultdict()\n",
    "\n",
    "    for x in sorted(val_dict.items(), key=lambda e: e[1], reverse=True):\n",
    "        if x[0][1] not in moves_dict.keys(): moves_dict[x[0][1]] = []\n",
    "        else: moves_dict[x[0][1]].append(x[0][0])\n",
    "\n",
    "    return moves_dict"
   ]
  },
  {
   "cell_type": "code",
   "execution_count": 41,
   "metadata": {},
   "outputs": [],
   "source": [
    "def init_val_dict(epsilon, n_tries):\n",
    "\n",
    "    value_dictionary = defaultdict(float)\n",
    "    random_player = Random_player()\n",
    "\n",
    "    for _ in tqdm(range(n_tries)):\n",
    "        trajectory, _ = game(random_player, random_player)\n",
    "        final_reward = state_value(trajectory[-1])\n",
    "        update_val_dict(value_dictionary, trajectory, final_reward, epsilon)\n",
    "\n",
    "    return value_dictionary"
   ]
  },
  {
   "cell_type": "code",
   "execution_count": 42,
   "metadata": {},
   "outputs": [],
   "source": [
    "def rec_x(state, available, player, moves_dict_x):\n",
    "\n",
    "    state_val = state_value(state)\n",
    "    if state_val != 0 or not available: return state_val\n",
    "\n",
    "    if player == 0:\n",
    "        max_eval = -2\n",
    "        best_x = None\n",
    "\n",
    "        for x in available:\n",
    "\n",
    "            new_state = deepcopy(state)\n",
    "            new_available = available.copy()\n",
    "            new_available.remove(x)\n",
    "            new_state.x.add(x)\n",
    "\n",
    "            x_eval = rec_x(new_state, new_available, 1 - player, moves_dict_x)\n",
    "\n",
    "            #max_eval = max(max_eval, x_eval)\n",
    "            if x_eval > max_eval:\n",
    "                max_eval = x_eval\n",
    "                best_x = x\n",
    "\n",
    "        moves_dict_x[(frozenset(state.x), frozenset(state.o))] = best_x\n",
    "        \n",
    "        return max_eval\n",
    "    \n",
    "    else:\n",
    "        min_eval = 2\n",
    "\n",
    "        for o in available:\n",
    "\n",
    "            new_state = deepcopy(state)\n",
    "            new_available = available.copy()\n",
    "            new_available.remove(o)\n",
    "            new_state.o.add(o)\n",
    "\n",
    "            o_eval = rec_x(new_state, new_available, 1 - player, moves_dict_x)\n",
    "\n",
    "            min_eval = min(min_eval, o_eval)\n",
    "\n",
    "        return min_eval\n",
    "    \n",
    "class Player_x:\n",
    "    def __init__(self):\n",
    "        self.moves_dict_x = {}\n",
    "        _ = self.compute_moves_x(State(set(), set()), set(range(1, 10)), self.moves_dict_x)\n",
    "    \n",
    "    def compute_moves_x(self, state, available, moves_dict_x):\n",
    "\n",
    "        best_val = -2\n",
    "        best_move = None\n",
    "\n",
    "        for move in available:\n",
    "\n",
    "            new_state = deepcopy(state)\n",
    "            new_available = available.copy()\n",
    "            new_available.remove(move)\n",
    "            new_state.x.add(move)\n",
    "\n",
    "            move_eval = rec_x(new_state, new_available, 1, moves_dict_x)\n",
    "\n",
    "            if move_eval > best_val:\n",
    "                best_val = move_eval\n",
    "                best_move = move\n",
    "\n",
    "        moves_dict_x[(frozenset(state.x), frozenset(state.o))] = best_move\n",
    "        return best_move\n",
    "    \n",
    "    def move(self, state, available, player):\n",
    "        hashable_state = (frozenset(state.x), frozenset(state.o))\n",
    "        if hashable_state in self.moves_dict_x.keys(): return self.moves_dict_x[hashable_state]\n",
    "        else: return self.compute_moves_x(state, available, self.moves_dict_x)"
   ]
  },
  {
   "cell_type": "code",
   "execution_count": 43,
   "metadata": {},
   "outputs": [],
   "source": [
    "def rec_o(state, available, player, moves_dict_o):\n",
    "\n",
    "    state_val = state_value(state)\n",
    "    if state_val != 0 or not available: return state_val\n",
    "\n",
    "    if player == 0:\n",
    "        max_eval = -2\n",
    "\n",
    "        for x in available:\n",
    "\n",
    "            new_state = deepcopy(state)\n",
    "            new_available = available.copy()\n",
    "            new_available.remove(x)\n",
    "            new_state.x.add(x)\n",
    "\n",
    "            x_eval = rec_o(new_state, new_available, 1 - player, moves_dict_o)\n",
    "\n",
    "            max_eval = max(max_eval, x_eval)\n",
    "        \n",
    "        return max_eval\n",
    "    \n",
    "    else:\n",
    "        min_eval = 2\n",
    "        best_o = None\n",
    "\n",
    "        for o in available:\n",
    "\n",
    "            new_state = deepcopy(state)\n",
    "            new_available = available.copy()\n",
    "            new_available.remove(o)\n",
    "            new_state.o.add(o)\n",
    "\n",
    "            o_eval = rec_o(new_state, new_available, 1 - player, moves_dict_o)\n",
    "\n",
    "            #min_eval = min(min_eval, o_eval)\n",
    "            if o_eval < min_eval:\n",
    "                min_eval = o_eval\n",
    "                best_o = o\n",
    "\n",
    "        moves_dict_o[(frozenset(state.x), frozenset(state.o))] = best_o\n",
    "\n",
    "        return min_eval\n",
    "    \n",
    "class Player_o:\n",
    "    def __init__(self):\n",
    "        self.moves_dict_o = {}\n",
    "        _ = self.compute_moves_o(State(set(), set()), set(range(1, 10)), self.moves_dict_o)\n",
    "    \n",
    "    def compute_moves_o(self, state, available, moves_dict_o):\n",
    "\n",
    "        best_val = -2\n",
    "        best_move = None\n",
    "\n",
    "        for move in available:\n",
    "\n",
    "            new_state = deepcopy(state)\n",
    "            new_available = available.copy()\n",
    "            new_available.remove(move)\n",
    "            new_state.o.add(move)\n",
    "\n",
    "            move_eval = rec_o(new_state, new_available, 0, moves_dict_o)\n",
    "\n",
    "            if move_eval > best_val:\n",
    "                best_val = move_eval\n",
    "                best_move = move\n",
    "\n",
    "        moves_dict_o[(frozenset(state.x), frozenset(state.o))] = best_move\n",
    "        return best_move\n",
    "    \n",
    "    def move(self, state, available, player):\n",
    "        hashable_state = (frozenset(state.x), frozenset(state.o))\n",
    "        if hashable_state in self.moves_dict_o.keys(): return self.moves_dict_o[hashable_state]\n",
    "        else: return self.compute_moves_o(state, available, self.moves_dict_o)"
   ]
  },
  {
   "cell_type": "code",
   "execution_count": 44,
   "metadata": {},
   "outputs": [],
   "source": [
    "EPSILON = 0.001"
   ]
  },
  {
   "cell_type": "code",
   "execution_count": 48,
   "metadata": {},
   "outputs": [
    {
     "name": "stderr",
     "output_type": "stream",
     "text": [
      "100%|██████████| 5000/5000 [00:00<00:00, 8764.67it/s]\n"
     ]
    },
    {
     "name": "stdout",
     "output_type": "stream",
     "text": [
      "montecarlo won 855 times as first and 226 as second, total: 1081\n",
      "random won 558 times as first and 64 as second, total: 622\n",
      "draw games: 81 times with player first and 216 with player second: total: 297\n"
     ]
    }
   ],
   "source": [
    "value_dictionary = init_val_dict(EPSILON, 5_000)\n",
    "\n",
    "moves_dict = compute_move_dict(value_dictionary)\n",
    "\n",
    "win_player_first = 0\n",
    "win_rand_first = 0\n",
    "win_player_second = 0\n",
    "win_rand_second = 0\n",
    "draw_player_first = 0\n",
    "draw_player_second = 0\n",
    "\n",
    "player = Player_montecarlo(moves_dict)\n",
    "rand_player = Random_player()\n",
    "\n",
    "for _ in range(1000):\n",
    "\n",
    "    _, winner = game(player, rand_player)\n",
    "    if winner == 1: win_player_first += 1\n",
    "    elif winner == 2: win_rand_second += 1\n",
    "    else: draw_player_first += 1\n",
    "\n",
    "    _, winner = game(rand_player, player)\n",
    "    if winner == 2: win_player_second += 1\n",
    "    elif winner == 1: win_rand_first += 1\n",
    "    else: draw_player_second += 1\n",
    "   \n",
    "\n",
    "print(f'montecarlo won {win_player_first} times as first and {win_player_second} as second, total: {win_player_first + win_player_second}')\n",
    "print(f'random won {win_rand_first} times as first and {win_rand_second} as second, total: {win_rand_first + win_rand_second}')\n",
    "print(f'draw games: {draw_player_first} times with player first and {draw_player_second} with player second: total: {draw_player_first + draw_player_second}')"
   ]
  },
  {
   "cell_type": "code",
   "execution_count": 53,
   "metadata": {},
   "outputs": [
    {
     "name": "stdout",
     "output_type": "stream",
     "text": [
      "random won 157 times as first and 0 as second, total: 157\n",
      "minmax won 899 times as first and 593 as second, total: 1492\n",
      "draw games: 250 times with player first and 101 with player second: total: 351\n"
     ]
    }
   ],
   "source": [
    "win_player_first = 0\n",
    "win_rand_first = 0\n",
    "win_player_second = 0\n",
    "win_rand_second = 0\n",
    "draw_player_first = 0\n",
    "draw_player_second = 0\n",
    "\n",
    "rand_player = Random_player()\n",
    "player_x = Player_x()\n",
    "player_o = Player_o()\n",
    "\n",
    "for _ in range(1000):\n",
    "\n",
    "    _, winner = game(rand_player, player_o)\n",
    "    if winner == 1: win_player_first += 1\n",
    "    elif winner == 2: win_rand_second += 1\n",
    "    else: draw_player_first += 1\n",
    "\n",
    "    _, winner = game(player_x, rand_player)\n",
    "    if winner == 2: win_player_second += 1\n",
    "    elif winner == 1: win_rand_first += 1\n",
    "    else: draw_player_second += 1\n",
    "   \n",
    "\n",
    "print(f'random won {win_player_first} times as first and {win_player_second} as second, total: {win_player_first + win_player_second}')\n",
    "print(f'minmax won {win_rand_first} times as first and {win_rand_second} as second, total: {win_rand_first + win_rand_second}')\n",
    "print(f'draw games: {draw_player_first} times with player first and {draw_player_second} with player second: total: {draw_player_first + draw_player_second}')"
   ]
  },
  {
   "cell_type": "code",
   "execution_count": 51,
   "metadata": {},
   "outputs": [
    {
     "name": "stderr",
     "output_type": "stream",
     "text": [
      "100%|██████████| 5000/5000 [00:00<00:00, 8688.69it/s]\n"
     ]
    },
    {
     "name": "stdout",
     "output_type": "stream",
     "text": [
      "montecarlo won 0 times as first and 0 as second, total: 0\n",
      "minmax won 0 times as first and 0 as second, total: 0\n",
      "draw games: 1000 times with player first and 1000 with player second: total: 2000\n"
     ]
    }
   ],
   "source": [
    "value_dictionary = init_val_dict(EPSILON, 5_000)\n",
    "\n",
    "moves_dict = compute_move_dict(value_dictionary)\n",
    "\n",
    "win_player_first = 0\n",
    "win_rand_first = 0\n",
    "win_player_second = 0\n",
    "win_rand_second = 0\n",
    "draw_player_first = 0\n",
    "draw_player_second = 0\n",
    "\n",
    "player = Player_montecarlo(moves_dict)\n",
    "player_x = Player_x()\n",
    "player_o = Player_o()\n",
    "\n",
    "for _ in range(1000):\n",
    "\n",
    "    _, winner = game(player, player_o)\n",
    "    if winner == 1: win_player_first += 1\n",
    "    elif winner == 2: win_rand_second += 1\n",
    "    else: draw_player_first += 1\n",
    "\n",
    "    _, winner = game(player_x, player)\n",
    "    if winner == 2: win_player_second += 1\n",
    "    elif winner == 1: win_rand_first += 1\n",
    "    else: draw_player_second += 1\n",
    "   \n",
    "\n",
    "print(f'montecarlo won {win_player_first} times as first and {win_player_second} as second, total: {win_player_first + win_player_second}')\n",
    "print(f'minmax won {win_rand_first} times as first and {win_rand_second} as second, total: {win_rand_first + win_rand_second}')\n",
    "print(f'draw games: {draw_player_first} times with player first and {draw_player_second} with player second: total: {draw_player_first + draw_player_second}')"
   ]
  },
  {
   "cell_type": "code",
   "execution_count": 52,
   "metadata": {},
   "outputs": [
    {
     "name": "stderr",
     "output_type": "stream",
     "text": [
      "100%|██████████| 5000000/5000000 [09:32<00:00, 8741.12it/s]\n"
     ]
    },
    {
     "name": "stdout",
     "output_type": "stream",
     "text": [
      "montecarlo won 966 times as first and 259 as second, total: 1225\n",
      "random won 352 times as first and 9 as second, total: 361\n",
      "draw games: 25 times with player first and 389 with player second: total: 414\n"
     ]
    }
   ],
   "source": [
    "value_dictionary = init_val_dict(EPSILON, 5_000_000)\n",
    "\n",
    "moves_dict = compute_move_dict(value_dictionary)\n",
    "\n",
    "win_player_first = 0\n",
    "win_rand_first = 0\n",
    "win_player_second = 0\n",
    "win_rand_second = 0\n",
    "draw_player_first = 0\n",
    "draw_player_second = 0\n",
    "\n",
    "player = Player_montecarlo(moves_dict)\n",
    "rand_player = Random_player()\n",
    "\n",
    "for _ in range(1000):\n",
    "\n",
    "    _, winner = game(player, rand_player)\n",
    "    if winner == 1: win_player_first += 1\n",
    "    elif winner == 2: win_rand_second += 1\n",
    "    else: draw_player_first += 1\n",
    "\n",
    "    _, winner = game(rand_player, player)\n",
    "    if winner == 2: win_player_second += 1\n",
    "    elif winner == 1: win_rand_first += 1\n",
    "    else: draw_player_second += 1\n",
    "   \n",
    "\n",
    "print(f'montecarlo won {win_player_first} times as first and {win_player_second} as second, total: {win_player_first + win_player_second}')\n",
    "print(f'random won {win_rand_first} times as first and {win_rand_second} as second, total: {win_rand_first + win_rand_second}')\n",
    "print(f'draw games: {draw_player_first} times with player first and {draw_player_second} with player second: total: {draw_player_first + draw_player_second}')"
   ]
  },
  {
   "cell_type": "code",
   "execution_count": 54,
   "metadata": {},
   "outputs": [
    {
     "name": "stderr",
     "output_type": "stream",
     "text": [
      "100%|██████████| 5000000/5000000 [09:55<00:00, 8389.71it/s]\n"
     ]
    },
    {
     "name": "stdout",
     "output_type": "stream",
     "text": [
      "montecarlo won 1000 times as first and 0 as second, total: 1000\n",
      "minmax won 1000 times as first and 0 as second, total: 1000\n",
      "draw games: 0 times with player first and 0 with player second: total: 0\n"
     ]
    }
   ],
   "source": [
    "value_dictionary = init_val_dict(EPSILON, 5_000_000)\n",
    "\n",
    "moves_dict = compute_move_dict(value_dictionary)\n",
    "\n",
    "win_player_first = 0\n",
    "win_rand_first = 0\n",
    "win_player_second = 0\n",
    "win_rand_second = 0\n",
    "draw_player_first = 0\n",
    "draw_player_second = 0\n",
    "\n",
    "player = Player_montecarlo(moves_dict)\n",
    "player_x = Player_x()\n",
    "player_o = Player_o()\n",
    "\n",
    "for _ in range(1000):\n",
    "\n",
    "    _, winner = game(player, player_o)\n",
    "    if winner == 1: win_player_first += 1\n",
    "    elif winner == 2: win_rand_second += 1\n",
    "    else: draw_player_first += 1\n",
    "\n",
    "    _, winner = game(player_x, player)\n",
    "    if winner == 2: win_player_second += 1\n",
    "    elif winner == 1: win_rand_first += 1\n",
    "    else: draw_player_second += 1\n",
    "   \n",
    "\n",
    "print(f'montecarlo won {win_player_first} times as first and {win_player_second} as second, total: {win_player_first + win_player_second}')\n",
    "print(f'minmax won {win_rand_first} times as first and {win_rand_second} as second, total: {win_rand_first + win_rand_second}')\n",
    "print(f'draw games: {draw_player_first} times with player first and {draw_player_second} with player second: total: {draw_player_first + draw_player_second}')"
   ]
  }
 ],
 "metadata": {
  "kernelspec": {
   "display_name": "ci-P-7LqQ3C-py3.11",
   "language": "python",
   "name": "python3"
  },
  "language_info": {
   "codemirror_mode": {
    "name": "ipython",
    "version": 3
   },
   "file_extension": ".py",
   "mimetype": "text/x-python",
   "name": "python",
   "nbconvert_exporter": "python",
   "pygments_lexer": "ipython3",
   "version": "3.10.11"
  }
 },
 "nbformat": 4,
 "nbformat_minor": 2
}
