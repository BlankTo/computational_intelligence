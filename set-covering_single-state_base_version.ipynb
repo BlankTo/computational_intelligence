{
 "cells": [
  {
   "cell_type": "markdown",
   "metadata": {},
   "source": [
    "Copyright **`(c)`** 2023 Giovanni Squillero `<giovanni.squillero@polito.it>`  \n",
    "[`https://github.com/squillero/computational-intelligence`](https://github.com/squillero/computational-intelligence)  \n",
    "Free for personal or classroom use; see [`LICENSE.md`](https://github.com/squillero/computational-intelligence/blob/master/LICENSE.md) for details.  "
   ]
  },
  {
   "cell_type": "code",
   "execution_count": 20,
   "metadata": {},
   "outputs": [],
   "source": [
    "from random import random, choice, choices, randint\n",
    "from functools import reduce\n",
    "from collections import namedtuple\n",
    "from queue import PriorityQueue, SimpleQueue, LifoQueue\n",
    "from copy import copy\n",
    "from itertools import product\n",
    "\n",
    "import numpy as np"
   ]
  },
  {
   "cell_type": "code",
   "execution_count": 2,
   "metadata": {},
   "outputs": [],
   "source": [
    "PROBLEM_SIZE = 1_000\n",
    "NUM_SETS = 5_000\n",
    "SETS = tuple(np.array([random() < 0.3 for _ in range(PROBLEM_SIZE)]) for _ in range(NUM_SETS))\n",
    "State = namedtuple('State', ['taken', 'not_taken'])"
   ]
  },
  {
   "cell_type": "code",
   "execution_count": 3,
   "metadata": {},
   "outputs": [],
   "source": [
    "assert np.all(\n",
    "    reduce(\n",
    "        np.logical_or,\n",
    "        [SETS[i] for i in set(range(NUM_SETS))],\n",
    "        np.array([False for _ in range(PROBLEM_SIZE)]), #Starting from all False, make or of each set that is taken\n",
    "    )\n",
    "), \"Probelm not solvable\" # if using all sets there is no covering all\n",
    "\n"
   ]
  },
  {
   "cell_type": "code",
   "execution_count": 82,
   "metadata": {},
   "outputs": [],
   "source": [
    "def fitness1(state):\n",
    "    cost = sum(state)\n",
    "    valid = np.all(\n",
    "        reduce(\n",
    "            np.logical_or,\n",
    "            [SETS[i] for i, t in enumerate(state) if t],\n",
    "            np.array([False for _ in range(PROBLEM_SIZE)]),\n",
    "        )\n",
    "    )\n",
    "    return valid, -cost\n",
    "\n",
    "def fitness2(state):\n",
    "    cost = sum(state)\n",
    "    valid = np.sum(\n",
    "        reduce(\n",
    "            np.logical_or,\n",
    "            [SETS[i] for i, t in enumerate(state) if t],\n",
    "            np.array([False for _ in range(PROBLEM_SIZE)]),\n",
    "        )\n",
    "    )\n",
    "    return valid, -cost\n",
    "\n",
    "fitness = fitness2\n",
    "\n",
    "def tweak(state):\n",
    "    new_state = copy(state)\n",
    "    index = randint(0, PROBLEM_SIZE - 1)\n",
    "    new_state[index] = not new_state[index]\n",
    "    return new_state"
   ]
  },
  {
   "cell_type": "code",
   "execution_count": 83,
   "metadata": {},
   "outputs": [
    {
     "name": "stdout",
     "output_type": "stream",
     "text": [
      "------\n",
      "0\n",
      "(316, -1)\n",
      "------\n",
      "1\n",
      "(517, -2)\n",
      "------\n",
      "2\n",
      "(667, -3)\n",
      "------\n",
      "3\n",
      "(762, -4)\n",
      "------\n",
      "4\n",
      "(835, -5)\n",
      "------\n",
      "5\n",
      "(883, -6)\n",
      "------\n",
      "6\n",
      "(917, -7)\n",
      "------\n",
      "7\n",
      "(938, -8)\n",
      "------\n",
      "8\n",
      "(955, -9)\n",
      "------\n",
      "9\n",
      "(964, -10)\n",
      "------\n",
      "10\n",
      "(976, -11)\n",
      "------\n",
      "11\n",
      "(987, -12)\n",
      "------\n",
      "12\n",
      "(990, -13)\n",
      "------\n",
      "13\n",
      "(994, -14)\n",
      "------\n",
      "14\n",
      "(995, -15)\n",
      "------\n",
      "15\n",
      "(997, -16)\n",
      "------\n",
      "16\n",
      "(998, -17)\n",
      "------\n",
      "17\n",
      "(1000, -18)\n",
      "------\n",
      "57\n",
      "(1000, -17)\n",
      "------\n",
      "585\n",
      "(1000, -16)\n",
      "------\n",
      "862\n",
      "(1000, -15)\n",
      "------\n",
      "1797\n",
      "(1000, -14)\n",
      "all covered: True\n"
     ]
    }
   ],
   "source": [
    "current_state = [choice([False, False, False, False, False, False]) for _ in range(NUM_SETS)]\n",
    "\n",
    "for step in range(10_000):\n",
    "    new_state = tweak(current_state)\n",
    "    if fitness(new_state) >= fitness(current_state):\n",
    "        current_state = new_state\n",
    "        print('------')\n",
    "        print(step)\n",
    "        print(fitness(current_state))\n",
    "\n",
    "all_covered = np.all(\n",
    "    reduce(\n",
    "            np.logical_or,\n",
    "            [SETS[i] for i, t in enumerate(current_state) if t],\n",
    "            np.array([False for _ in range(PROBLEM_SIZE)])\n",
    "        )\n",
    ")\n",
    "print(f'all covered: {all_covered}')\n",
    "\n",
    "prof_state = current_state"
   ]
  }
 ],
 "metadata": {
  "kernelspec": {
   "display_name": "Python 3 (ipykernel)",
   "language": "python",
   "name": "python3"
  },
  "language_info": {
   "codemirror_mode": {
    "name": "ipython",
    "version": 3
   },
   "file_extension": ".py",
   "mimetype": "text/x-python",
   "name": "python",
   "nbconvert_exporter": "python",
   "pygments_lexer": "ipython3",
   "version": "3.10.11"
  }
 },
 "nbformat": 4,
 "nbformat_minor": 4
}
