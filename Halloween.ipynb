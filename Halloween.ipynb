{
 "cells": [
  {
   "cell_type": "markdown",
   "id": "185f9931-b384-4fdc-a5b2-eea785428bb8",
   "metadata": {},
   "source": [
    "Copyright **`(c)`** 2023 Giovanni Squillero `<giovanni.squillero@polito.it>`  \n",
    "[`https://github.com/squillero/computational-intelligence`](https://github.com/squillero/computational-intelligence)  \n",
    "Free for personal or classroom use; see [`LICENSE.md`](https://github.com/squillero/computational-intelligence/blob/master/LICENSE.md) for details.  "
   ]
  },
  {
   "cell_type": "code",
   "execution_count": 46,
   "id": "3ffe7245-e849-41d0-9698-5f0e0b83fee9",
   "metadata": {},
   "outputs": [],
   "source": [
    "from itertools import product\n",
    "from random import random, randint, shuffle, seed\n",
    "import numpy as np\n",
    "from scipy import sparse"
   ]
  },
  {
   "cell_type": "code",
   "execution_count": 47,
   "id": "6f03bd67-78a0-4d72-95b7-77a918727b91",
   "metadata": {},
   "outputs": [],
   "source": [
    "def make_set_covering_problem(num_points, num_sets, density):\n",
    "    \"\"\"Returns a sparse array where rows are sets and columns are the covered items\"\"\"\n",
    "    seed(num_points*2654435761+num_sets+density)\n",
    "    sets = sparse.lil_array((num_sets, num_points), dtype=bool)\n",
    "    for s, p in product(range(num_sets), range(num_points)):\n",
    "        if random() < density:\n",
    "            sets[s, p] = True\n",
    "    for p in range(num_points):\n",
    "        sets[randint(0, num_sets-1), p] = True\n",
    "    return sets"
   ]
  },
  {
   "cell_type": "markdown",
   "id": "82b0be37-21d9-492d-9a1d-cf0cdf0ddd76",
   "metadata": {},
   "source": [
    "# Halloween Challenge\n",
    "\n",
    "Find the best solution with the fewest calls to the fitness functions for:\n",
    "\n",
    "* `num_points = [100, 1_000, 5_000]`\n",
    "* `num_sets = num_points`\n",
    "* `density = [.3, .7]` "
   ]
  },
  {
   "cell_type": "code",
   "execution_count": 48,
   "id": "221ffdba-5d3d-48cc-bd08-45ccc9366ea6",
   "metadata": {},
   "outputs": [
    {
     "name": "stdout",
     "output_type": "stream",
     "text": [
      "Element at row=42 and column=42: False\n"
     ]
    }
   ],
   "source": [
    "x = make_set_covering_problem(1000, 1000, .3)\n",
    "print(\"Element at row=42 and column=42:\", x[42, 42])"
   ]
  },
  {
   "cell_type": "markdown",
   "metadata": {},
   "source": [
    "## start solution"
   ]
  },
  {
   "cell_type": "code",
   "execution_count": 49,
   "metadata": {},
   "outputs": [],
   "source": [
    "from random import randint\n",
    "from functools import reduce\n",
    "from queue import PriorityQueue\n",
    "from copy import copy\n",
    "from collections import deque\n",
    "\n",
    "import numpy as np\n",
    "\n",
    "PROBLEM_SIZE = 5000 # 100 1000 5000\n",
    "NUM_SETS = PROBLEM_SIZE\n",
    "DENSITY = .3 # .3 .7\n",
    "\n",
    "SETS = make_set_covering_problem(PROBLEM_SIZE, NUM_SETS, DENSITY)"
   ]
  },
  {
   "cell_type": "code",
   "execution_count": 50,
   "id": "6492337b-8429-472d-9c3e-c79c5b46da54",
   "metadata": {},
   "outputs": [],
   "source": [
    "assert np.all(\n",
    "    reduce(\n",
    "        np.logical_or,\n",
    "        [x for x in SETS.todense()],\n",
    "        np.array([False for _ in range(PROBLEM_SIZE)]), #Starting from all False, make or of each set that is taken\n",
    "    )\n",
    "), \"Probelm not solvable\" # if using all sets there is no covering all"
   ]
  },
  {
   "cell_type": "markdown",
   "metadata": {},
   "source": [
    "## Best solution (Third try)"
   ]
  },
  {
   "cell_type": "code",
   "execution_count": 51,
   "metadata": {},
   "outputs": [],
   "source": [
    "def fitness(state):\n",
    "    cost = sum(state)\n",
    "    valid = np.sum(\n",
    "        reduce(\n",
    "            np.logical_or,\n",
    "            [SETS.todense()[i] for i, t in enumerate(state) if t],\n",
    "            np.array([False for _ in range(PROBLEM_SIZE)]),\n",
    "        )\n",
    "    )\n",
    "    return valid, -cost\n",
    "\n",
    "def get_candidate(state, sets_matrix):\n",
    "\n",
    "    best = None\n",
    "    best_contribution = 0\n",
    "\n",
    "    for i, t in enumerate(state):\n",
    "        if not t:\n",
    "            contribution = -sum(sets_matrix[i])\n",
    "            if contribution < best_contribution:\n",
    "                best = i\n",
    "                best_contribution = contribution\n",
    "    \n",
    "    return best, best_contribution\n",
    "\n",
    "def modified_tweak(state, index):\n",
    "\n",
    "    new_state = copy(state)\n",
    "    new_state[index] = not new_state[index]\n",
    "\n",
    "    return new_state"
   ]
  },
  {
   "cell_type": "code",
   "execution_count": 52,
   "metadata": {},
   "outputs": [
    {
     "name": "stdout",
     "output_type": "stream",
     "text": [
      "1° step\n",
      "(1613, -1)\n",
      "-----------\n",
      "2° step\n",
      "(2723, -2)\n",
      "-----------\n",
      "3° step\n",
      "(3480, -3)\n",
      "-----------\n",
      "4° step\n",
      "(4012, -4)\n",
      "-----------\n",
      "5° step\n",
      "(4357, -5)\n",
      "-----------\n",
      "6° step\n",
      "(4593, -6)\n",
      "-----------\n",
      "7° step\n",
      "(4752, -7)\n",
      "-----------\n",
      "8° step\n",
      "(4851, -8)\n",
      "-----------\n",
      "9° step\n",
      "(4919, -9)\n",
      "-----------\n",
      "10° step\n",
      "(4959, -10)\n",
      "-----------\n",
      "11° step\n",
      "(4983, -11)\n",
      "-----------\n",
      "12° step\n",
      "(4996, -12)\n",
      "-----------\n",
      "13° step\n",
      "(5000, -13)\n",
      "-----------\n",
      "all covered: True\n",
      "number of fitness call: 13\n",
      "fitness: (5000, -13)\n"
     ]
    }
   ],
   "source": [
    "current_state = [False for _ in range(NUM_SETS)]\n",
    "current_fitness = (0, 0)\n",
    "not_covered_idx = [i for i in range(PROBLEM_SIZE)]\n",
    "\n",
    "SETS_copy = SETS.copy()\n",
    "\n",
    "\n",
    "\n",
    "for step in range(10_000):\n",
    "    print(f'{step + 1}° step')\n",
    "\n",
    "    SETS_copy_dense = SETS_copy.todense()\n",
    "\n",
    "    t, v = get_candidate(current_state, SETS_copy_dense)\n",
    "\n",
    "    not_covered_idx = np.where(SETS_copy_dense[t] == False)[0]\n",
    "\n",
    "    SETS_copy = SETS_copy[:, not_covered_idx]\n",
    "\n",
    "    current_state = modified_tweak(current_state, t)\n",
    "    current_fitness = (current_fitness[0] - v, current_fitness[1] - 1)  ## idk if this is to be considered a fitness call or not (but i think yes)\n",
    "    #current_fitness = fitness(current_state)\n",
    "\n",
    "    print(current_fitness)\n",
    "    print('-----------')\n",
    "\n",
    "    if len(not_covered_idx) == 0: break\n",
    "\n",
    "all_covered = np.all(\n",
    "    reduce(\n",
    "            np.logical_or,\n",
    "            [SETS.todense()[i] for i, t in enumerate(current_state) if t],\n",
    "            np.array([False for _ in range(PROBLEM_SIZE)])\n",
    "        )\n",
    ")\n",
    "print(f'all covered: {all_covered}')\n",
    "print(f'number of fitness call: {step + 1}')\n",
    "print(f'fitness: {current_fitness}')"
   ]
  },
  {
   "cell_type": "markdown",
   "metadata": {},
   "source": [
    "## first try"
   ]
  },
  {
   "cell_type": "code",
   "execution_count": 53,
   "metadata": {},
   "outputs": [],
   "source": [
    "def goal_check(state):\n",
    "    return np.all(\n",
    "        reduce(\n",
    "            np.logical_or,\n",
    "            [SETS.todense()[i] for i, t in enumerate(state) if t],\n",
    "            np.array([False for _ in range(PROBLEM_SIZE)]),\n",
    "        )\n",
    "    )"
   ]
  },
  {
   "cell_type": "code",
   "execution_count": 54,
   "metadata": {},
   "outputs": [],
   "source": [
    "def fitness(state):\n",
    "    cost = sum(state)\n",
    "    valid = np.sum(\n",
    "        reduce(\n",
    "            np.logical_or,\n",
    "            [SETS.todense()[i] for i, t in enumerate(state) if t],\n",
    "            np.array([False for _ in range(PROBLEM_SIZE)]),\n",
    "        )\n",
    "    )\n",
    "    return valid, -cost\n",
    "\n",
    "def tweak(state):\n",
    "    new_state = copy(state)\n",
    "    index = randint(0, PROBLEM_SIZE - 1)\n",
    "    new_state[index] = not new_state[index]\n",
    "    return new_state"
   ]
  },
  {
   "cell_type": "code",
   "execution_count": 55,
   "metadata": {},
   "outputs": [
    {
     "name": "stdout",
     "output_type": "stream",
     "text": [
      "------\n",
      "new best at 1° iteration\n",
      "(1543, -1)\n",
      "------\n",
      "new best at 2° iteration\n",
      "(2589, -2)\n",
      "------\n",
      "new best at 3° iteration\n",
      "(3325, -3)\n",
      "------\n",
      "new best at 4° iteration\n",
      "(3842, -4)\n",
      "------\n",
      "new best at 5° iteration\n",
      "(4183, -5)\n",
      "------\n",
      "new best at 6° iteration\n",
      "(4424, -6)\n",
      "------\n",
      "new best at 7° iteration\n",
      "(4609, -7)\n",
      "------\n",
      "new best at 8° iteration\n",
      "(4715, -8)\n",
      "------\n",
      "new best at 9° iteration\n",
      "(4790, -9)\n",
      "------\n",
      "new best at 10° iteration\n",
      "(4854, -10)\n",
      "------\n",
      "new best at 11° iteration\n",
      "(4898, -11)\n",
      "------\n",
      "new best at 12° iteration\n",
      "(4926, -12)\n",
      "------\n",
      "new best at 13° iteration\n",
      "(4947, -13)\n",
      "------\n",
      "new best at 14° iteration\n",
      "(4965, -14)\n",
      "------\n",
      "new best at 15° iteration\n",
      "(4975, -15)\n",
      "------\n",
      "new best at 16° iteration\n",
      "(4981, -16)\n",
      "------\n",
      "new best at 17° iteration\n",
      "(4990, -17)\n",
      "------\n",
      "new best at 18° iteration\n",
      "(4992, -18)\n",
      "------\n",
      "new best at 19° iteration\n",
      "(4995, -19)\n",
      "------\n",
      "new best at 20° iteration\n",
      "(4997, -20)\n",
      "------\n",
      "new best at 21° iteration\n",
      "(4998, -21)\n",
      "------\n",
      "new best at 24° iteration\n",
      "(5000, -22)\n",
      "all covered: True\n",
      "number of fitness call: 25\n",
      "fitness: (5000, -22)\n"
     ]
    }
   ],
   "source": [
    "current_state = [False for _ in range(NUM_SETS)]\n",
    "current_fitness = fitness(current_state)\n",
    "\n",
    "for step in range(10_000):\n",
    "    new_state = tweak(current_state)\n",
    "    new_fitness = fitness(new_state)\n",
    "    if new_fitness >= current_fitness:\n",
    "        current_state = new_state\n",
    "        current_fitness = new_fitness\n",
    "        print('------')\n",
    "        print(f'new best at {step + 1}° iteration')\n",
    "        print(current_fitness)\n",
    "        if goal_check(current_state): break\n",
    "\n",
    "all_covered = np.all(\n",
    "    reduce(\n",
    "            np.logical_or,\n",
    "            [SETS.todense()[i] for i, t in enumerate(current_state) if t],\n",
    "            np.array([False for _ in range(PROBLEM_SIZE)])\n",
    "        )\n",
    ")\n",
    "print(f'all covered: {all_covered}')\n",
    "print(f'number of fitness call: {step + 2}')\n",
    "print(f'fitness: {current_fitness}')\n"
   ]
  },
  {
   "cell_type": "markdown",
   "metadata": {},
   "source": [
    "## second try (discarded)"
   ]
  },
  {
   "cell_type": "code",
   "execution_count": 56,
   "metadata": {},
   "outputs": [],
   "source": [
    "#def modified_fitness(state):\n",
    "#    \n",
    "#    cost = sum(state)\n",
    "#    covered = reduce(\n",
    "#                np.logical_or,\n",
    "#                [SETS.todense()[i] for i, t in enumerate(state) if t],\n",
    "#                np.array([False for _ in range(PROBLEM_SIZE)]),\n",
    "#            )\n",
    "#    \n",
    "#    return (np.sum(covered), -cost), covered\n",
    "#\n",
    "#\n",
    "#def get_candidates(state, covered):\n",
    "#\n",
    "#    candidates = PriorityQueue()\n",
    "#    not_covered = np.where(covered == False)\n",
    "#    for i, t in enumerate(state):\n",
    "#        if not t: candidates.put((-sum(SETS.todense()[i][not_covered]), i))\n",
    "#\n",
    "#    return candidates\n",
    "#\n",
    "#\n",
    "#def modified_tweak(state, index):\n",
    "#\n",
    "#    new_state = copy(state)\n",
    "#    new_state[index] = not new_state[index]\n",
    "#\n",
    "#    return new_state"
   ]
  },
  {
   "cell_type": "code",
   "execution_count": 57,
   "metadata": {},
   "outputs": [],
   "source": [
    "#current_state = [False for _ in range(NUM_SETS)]\n",
    "#current_fitness, covered = modified_fitness(current_state)\n",
    "#\n",
    "#for step in range(10_000):\n",
    "#\n",
    "#    candidates = get_candidates(current_state, covered)\n",
    "#    v, t = candidates.get()\n",
    "#\n",
    "#    current_state = modified_tweak(current_state, t)\n",
    "#    current_fitness = (current_fitness[0] - v, current_fitness[1] - 1)  ## idk if this is to be considered a fitness call or not (but i think yes)\n",
    "#    covered = np.logical_or(covered, SETS.todense()[t])\n",
    "#\n",
    "#    print(f'{step + 1}° step')\n",
    "#    print(current_fitness)\n",
    "#    print('-----------')\n",
    "#    \n",
    "#    if goal_check(current_state): break\n",
    "#\n",
    "#all_covered = np.all(\n",
    "#    reduce(\n",
    "#            np.logical_or,\n",
    "#            [SETS.todense()[i] for i, t in enumerate(current_state) if t],\n",
    "#            np.array([False for _ in range(PROBLEM_SIZE)])\n",
    "#        )\n",
    "#)\n",
    "#print(f'all covered: {all_covered}')\n",
    "#print(f'number of fitness call: {step + 2}')\n",
    "#print(f'fitness: {fitness(current_state)}')"
   ]
  },
  {
   "cell_type": "markdown",
   "metadata": {},
   "source": [
    "## fourth try - Depth first (discarded)"
   ]
  },
  {
   "cell_type": "code",
   "execution_count": 58,
   "metadata": {},
   "outputs": [
    {
     "name": "stdout",
     "output_type": "stream",
     "text": [
      "1550\n",
      "2572\n",
      "3289\n",
      "3813\n",
      "4159\n",
      "4414\n",
      "4570\n",
      "4698\n",
      "4785\n",
      "4847\n",
      "4908\n",
      "4938\n",
      "4953\n",
      "4966\n",
      "4979\n",
      "4988\n",
      "4990\n",
      "4992\n",
      "4993\n",
      "4996\n",
      "4997\n",
      "4999\n",
      "4999\n",
      "5000\n",
      "all covered: True\n",
      "number of fitness call: 25\n",
      "fitness: (5000, -24)\n"
     ]
    }
   ],
   "source": [
    "frontier = deque()\n",
    "state = [False for _ in range(NUM_SETS)]\n",
    "frontier.append((state, [False for _ in range(PROBLEM_SIZE)]))\n",
    "\n",
    "SETS_copy = SETS.todense()\n",
    "\n",
    "counter = 0\n",
    "current_state = frontier.pop()\n",
    "while not np.all(current_state[1]):\n",
    "    counter += 1\n",
    "    for action in np.where(np.logical_not(current_state[0]))[0]:\n",
    "        new_state = current_state[0].copy()\n",
    "        new_state[action] = True\n",
    "        new_covered = np.logical_or(current_state[1], SETS_copy[action])\n",
    "        frontier.append((new_state, new_covered))\n",
    "    current_state = frontier.pop()\n",
    "    print(sum(current_state[1]))\n",
    "\n",
    "all_covered = np.all(\n",
    "    reduce(\n",
    "            np.logical_or,\n",
    "            [SETS_copy[i] for i, t in enumerate(current_state[0]) if t],\n",
    "            np.array([False for _ in range(PROBLEM_SIZE)])\n",
    "        )\n",
    ")\n",
    "print(f'all covered: {all_covered}')\n",
    "print(f'number of fitness call: {counter + 1}')\n",
    "print(f'fitness: {fitness(current_state[0])}')"
   ]
  },
  {
   "cell_type": "markdown",
   "metadata": {},
   "source": [
    "## Fifth try - Greedy best first"
   ]
  },
  {
   "cell_type": "code",
   "execution_count": 59,
   "metadata": {},
   "outputs": [],
   "source": [
    "def f(already_covered):\n",
    "    missing_size = PROBLEM_SIZE - sum(already_covered)\n",
    "    return missing_size"
   ]
  },
  {
   "cell_type": "code",
   "execution_count": 60,
   "metadata": {},
   "outputs": [
    {
     "name": "stdout",
     "output_type": "stream",
     "text": [
      "1613\n",
      "2723\n",
      "3480\n",
      "3998\n",
      "4351\n",
      "4585\n",
      "4744\n",
      "4851\n",
      "4917\n",
      "4958\n",
      "4983\n",
      "4995\n",
      "5000\n",
      "all covered: True\n",
      "number of fitness call: 14\n",
      "fitness: (5000, -13)\n"
     ]
    }
   ],
   "source": [
    "frontier = PriorityQueue()\n",
    "state = [False for _ in range(NUM_SETS)]\n",
    "frontier.put((f(state), (state, [False for _ in range(PROBLEM_SIZE)])))\n",
    "\n",
    "SETS_copy = SETS.todense()\n",
    "\n",
    "counter = 0\n",
    "_, current_state = frontier.get()\n",
    "\n",
    "while not np.all(current_state[1]):\n",
    "    counter += 1\n",
    "    for action in np.where(np.logical_not(current_state[0]))[0]:\n",
    "        new_state = current_state[0].copy()\n",
    "        new_state[action] = True\n",
    "        new_covered = np.logical_or(current_state[1], SETS_copy[action])\n",
    "        frontier.put((f(new_covered), (new_state, new_covered)))\n",
    "    _, current_state = frontier.get()\n",
    "    print(sum(current_state[1]))\n",
    "\n",
    "all_covered = np.all(\n",
    "    reduce(\n",
    "            np.logical_or,\n",
    "            [SETS_copy[i] for i, t in enumerate(current_state[0]) if t],\n",
    "            np.array([False for _ in range(PROBLEM_SIZE)])\n",
    "        )\n",
    ")\n",
    "print(f'all covered: {all_covered}')\n",
    "print(f'number of fitness call: {counter + 1}')\n",
    "print(f'fitness: {fitness(current_state[0])}')"
   ]
  }
 ],
 "metadata": {
  "kernelspec": {
   "display_name": "Python 3 (ipykernel)",
   "language": "python",
   "name": "python3"
  },
  "language_info": {
   "codemirror_mode": {
    "name": "ipython",
    "version": 3
   },
   "file_extension": ".py",
   "mimetype": "text/x-python",
   "name": "python",
   "nbconvert_exporter": "python",
   "pygments_lexer": "ipython3",
   "version": "3.10.11"
  }
 },
 "nbformat": 4,
 "nbformat_minor": 5
}
