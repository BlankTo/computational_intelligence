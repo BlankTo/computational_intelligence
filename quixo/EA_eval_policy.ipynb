{
 "cells": [
  {
   "cell_type": "code",
   "execution_count": 1,
   "metadata": {},
   "outputs": [],
   "source": [
    "import random\n",
    "import numpy as np\n",
    "from game import Game, Move, Player\n",
    "from copy import deepcopy\n",
    "from tqdm import tqdm"
   ]
  },
  {
   "cell_type": "markdown",
   "metadata": {},
   "source": [
    "Dummy game class to leave the real Game class untouched"
   ]
  },
  {
   "cell_type": "code",
   "execution_count": 2,
   "metadata": {},
   "outputs": [],
   "source": [
    "class Dummy_Game(object):\n",
    "    def __init__(self) -> None:\n",
    "        self._board = np.ones((5, 5), dtype=np.uint8) * -1\n",
    "        self.current_player_idx = 1\n",
    "\n",
    "    def get_board(self): return self._board\n",
    "\n",
    "    def single_move(self, board, from_pos, move, player_id):\n",
    "        self._board = deepcopy(board)\n",
    "        self.current_player_idx = player_id\n",
    "        ok = self.__move(from_pos, move, player_id)\n",
    "        return deepcopy(self._board), ok\n",
    "    \n",
    "    def check_winner_board(self, board):\n",
    "        self._board = board\n",
    "        return self.check_winner()\n",
    "\n",
    "    def check_winner(self) -> int:\n",
    "        for x in range(self._board.shape[0]):\n",
    "            if self._board[x, 0] != -1 and all(self._board[x, :] == self._board[x, 0]): return self._board[x, 0]\n",
    "        for y in range(self._board.shape[1]):\n",
    "            if self._board[0, y] != -1 and all(self._board[:, y] == self._board[0, y]): return self._board[0, y]\n",
    "        if self._board[0, 0] != -1 and all([self._board[x, x] for x in range(self._board.shape[0])] == self._board[0, 0]): return self._board[0, 0]\n",
    "        if self._board[0, -1] != -1 and all([self._board[x, -(x + 1)] for x in range(self._board.shape[0])] == self._board[0, -1]): return self._board[0, -1]\n",
    "        return -1\n",
    "\n",
    "    def __move(self, from_pos: tuple[int, int], slide: Move, player_id: int) -> bool:\n",
    "        if player_id > 2: return False\n",
    "        prev_value = deepcopy(self._board[(from_pos[1], from_pos[0])])\n",
    "        acceptable = self.__take((from_pos[1], from_pos[0]), player_id)\n",
    "        if acceptable:\n",
    "            acceptable = self.__slide((from_pos[1], from_pos[0]), slide)\n",
    "            if not acceptable: self._board[(from_pos[1], from_pos[0])] = deepcopy(prev_value)\n",
    "        return acceptable\n",
    "\n",
    "    def __take(self, from_pos: tuple[int, int], player_id: int) -> bool:\n",
    "        acceptable: bool = ((from_pos[0] == 0 and from_pos[1] < 5) or (from_pos[0] == 4 and from_pos[1] < 5) or (from_pos[1] == 0 and from_pos[0] < 5) or (from_pos[1] == 4 and from_pos[0] < 5)) and (self._board[from_pos] < 0 or self._board[from_pos] == player_id)\n",
    "        if acceptable: self._board[from_pos] = player_id\n",
    "        return acceptable\n",
    "\n",
    "    def __slide(self, from_pos: tuple[int, int], slide: Move) -> bool:\n",
    "        SIDES = [(0, 0), (0, 4), (4, 0), (4, 4)]\n",
    "        if from_pos not in SIDES:\n",
    "            acceptable_top: bool = from_pos[0] == 0 and (slide == Move.BOTTOM or slide == Move.LEFT or slide == Move.RIGHT)\n",
    "            acceptable_bottom: bool = from_pos[0] == 4 and (slide == Move.TOP or slide == Move.LEFT or slide == Move.RIGHT)\n",
    "            acceptable_left: bool = from_pos[1] == 0 and (slide == Move.BOTTOM or slide == Move.TOP or slide == Move.RIGHT)\n",
    "            acceptable_right: bool = from_pos[1] == 4 and (slide == Move.BOTTOM or slide == Move.TOP or slide == Move.LEFT)\n",
    "        else:\n",
    "            acceptable_top: bool = from_pos == (0, 0) and (slide == Move.BOTTOM or slide == Move.RIGHT)\n",
    "            acceptable_left: bool = from_pos == (4, 0) and (slide == Move.TOP or slide == Move.RIGHT)\n",
    "            acceptable_right: bool = from_pos == (0, 4) and (slide == Move.BOTTOM or slide == Move.LEFT)\n",
    "            acceptable_bottom: bool = from_pos == (4, 4) and (slide == Move.TOP or slide == Move.LEFT)\n",
    "        acceptable: bool = acceptable_top or acceptable_bottom or acceptable_left or acceptable_right\n",
    "        if acceptable:\n",
    "            piece = self._board[from_pos]\n",
    "            if slide == Move.LEFT:\n",
    "                for i in range(from_pos[1], 0, -1): self._board[(from_pos[0], i)] = self._board[(from_pos[0], i - 1)]\n",
    "                self._board[(from_pos[0], 0)] = piece\n",
    "            elif slide == Move.RIGHT:\n",
    "                for i in range(from_pos[1], self._board.shape[1] - 1, 1): self._board[(from_pos[0], i)] = self._board[(from_pos[0], i + 1)]\n",
    "                self._board[(from_pos[0], self._board.shape[1] - 1)] = piece\n",
    "            elif slide == Move.TOP:\n",
    "                for i in range(from_pos[0], 0, -1): self._board[(i, from_pos[1])] = self._board[(i - 1, from_pos[1])]\n",
    "                self._board[(0, from_pos[1])] = piece\n",
    "            elif slide == Move.BOTTOM:\n",
    "                for i in range(from_pos[0], self._board.shape[0] - 1, 1): self._board[(i, from_pos[1])] = self._board[(i + 1, from_pos[1])]\n",
    "                self._board[(self._board.shape[0] - 1, from_pos[1])] = piece\n",
    "        return acceptable"
   ]
  },
  {
   "cell_type": "markdown",
   "metadata": {},
   "source": [
    "Computing all legal moves (when the board is empty)"
   ]
  },
  {
   "cell_type": "code",
   "execution_count": 3,
   "metadata": {},
   "outputs": [
    {
     "name": "stdout",
     "output_type": "stream",
     "text": [
      "16\n"
     ]
    }
   ],
   "source": [
    "border = []\n",
    "for i in range(5):\n",
    "    for j in range(5):\n",
    "        if i == 0 or i == 4 or j == 0 or j == 4:\n",
    "            border.append((i, j))\n",
    "BORDER = (list(set(border)))\n",
    "print(len(BORDER))\n",
    "\n",
    "def tile_to_moves(tile):\n",
    "    possible_moves = [Move.TOP, Move.BOTTOM, Move.LEFT, Move.RIGHT]\n",
    "        \n",
    "    if tile[0] == 0: possible_moves.remove(Move.LEFT)\n",
    "    if tile[0] == 4: possible_moves.remove(Move.RIGHT)\n",
    "    if tile[1] == 0: possible_moves.remove(Move.TOP)\n",
    "    if tile[1] == 4: possible_moves.remove(Move.BOTTOM)\n",
    "\n",
    "    return possible_moves\n",
    "\n",
    "tile_moves = {tile: tile_to_moves(tile) for tile in BORDER}\n",
    "\n",
    "ALL_MOVES = []\n",
    "for tile in BORDER:\n",
    "    possible_moves = tile_moves[tile]\n",
    "    for move in possible_moves: ALL_MOVES.append((tile, move))\n",
    "N_ALL = len(ALL_MOVES)\n",
    "\n",
    "class RandomPlayer(Player):\n",
    "    def __init__(self) -> None:\n",
    "        super().__init__()\n",
    "\n",
    "    def make_move(self, game: 'Game') -> tuple[tuple[int, int], Move]:\n",
    "\n",
    "        from_pos = random.choice(BORDER)\n",
    "        while game.get_board()[from_pos[1], from_pos[0]] == 1 - game.current_player_idx: from_pos = random.choice(BORDER)\n",
    "\n",
    "        possible_moves = tile_moves[from_pos]\n",
    "        \n",
    "        move = random.choice(possible_moves)\n",
    "\n",
    "        return from_pos, move"
   ]
  },
  {
   "cell_type": "markdown",
   "metadata": {},
   "source": [
    "each agent in the population will evaluate differently the board, trying to achieve positive values for boards good for player_0 and negative values for boards good for player_1"
   ]
  },
  {
   "cell_type": "code",
   "execution_count": 4,
   "metadata": {},
   "outputs": [],
   "source": [
    "class MyPlayer(Player):\n",
    "    def __init__(self, weights= None, base_until_move_change= 10) -> None:\n",
    "        super().__init__()\n",
    "\n",
    "        if weights is None: self.weights = np.random.random(size= (5, 5))\n",
    "        else: self.weights = weights\n",
    "\n",
    "        self.dummy = Dummy_Game()\n",
    "\n",
    "        self.base_until_move_change = base_until_move_change\n",
    "        self.last_pos_move = None\n",
    "        self.until_move_change = self.base_until_move_change\n",
    "\n",
    "        self.epoch_before_death = 3\n",
    "\n",
    "    def reset_counters(self):\n",
    "        self.until_move_change = self.base_until_move_change\n",
    "\n",
    "    def get_weights(self): return self.weights\n",
    "\n",
    "    def get_death(self, bonus= None):\n",
    "        if bonus is not None: self.epoch_before_death = bonus + 1\n",
    "        self.epoch_before_death -= 1\n",
    "        return self.epoch_before_death\n",
    "    \n",
    "    def evaluate_board(self, board):\n",
    "\n",
    "        eval_0 = sum(sum(np.array(board==0, dtype= int) * self.weights))\n",
    "        eval_1 = sum(sum(np.array(board==1, dtype= int) * self.weights))\n",
    "\n",
    "        return eval_0 - eval_1\n",
    "\n",
    "    def selection(self, state, player_id):\n",
    "\n",
    "        board = np.array(state).reshape(5, 5)\n",
    "\n",
    "        moves = []\n",
    "        evals = []\n",
    "\n",
    "        for from_pos, move in ALL_MOVES:\n",
    "            \n",
    "            new_board, ok = self.dummy.single_move(board, from_pos, move, player_id)\n",
    "            if ok:\n",
    "\n",
    "                evals.append(self.evaluate_board(new_board))\n",
    "                moves.append((from_pos, move))\n",
    "\n",
    "        if player_id == 0: idx = np.argmax(evals)\n",
    "        else: idx = np.argmin(evals)\n",
    "        \n",
    "        return moves[idx]\n",
    "\n",
    "    def eval_agent(self, n_games= 100):\n",
    "\n",
    "        count_win = 0\n",
    "\n",
    "        for _ in range(n_games):\n",
    "\n",
    "            board = np.ones((5, 5), dtype= np.uint8) * -1\n",
    "            next_to_move = 0\n",
    "            state = tuple(board.flatten())\n",
    "\n",
    "            winner = -1\n",
    "            while winner == -1:\n",
    "\n",
    "                if next_to_move == 0: from_pos, move = self.selection(state, next_to_move)\n",
    "                else:\n",
    "                    from_pos, move = ALL_MOVES[np.random.randint(0, N_ALL)]\n",
    "                    while board[from_pos[1], from_pos[0]] == 1 - next_to_move: from_pos, move = ALL_MOVES[np.random.randint(0, N_ALL)]\n",
    "\n",
    "                board, ok = self.dummy.single_move(board, from_pos, move, next_to_move)\n",
    "\n",
    "                next_to_move = 1 - next_to_move\n",
    "                state = tuple(board.flatten())\n",
    "\n",
    "                winner = self.dummy.check_winner_board(board)\n",
    "        \n",
    "            if winner == 0: count_win += 1\n",
    "\n",
    "        return count_win\n",
    "\n",
    "    def make_move(self, game: 'Game') -> tuple[tuple[int, int], Move]:\n",
    "\n",
    "        board = game.get_board()\n",
    "        state = tuple(board.flatten())\n",
    "\n",
    "        pos_move = self.selection(state, game.current_player_idx)\n",
    "\n",
    "        if pos_move == self.last_pos_move:\n",
    "            self.until_move_change -= 1\n",
    "            if self.until_move_change == 0:\n",
    "                board = game.get_board()\n",
    "                player_id = game.current_player_idx\n",
    "\n",
    "                from_pos, move = ALL_MOVES[np.random.randint(0, N_ALL)]\n",
    "                while board[from_pos[1], from_pos[0]] == 1 - player_id: from_pos, move = ALL_MOVES[np.random.randint(0, N_ALL)]\n",
    "\n",
    "                self.until_move_change = self.base_until_move_change\n",
    "        else: self.last_pos_move = pos_move\n",
    "\n",
    "        from_pos, move = pos_move\n",
    "        \n",
    "        #print((from_pos, move))\n",
    "        #print('---------------')\n",
    "        return from_pos, move"
   ]
  },
  {
   "cell_type": "markdown",
   "metadata": {},
   "source": [
    "functions for the EA"
   ]
  },
  {
   "cell_type": "code",
   "execution_count": 5,
   "metadata": {},
   "outputs": [],
   "source": [
    "def evaluate_population(population, n_trials= 100):\n",
    "\n",
    "    len_p = len(population)\n",
    "\n",
    "    scores = np.zeros(shape= (len_p,))\n",
    "\n",
    "    for i in tqdm(range(len_p)):\n",
    "\n",
    "        scores[i] += population[i].eval_agent(n_trials)\n",
    "\n",
    "    return np.array(scores)"
   ]
  },
  {
   "cell_type": "code",
   "execution_count": 6,
   "metadata": {},
   "outputs": [],
   "source": [
    "def procreate_1(p1, p2, c1, c2):\n",
    "    \n",
    "    W1 = p1.get_weights()\n",
    "    W2 = p2.get_weights()\n",
    "\n",
    "    W3 = deepcopy(W1)\n",
    "\n",
    "    c = c1 / (c1 + c2)\n",
    "\n",
    "    for i in range(len(W1)):\n",
    "        for j in range(len(W1[i])):\n",
    "            if c < np.random.random():\n",
    "                W3[i][j] = W2[i][j]\n",
    "\n",
    "    return MyPlayer(weights= W3)\n",
    "\n",
    "def procreation(population, scores):\n",
    "\n",
    "    exp_val = np.exp(scores - np.max(scores))\n",
    "    prob = exp_val / np.sum(exp_val)\n",
    "\n",
    "    #print('procreation probability - no replace')\n",
    "    #print(prob)\n",
    "    \n",
    "    parents = []\n",
    "    for _ in range(15):\n",
    "        parents.append(np.random.choice([i for i in range(len(population))], size= (2,), replace= False, p= prob))\n",
    "\n",
    "    childrens = []\n",
    "    for pair in parents:\n",
    "        pi = population[pair[0]]\n",
    "        pj = population[pair[1]]\n",
    "        mod_i = prob[pair[0]]\n",
    "        mod_j = prob[pair[1]]\n",
    "        \n",
    "        childrens.append(procreate_1(pi, pj, mod_i, mod_j))\n",
    "\n",
    "    return childrens"
   ]
  },
  {
   "cell_type": "code",
   "execution_count": 7,
   "metadata": {},
   "outputs": [],
   "source": [
    "P_MUTATION = 0.2\n",
    "MUTATION_STRENGTH = 0.01\n",
    "\n",
    "def mutate_1(p):\n",
    "\n",
    "    Wm = deepcopy(p.get_weights())\n",
    "\n",
    "    for i in range(len(Wm)):\n",
    "        for j in range(len(Wm[i])):\n",
    "            if P_MUTATION >= np.random.random():\n",
    "                Wm[i][j] += np.random.normal(0, MUTATION_STRENGTH)\n",
    "\n",
    "    return MyPlayer(weights= Wm)\n",
    "\n",
    "def mutation(population):\n",
    "\n",
    "    bases = np.random.choice([i for i in range(len(population))], size= (15,), replace= False)\n",
    "\n",
    "    mutants = []\n",
    "    for base in bases: mutants.append(mutate_1(population[base]))\n",
    "\n",
    "    return mutants"
   ]
  },
  {
   "cell_type": "markdown",
   "metadata": {},
   "source": [
    "EA"
   ]
  },
  {
   "cell_type": "code",
   "execution_count": 8,
   "metadata": {},
   "outputs": [
    {
     "name": "stdout",
     "output_type": "stream",
     "text": [
      "------------------------------------\n",
      "epoch 0\n"
     ]
    },
    {
     "name": "stderr",
     "output_type": "stream",
     "text": [
      "  0%|          | 0/20 [00:00<?, ?it/s]"
     ]
    },
    {
     "name": "stderr",
     "output_type": "stream",
     "text": [
      "100%|██████████| 20/20 [00:41<00:00,  2.10s/it]\n"
     ]
    },
    {
     "name": "stdout",
     "output_type": "stream",
     "text": [
      "[99. 95. 93. 92. 92. 92. 92. 91. 89. 88. 87. 87. 86. 86. 86. 85. 83. 81.\n",
      " 79. 77.]\n",
      "-\n",
      "[99. 95. 93. 92. 92. 92. 92. 91. 89. 88.]\n",
      "before: 20\n",
      "n_childrens: 15\n",
      "n_mutants: 15\n",
      "after: 50\n",
      "------------------------------------\n",
      "epoch 1\n"
     ]
    },
    {
     "name": "stderr",
     "output_type": "stream",
     "text": [
      "100%|██████████| 50/50 [01:40<00:00,  2.01s/it]\n"
     ]
    },
    {
     "name": "stdout",
     "output_type": "stream",
     "text": [
      "[100. 100. 100. 100.  99.  99.  99.  99.  98.  98.  98.  98.  97.  97.\n",
      "  97.  96.  96.  96.  96.  95.  92.  92.  92.  92.  92.  92.  92.  92.\n",
      "  91.  91.  91.  91.  90.  90.  89.  89.  88.  88.  88.  87.  87.  86.\n",
      "  86.  86.  86.  85.  85.  85.  83.  81.]\n",
      "-\n",
      "[100. 100. 100. 100.  99.  99.  99.  99.  98.  98.]\n",
      "before: 50\n",
      "n_childrens: 15\n",
      "n_mutants: 15\n",
      "after: 80\n",
      "------------------------------------\n",
      "epoch 2\n"
     ]
    },
    {
     "name": "stderr",
     "output_type": "stream",
     "text": [
      "100%|██████████| 80/80 [02:29<00:00,  1.87s/it]\n"
     ]
    },
    {
     "name": "stdout",
     "output_type": "stream",
     "text": [
      "[100. 100. 100. 100. 100. 100. 100. 100. 100. 100. 100.  99.  99.  99.\n",
      "  99.  99.  99.  99.  99.  99.  99.  99.  99.  99.  98.  98.  98.  98.\n",
      "  97.  97.  97.  97.  97.  96.  96.  96.  96.  96.  95.  95.  95.  95.\n",
      "  95.  95.  95.  94.  94.  93.  92.  91.  91.  91.  91.  90.  90.  90.\n",
      "  89.  89.  89.  89.  89.  89.  89.  89.  89.  88.  88.  88.  87.  87.\n",
      "  86.  86.  86.  85.  85.  84.  84.  83.  78.  74.]\n",
      "-\n",
      "[100. 100. 100. 100. 100. 100. 100. 100. 100. 100.]\n",
      "before: 70\n",
      "n_childrens: 15\n",
      "n_mutants: 15\n",
      "after: 100\n",
      "------------------------------------\n",
      "epoch 3\n"
     ]
    },
    {
     "name": "stderr",
     "output_type": "stream",
     "text": [
      "100%|██████████| 100/100 [02:51<00:00,  1.71s/it]\n"
     ]
    },
    {
     "name": "stdout",
     "output_type": "stream",
     "text": [
      "[100. 100. 100. 100. 100. 100. 100. 100. 100.  99.  99.  99.  99.  99.\n",
      "  99.  99.  99.  99.  99.  99.  99.  99.  99.  99.  99.  99.  99.  99.\n",
      "  99.  99.  99.  98.  98.  98.  98.  98.  98.  98.  98.  98.  98.  98.\n",
      "  98.  98.  98.  98.  98.  98.  98.  98.  98.  97.  97.  97.  97.  97.\n",
      "  97.  97.  97.  97.  96.  96.  96.  96.  96.  95.  95.  95.  95.  95.\n",
      "  94.  93.  93.  92.  92.  92.  92.  92.  91.  91.  91.  91.  91.  90.\n",
      "  90.  90.  89.  89.  88.  87.  87.  87.  87.  86.  85.  85.  85.  83.\n",
      "  81.  77.]\n",
      "-\n",
      "[100. 100. 100. 100. 100. 100. 100. 100. 100.  99.]\n",
      "before: 80\n",
      "n_childrens: 15\n",
      "n_mutants: 15\n",
      "after: 110\n",
      "------------------------------------\n",
      "epoch 4\n"
     ]
    },
    {
     "name": "stderr",
     "output_type": "stream",
     "text": [
      "100%|██████████| 110/110 [02:57<00:00,  1.62s/it]\n"
     ]
    },
    {
     "name": "stdout",
     "output_type": "stream",
     "text": [
      "[100. 100. 100. 100. 100. 100. 100. 100. 100. 100. 100. 100. 100. 100.\n",
      " 100. 100. 100. 100.  99.  99.  99.  99.  99.  99.  99.  99.  99.  99.\n",
      "  99.  99.  99.  99.  99.  99.  99.  99.  99.  98.  98.  98.  98.  98.\n",
      "  98.  98.  98.  98.  98.  98.  98.  98.  98.  98.  98.  98.  98.  98.\n",
      "  98.  98.  98.  98.  97.  97.  97.  97.  97.  97.  97.  97.  97.  96.\n",
      "  96.  96.  96.  96.  96.  96.  96.  96.  96.  96.  95.  95.  95.  95.\n",
      "  95.  94.  94.  94.  94.  93.  93.  92.  92.  91.  91.  91.  90.  90.\n",
      "  90.  90.  89.  89.  88.  87.  87.  87.  82.  82.  81.  77.]\n",
      "-\n",
      "[100. 100. 100. 100. 100. 100. 100. 100. 100. 100.]\n",
      "before: 82\n",
      "n_childrens: 15\n",
      "n_mutants: 15\n",
      "after: 112\n",
      "------------------------------------\n",
      "epoch 5\n"
     ]
    },
    {
     "name": "stderr",
     "output_type": "stream",
     "text": [
      "100%|██████████| 112/112 [03:12<00:00,  1.72s/it]\n"
     ]
    },
    {
     "name": "stdout",
     "output_type": "stream",
     "text": [
      "[100. 100. 100. 100. 100. 100. 100. 100. 100. 100. 100. 100. 100. 100.\n",
      " 100. 100. 100. 100. 100. 100.  99.  99.  99.  99.  99.  99.  99.  99.\n",
      "  99.  99.  99.  99.  99.  99.  99.  99.  99.  99.  99.  99.  99.  99.\n",
      "  99.  99.  99.  99.  99.  99.  99.  99.  99.  98.  98.  98.  98.  98.\n",
      "  98.  98.  98.  98.  98.  98.  98.  98.  98.  98.  98.  98.  98.  98.\n",
      "  98.  98.  98.  98.  98.  97.  97.  97.  97.  97.  97.  97.  97.  97.\n",
      "  97.  97.  97.  97.  97.  97.  97.  97.  97.  96.  96.  96.  96.  96.\n",
      "  95.  95.  95.  95.  94.  94.  93.  93.  92.  92.  90.  90.  88.  86.]\n",
      "-\n",
      "[100. 100. 100. 100. 100. 100. 100. 100. 100. 100.]\n",
      "before: 86\n",
      "n_childrens: 15\n",
      "n_mutants: 15\n",
      "after: 116\n",
      "------------------------------------\n",
      "epoch 6\n"
     ]
    },
    {
     "name": "stderr",
     "output_type": "stream",
     "text": [
      "100%|██████████| 116/116 [03:19<00:00,  1.72s/it]\n"
     ]
    },
    {
     "name": "stdout",
     "output_type": "stream",
     "text": [
      "[100. 100. 100. 100. 100. 100. 100. 100. 100. 100. 100. 100. 100. 100.\n",
      " 100.  99.  99.  99.  99.  99.  99.  99.  99.  99.  99.  99.  99.  99.\n",
      "  99.  99.  99.  99.  99.  99.  99.  99.  99.  99.  99.  99.  99.  99.\n",
      "  99.  99.  99.  99.  99.  99.  99.  99.  99.  99.  99.  99.  98.  98.\n",
      "  98.  98.  98.  98.  98.  98.  98.  98.  98.  98.  98.  98.  98.  98.\n",
      "  98.  98.  98.  97.  97.  97.  97.  97.  97.  97.  97.  97.  97.  97.\n",
      "  97.  97.  97.  97.  97.  97.  97.  97.  97.  97.  97.  97.  96.  96.\n",
      "  96.  96.  96.  96.  96.  96.  96.  96.  95.  95.  94.  94.  94.  92.\n",
      "  92.  91.  90.  86.]\n",
      "-\n",
      "[100. 100. 100. 100. 100. 100. 100. 100. 100. 100.]\n",
      "before: 91\n",
      "n_childrens: 15\n",
      "n_mutants: 15\n",
      "after: 121\n",
      "------------------------------------\n",
      "epoch 7\n"
     ]
    },
    {
     "name": "stderr",
     "output_type": "stream",
     "text": [
      "100%|██████████| 121/121 [03:25<00:00,  1.70s/it]\n"
     ]
    },
    {
     "name": "stdout",
     "output_type": "stream",
     "text": [
      "[100. 100. 100. 100. 100. 100. 100. 100. 100. 100. 100. 100. 100. 100.\n",
      " 100. 100. 100. 100.  99.  99.  99.  99.  99.  99.  99.  99.  99.  99.\n",
      "  99.  99.  99.  99.  99.  99.  99.  99.  99.  99.  99.  99.  99.  99.\n",
      "  99.  99.  99.  99.  99.  99.  99.  99.  99.  98.  98.  98.  98.  98.\n",
      "  98.  98.  98.  98.  98.  98.  98.  98.  98.  98.  98.  98.  98.  98.\n",
      "  98.  98.  98.  98.  98.  98.  98.  98.  98.  98.  98.  98.  97.  97.\n",
      "  97.  97.  97.  97.  97.  97.  97.  97.  97.  97.  97.  97.  97.  97.\n",
      "  97.  97.  97.  97.  97.  96.  96.  96.  96.  96.  96.  96.  96.  95.\n",
      "  95.  95.  95.  94.  94.  93.  92.  92.  83.]\n",
      "-\n",
      "[100. 100. 100. 100. 100. 100. 100. 100. 100. 100.]\n",
      "before: 87\n",
      "n_childrens: 15\n",
      "n_mutants: 15\n",
      "after: 117\n",
      "------------------------------------\n",
      "epoch 8\n"
     ]
    },
    {
     "name": "stderr",
     "output_type": "stream",
     "text": [
      "100%|██████████| 117/117 [03:10<00:00,  1.63s/it]\n"
     ]
    },
    {
     "name": "stdout",
     "output_type": "stream",
     "text": [
      "[100. 100. 100. 100. 100. 100. 100. 100. 100. 100. 100. 100. 100. 100.\n",
      " 100.  99.  99.  99.  99.  99.  99.  99.  99.  99.  99.  99.  99.  99.\n",
      "  99.  99.  99.  99.  99.  99.  99.  99.  99.  99.  99.  99.  99.  99.\n",
      "  99.  99.  99.  99.  99.  99.  99.  99.  99.  98.  98.  98.  98.  98.\n",
      "  98.  98.  98.  98.  98.  98.  98.  98.  98.  98.  98.  98.  98.  98.\n",
      "  98.  98.  98.  98.  98.  98.  98.  98.  98.  98.  98.  98.  98.  97.\n",
      "  97.  97.  97.  97.  97.  97.  97.  97.  97.  97.  97.  97.  97.  97.\n",
      "  97.  97.  96.  96.  96.  96.  96.  96.  96.  96.  96.  96.  96.  96.\n",
      "  95.  95.  94.  92.  91.]\n",
      "-\n",
      "[100. 100. 100. 100. 100. 100. 100. 100. 100. 100.]\n",
      "before: 86\n",
      "n_childrens: 15\n",
      "n_mutants: 15\n",
      "after: 116\n",
      "------------------------------------\n",
      "epoch 9\n"
     ]
    },
    {
     "name": "stderr",
     "output_type": "stream",
     "text": [
      "100%|██████████| 116/116 [02:52<00:00,  1.48s/it]"
     ]
    },
    {
     "name": "stdout",
     "output_type": "stream",
     "text": [
      "[100. 100. 100. 100. 100. 100. 100. 100. 100. 100. 100. 100. 100. 100.\n",
      " 100. 100. 100. 100. 100. 100. 100. 100. 100. 100. 100. 100. 100. 100.\n",
      "  99.  99.  99.  99.  99.  99.  99.  99.  99.  99.  99.  99.  99.  99.\n",
      "  99.  99.  99.  99.  99.  99.  99.  99.  99.  99.  99.  99.  99.  99.\n",
      "  99.  99.  99.  98.  98.  98.  98.  98.  98.  98.  98.  98.  98.  98.\n",
      "  98.  98.  98.  98.  98.  98.  98.  98.  98.  98.  98.  98.  98.  98.\n",
      "  98.  97.  97.  97.  97.  97.  97.  97.  97.  97.  97.  97.  97.  97.\n",
      "  97.  97.  97.  97.  97.  97.  97.  97.  97.  97.  97.  97.  96.  96.\n",
      "  96.  95.  95.  94.]\n",
      "-\n",
      "[100. 100. 100. 100. 100. 100. 100. 100. 100. 100.]\n",
      "before: 87\n",
      "n_childrens: 15\n",
      "n_mutants: 15\n",
      "after: 117\n"
     ]
    },
    {
     "name": "stderr",
     "output_type": "stream",
     "text": [
      "\n"
     ]
    }
   ],
   "source": [
    "MAX_EPOCH = 10\n",
    "MAX_POPULATION = 20\n",
    "N_TRIALS = 100\n",
    "\n",
    "population = [MyPlayer() for _ in range(MAX_POPULATION)]\n",
    "\n",
    "for epoch in range(MAX_EPOCH):\n",
    "\n",
    "    print(f'------------------------------------\\nepoch {epoch}')\n",
    "\n",
    "    scores = evaluate_population(population, N_TRIALS)\n",
    "\n",
    "    idx_sort = np.argsort(scores)[::-1]\n",
    "    scores = scores[idx_sort]\n",
    "    population = [population[i] for i in idx_sort]\n",
    "\n",
    "    print('scores')\n",
    "    print(scores)\n",
    "\n",
    "    # provare ad implementare morte dopo tot che non si è tra i primi tot\n",
    "    #--------------------------------------\n",
    "\n",
    "    to_death = []\n",
    "    for i, p in enumerate(population):\n",
    "        bonus_epochs = 4 if i < MAX_POPULATION / 2 else None\n",
    "        if p.get_death(bonus_epochs) == 0: to_death.append((i, p))\n",
    "    for i, p in to_death[::-1]:\n",
    "        population.remove(p)\n",
    "        scores = np.delete(scores, i)\n",
    "\n",
    "    ## magari aumentare e diminuire aumento popolazione in base a grandezza popolazione\n",
    "\n",
    "    print(f'before: {len(population)}')\n",
    "\n",
    "    ## procreazione (probabilita dipendente da fitness)\n",
    "\n",
    "    childrens = procreation(population, scores)\n",
    "    print(f'n_childrens: {len(childrens)}')\n",
    "\n",
    "    ## mutazioni (tante ma random su individui random)\n",
    "\n",
    "    mutants = mutation(population)\n",
    "    print(f'n_mutants: {len(mutants)}')\n",
    "\n",
    "    for child in childrens: population.append(child)\n",
    "    for mutant in mutants: population.append(mutant)\n",
    "\n",
    "    print(f'after: {len(population)}')\n",
    "\n",
    "    #"
   ]
  },
  {
   "cell_type": "code",
   "execution_count": 13,
   "metadata": {},
   "outputs": [
    {
     "name": "stdout",
     "output_type": "stream",
     "text": [
      "[[0.59923711 0.00127436 0.29274716 0.09691764 0.96716405]\n",
      " [0.45680423 0.31143271 0.19930104 0.55172626 0.63428148]\n",
      " [0.63707781 0.98578032 0.12140629 0.50865789 0.96773215]\n",
      " [0.44541251 0.88323028 0.54425298 0.43068464 0.69010507]\n",
      " [0.50936949 0.59367132 0.96148384 0.21368317 0.66575189]]\n"
     ]
    }
   ],
   "source": [
    "ThePlayer = population[0]\n",
    "print(ThePlayer.get_weights())"
   ]
  },
  {
   "cell_type": "code",
   "execution_count": 12,
   "metadata": {},
   "outputs": [
    {
     "name": "stderr",
     "output_type": "stream",
     "text": [
      "  0%|          | 0/1000 [00:00<?, ?it/s]"
     ]
    },
    {
     "name": "stderr",
     "output_type": "stream",
     "text": [
      "100%|██████████| 1000/1000 [00:28<00:00, 35.37it/s]"
     ]
    },
    {
     "name": "stdout",
     "output_type": "stream",
     "text": [
      "Player won 982 / 1000 as first\n",
      "Player won 984 / 1000 as second\n"
     ]
    },
    {
     "name": "stderr",
     "output_type": "stream",
     "text": [
      "\n"
     ]
    }
   ],
   "source": [
    "wins_first = 0\n",
    "wins_second = 0\n",
    "n_trials = 1000\n",
    "\n",
    "player1 = ThePlayer\n",
    "player2 = RandomPlayer()\n",
    "\n",
    "for _ in tqdm(range(n_trials)):\n",
    "    g = Game()\n",
    "\n",
    "    winner = g.play(player1, player2)\n",
    "\n",
    "    if winner == 0: wins_first += 1\n",
    "\n",
    "    g = Game()\n",
    "\n",
    "    winner = g.play(player2, player1)\n",
    "\n",
    "    if winner == 1: wins_second += 1\n",
    "\n",
    "print(f\"Player won {wins_first} / {n_trials} as first\")\n",
    "print(f\"Player won {wins_second} / {n_trials} as second\")"
   ]
  }
 ],
 "metadata": {
  "kernelspec": {
   "display_name": "Python 3",
   "language": "python",
   "name": "python3"
  },
  "language_info": {
   "codemirror_mode": {
    "name": "ipython",
    "version": 3
   },
   "file_extension": ".py",
   "mimetype": "text/x-python",
   "name": "python",
   "nbconvert_exporter": "python",
   "pygments_lexer": "ipython3",
   "version": "3.10.11"
  }
 },
 "nbformat": 4,
 "nbformat_minor": 2
}
