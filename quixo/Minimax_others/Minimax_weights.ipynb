{
 "cells": [
  {
   "cell_type": "markdown",
   "metadata": {},
   "source": [
    "## Minimax with alpha-beta pruning"
   ]
  },
  {
   "cell_type": "code",
   "execution_count": 164,
   "metadata": {},
   "outputs": [],
   "source": [
    "import random\n",
    "import numpy as np\n",
    "from game import Game, Move, Player\n",
    "from copy import deepcopy\n",
    "from tqdm import tqdm"
   ]
  },
  {
   "cell_type": "markdown",
   "metadata": {},
   "source": [
    "Dummy game class to leave the real Game class untouched"
   ]
  },
  {
   "cell_type": "code",
   "execution_count": 165,
   "metadata": {},
   "outputs": [],
   "source": [
    "class Dummy_Game(object):\n",
    "    def __init__(self) -> None:\n",
    "        self._board = np.ones((5, 5), dtype=np.uint8) * -1\n",
    "        self.current_player_idx = 1\n",
    "\n",
    "    def get_board(self): return self._board\n",
    "\n",
    "    def single_move(self, board, from_pos, move, player_id):\n",
    "        self._board = deepcopy(board)\n",
    "        self.current_player_idx = player_id\n",
    "        ok = self.__move(from_pos, move, player_id)\n",
    "        return deepcopy(self._board), ok\n",
    "    \n",
    "    def check_winner_board(self, board):\n",
    "        self._board = board\n",
    "        return self.check_winner()\n",
    "\n",
    "    def check_winner(self) -> int:\n",
    "        for x in range(self._board.shape[0]):\n",
    "            if self._board[x, 0] != -1 and all(self._board[x, :] == self._board[x, 0]): return self._board[x, 0]\n",
    "        for y in range(self._board.shape[1]):\n",
    "            if self._board[0, y] != -1 and all(self._board[:, y] == self._board[0, y]): return self._board[0, y]\n",
    "        if self._board[0, 0] != -1 and all([self._board[x, x] for x in range(self._board.shape[0])] == self._board[0, 0]): return self._board[0, 0]\n",
    "        if self._board[0, -1] != -1 and all([self._board[x, -(x + 1)] for x in range(self._board.shape[0])] == self._board[0, -1]): return self._board[0, -1]\n",
    "        return -1\n",
    "\n",
    "    def __move(self, from_pos: tuple[int, int], slide: Move, player_id: int) -> bool:\n",
    "        if player_id > 2: return False\n",
    "        prev_value = deepcopy(self._board[(from_pos[1], from_pos[0])])\n",
    "        acceptable = self.__take((from_pos[1], from_pos[0]), player_id)\n",
    "        if acceptable:\n",
    "            acceptable = self.__slide((from_pos[1], from_pos[0]), slide)\n",
    "            if not acceptable: self._board[(from_pos[1], from_pos[0])] = deepcopy(prev_value)\n",
    "        return acceptable\n",
    "\n",
    "    def __take(self, from_pos: tuple[int, int], player_id: int) -> bool:\n",
    "        acceptable: bool = ((from_pos[0] == 0 and from_pos[1] < 5) or (from_pos[0] == 4 and from_pos[1] < 5) or (from_pos[1] == 0 and from_pos[0] < 5) or (from_pos[1] == 4 and from_pos[0] < 5)) and (self._board[from_pos] < 0 or self._board[from_pos] == player_id)\n",
    "        if acceptable: self._board[from_pos] = player_id\n",
    "        return acceptable\n",
    "\n",
    "    def __slide(self, from_pos: tuple[int, int], slide: Move) -> bool:\n",
    "        SIDES = [(0, 0), (0, 4), (4, 0), (4, 4)]\n",
    "        if from_pos not in SIDES:\n",
    "            acceptable_top: bool = from_pos[0] == 0 and (slide == Move.BOTTOM or slide == Move.LEFT or slide == Move.RIGHT)\n",
    "            acceptable_bottom: bool = from_pos[0] == 4 and (slide == Move.TOP or slide == Move.LEFT or slide == Move.RIGHT)\n",
    "            acceptable_left: bool = from_pos[1] == 0 and (slide == Move.BOTTOM or slide == Move.TOP or slide == Move.RIGHT)\n",
    "            acceptable_right: bool = from_pos[1] == 4 and (slide == Move.BOTTOM or slide == Move.TOP or slide == Move.LEFT)\n",
    "        else:\n",
    "            acceptable_top: bool = from_pos == (0, 0) and (slide == Move.BOTTOM or slide == Move.RIGHT)\n",
    "            acceptable_left: bool = from_pos == (4, 0) and (slide == Move.TOP or slide == Move.RIGHT)\n",
    "            acceptable_right: bool = from_pos == (0, 4) and (slide == Move.BOTTOM or slide == Move.LEFT)\n",
    "            acceptable_bottom: bool = from_pos == (4, 4) and (slide == Move.TOP or slide == Move.LEFT)\n",
    "        acceptable: bool = acceptable_top or acceptable_bottom or acceptable_left or acceptable_right\n",
    "        if acceptable:\n",
    "            piece = self._board[from_pos]\n",
    "            if slide == Move.LEFT:\n",
    "                for i in range(from_pos[1], 0, -1): self._board[(from_pos[0], i)] = self._board[(from_pos[0], i - 1)]\n",
    "                self._board[(from_pos[0], 0)] = piece\n",
    "            elif slide == Move.RIGHT:\n",
    "                for i in range(from_pos[1], self._board.shape[1] - 1, 1): self._board[(from_pos[0], i)] = self._board[(from_pos[0], i + 1)]\n",
    "                self._board[(from_pos[0], self._board.shape[1] - 1)] = piece\n",
    "            elif slide == Move.TOP:\n",
    "                for i in range(from_pos[0], 0, -1): self._board[(i, from_pos[1])] = self._board[(i - 1, from_pos[1])]\n",
    "                self._board[(0, from_pos[1])] = piece\n",
    "            elif slide == Move.BOTTOM:\n",
    "                for i in range(from_pos[0], self._board.shape[0] - 1, 1): self._board[(i, from_pos[1])] = self._board[(i + 1, from_pos[1])]\n",
    "                self._board[(self._board.shape[0] - 1, from_pos[1])] = piece\n",
    "        return acceptable"
   ]
  },
  {
   "cell_type": "markdown",
   "metadata": {},
   "source": [
    "Computing all legal moves (when the board is empty)"
   ]
  },
  {
   "cell_type": "code",
   "execution_count": 166,
   "metadata": {},
   "outputs": [
    {
     "name": "stdout",
     "output_type": "stream",
     "text": [
      "16\n"
     ]
    }
   ],
   "source": [
    "border = []\n",
    "for i in range(5):\n",
    "    for j in range(5):\n",
    "        if i == 0 or i == 4 or j == 0 or j == 4:\n",
    "            border.append((i, j))\n",
    "BORDER = (list(set(border)))\n",
    "print(len(BORDER))\n",
    "\n",
    "def tile_to_moves(tile):\n",
    "    possible_moves = [Move.TOP, Move.BOTTOM, Move.LEFT, Move.RIGHT]\n",
    "        \n",
    "    if tile[0] == 0: possible_moves.remove(Move.LEFT)\n",
    "    if tile[0] == 4: possible_moves.remove(Move.RIGHT)\n",
    "    if tile[1] == 0: possible_moves.remove(Move.TOP)\n",
    "    if tile[1] == 4: possible_moves.remove(Move.BOTTOM)\n",
    "\n",
    "    return possible_moves\n",
    "\n",
    "tile_moves = {tile: tile_to_moves(tile) for tile in BORDER}\n",
    "\n",
    "ALL_MOVES = []\n",
    "for tile in BORDER:\n",
    "    possible_moves = tile_moves[tile]\n",
    "    for move in possible_moves: ALL_MOVES.append((tile, move))\n",
    "N_ALL = len(ALL_MOVES)\n",
    "\n",
    "class RandomPlayer(Player):\n",
    "    def __init__(self) -> None:\n",
    "        super().__init__()\n",
    "\n",
    "    def make_move(self, game: 'Game') -> tuple[tuple[int, int], Move]:\n",
    "\n",
    "        from_pos = random.choice(BORDER)\n",
    "        while game.get_board()[from_pos[1], from_pos[0]] == 1 - game.current_player_idx: from_pos = random.choice(BORDER)\n",
    "\n",
    "        possible_moves = tile_moves[from_pos]\n",
    "        \n",
    "        move = random.choice(possible_moves)\n",
    "\n",
    "        return from_pos, move"
   ]
  },
  {
   "cell_type": "markdown",
   "metadata": {},
   "source": [
    "Minimax class"
   ]
  },
  {
   "cell_type": "code",
   "execution_count": 167,
   "metadata": {},
   "outputs": [],
   "source": [
    "def evaluate_board(board, winner, maximizing_player):\n",
    "\n",
    "    win_reward = 1\n",
    "\n",
    "    base_reward = -1 * win_reward # winner == 1 - maximizing_player\n",
    "    if winner == maximizing_player: base_reward = win_reward\n",
    "    elif winner == -1: base_reward = 0\n",
    "\n",
    "    return base_reward\n",
    "\n",
    "def minimax(game: \"Dummy_Game\", board, depth, maximizing, current_player, alpha, beta, transposition_table, min_weights):\n",
    "\n",
    "    state = tuple(list(board.flatten()) + [current_player])\n",
    "\n",
    "    if state in transposition_table: return transposition_table[state]\n",
    "\n",
    "    winner = game.check_winner()\n",
    "    if winner != -1 or depth == 0: return evaluate_board(board, winner, current_player if maximizing else 1 - current_player)\n",
    "\n",
    "    if maximizing:\n",
    "        max_eval = float('-inf')\n",
    "        for om in ALL_MOVES:\n",
    "            from_pos, move = om\n",
    "            new_board, ok = game.single_move(board, from_pos, move, current_player)\n",
    "            if ok:\n",
    "                eval = minimax(game, new_board, depth - 1, False, 1 - current_player, alpha, beta, transposition_table, min_weights)\n",
    "\n",
    "                max_eval = max(max_eval, eval)\n",
    "                alpha = max(alpha, eval)\n",
    "\n",
    "                if beta <= alpha: break  # Prune the remaining branches\n",
    "\n",
    "        transposition_table[state] = max_eval\n",
    "        return max_eval\n",
    "    \n",
    "    else:\n",
    "        min_eval = float('inf')\n",
    "        for i_om, om in enumerate(ALL_MOVES):\n",
    "            from_pos, move = om\n",
    "            new_board, ok = game.single_move(board, from_pos, move, current_player)\n",
    "            if ok:\n",
    "                eval = minimax(game, new_board, depth - 1, True, 1 - current_player, alpha, beta, transposition_table, min_weights)\n",
    "\n",
    "                eval = eval * min_weights[i_om]\n",
    "\n",
    "                min_eval = min(min_eval, eval)\n",
    "                beta = min(beta, eval)\n",
    "\n",
    "                if beta <= alpha: break  # Prune the remaining branches\n",
    "\n",
    "        transposition_table[state] = min_eval\n",
    "        return min_eval\n",
    "\n",
    "def minimax_wrapper(game: \"Dummy_Game\", board, player_id, max_depth, min_weights, transposition_table= {}):\n",
    "\n",
    "    best_move = None\n",
    "    best_eval = float('-inf')\n",
    "\n",
    "    for om in ALL_MOVES:\n",
    "        from_pos, move = om\n",
    "        new_board, ok = game.single_move(board, from_pos, move, player_id)\n",
    "        if ok:\n",
    "            om_eval = minimax(game, new_board, max_depth, False, 1 - player_id, float('-inf'), float('inf'), transposition_table, min_weights)\n",
    "\n",
    "            if om_eval > best_eval:\n",
    "                best_eval = om_eval\n",
    "                best_move = om\n",
    "\n",
    "    #print(f\"Best move: {best_move} -> Best Value: {best_eval}\")\n",
    "\n",
    "    return best_move"
   ]
  },
  {
   "cell_type": "code",
   "execution_count": 168,
   "metadata": {},
   "outputs": [],
   "source": [
    "class MyPlayer(Player):\n",
    "    def __init__(self, max_depth= 0, min_weights= None, base_until_move_change= 10) -> None:\n",
    "        super().__init__()\n",
    "\n",
    "        self.max_depth = max_depth\n",
    "        self.transposition_table = {}\n",
    "\n",
    "        self.dummy = Dummy_Game()\n",
    "\n",
    "        self.base_until_move_change = base_until_move_change\n",
    "        self.last_pos_move = None\n",
    "        self.until_move_change = self.base_until_move_change\n",
    "\n",
    "        if min_weights is None: self.min_weights = np.random.random(size= (N_ALL,))\n",
    "        else: self.min_weights = min_weights\n",
    "\n",
    "        self.epoch_before_death = 3\n",
    "\n",
    "    def get_weights(self): return self.min_weights\n",
    "\n",
    "    def get_death(self, bonus= None):\n",
    "        if bonus is not None: self.epoch_before_death = bonus + 1\n",
    "        self.epoch_before_death -= 1\n",
    "        return self.epoch_before_death\n",
    "\n",
    "    def make_move(self, game: 'Game') -> tuple[tuple[int, int], Move]:\n",
    "    \n",
    "        board = game.get_board()\n",
    "\n",
    "        pos_move = minimax_wrapper(self.dummy, board, game.current_player_idx, max_depth= self.max_depth, min_weights= self.min_weights, transposition_table= self.transposition_table)\n",
    "        \n",
    "        if pos_move == self.last_pos_move:\n",
    "            self.until_move_change -= 1\n",
    "            if self.until_move_change == 0:\n",
    "                board = game.get_board()\n",
    "                player_id = game.current_player_idx\n",
    "\n",
    "                from_pos, move = ALL_MOVES[np.random.randint(0, N_ALL)]\n",
    "                while board[from_pos[1], from_pos[0]] == 1 - player_id: from_pos, move = ALL_MOVES[np.random.randint(0, N_ALL)]\n",
    "\n",
    "                self.until_move_change = self.base_until_move_change\n",
    "        else: self.last_pos_move = pos_move\n",
    "\n",
    "        from_pos, move = pos_move\n",
    "        \n",
    "        #print((from_pos, move))\n",
    "        #print('---------------')\n",
    "        return from_pos, move"
   ]
  },
  {
   "cell_type": "markdown",
   "metadata": {},
   "source": [
    "functions for the EA"
   ]
  },
  {
   "cell_type": "code",
   "execution_count": 169,
   "metadata": {},
   "outputs": [],
   "source": [
    "def evaluate_population(population, n_trials= 100):\n",
    "\n",
    "    rand_p = RandomPlayer()\n",
    "\n",
    "    len_p = len(population)\n",
    "\n",
    "    scores = np.zeros(shape= (len_p,))\n",
    "\n",
    "    for i in tqdm(range(len_p)):\n",
    "\n",
    "        for _ in range(n_trials // 2):\n",
    "\n",
    "            scores[i] += 1 if Game().play(population[i], rand_p) == 0 else 0\n",
    "\n",
    "            scores[i] += 1 if Game().play(rand_p, population[i]) == 1 else 0\n",
    "\n",
    "    return np.array(scores)"
   ]
  },
  {
   "cell_type": "code",
   "execution_count": 170,
   "metadata": {},
   "outputs": [],
   "source": [
    "def procreate_1(p1, p2, c1, c2):\n",
    "    \n",
    "    W1 = p1.get_weights()\n",
    "    W2 = p2.get_weights()\n",
    "\n",
    "    W3 = deepcopy(W1)\n",
    "\n",
    "    c = c1 / (c1 + c2)\n",
    "\n",
    "    for i in range(len(W1)):\n",
    "        if c < np.random.random():\n",
    "            W3[i] = W2[i]\n",
    "\n",
    "    return MyPlayer(max_depth= p1.max_depth, min_weights= W3)\n",
    "\n",
    "def procreation(population, scores):\n",
    "\n",
    "    exp_val = np.exp(scores - np.max(scores))\n",
    "    prob = exp_val / np.sum(exp_val)\n",
    "    \n",
    "    parents = []\n",
    "    for _ in range(10):\n",
    "        parents.append(np.random.choice([i for i in range(len(population))], size= (2,), replace= False, p= prob))\n",
    "\n",
    "    childrens = []\n",
    "    for pair in parents:\n",
    "        pi = population[pair[0]]\n",
    "        pj = population[pair[1]]\n",
    "        mod_i = prob[pair[0]]\n",
    "        mod_j = prob[pair[1]]\n",
    "        \n",
    "        childrens.append(procreate_1(pi, pj, mod_i, mod_j))\n",
    "\n",
    "    return childrens"
   ]
  },
  {
   "cell_type": "code",
   "execution_count": 171,
   "metadata": {},
   "outputs": [],
   "source": [
    "P_MUTATION = 0.2\n",
    "MUTATION_STRENGTH = 0.01\n",
    "\n",
    "def mutate_1(p):\n",
    "\n",
    "    Wm = deepcopy(p.get_weights())\n",
    "\n",
    "    for i in range(len(Wm)):\n",
    "        if P_MUTATION >= np.random.random():\n",
    "            Wm[i] += np.random.normal(0, MUTATION_STRENGTH)\n",
    "\n",
    "    return MyPlayer(max_depth= p.max_depth, min_weights= Wm)\n",
    "\n",
    "def mutation(population):\n",
    "\n",
    "    bases = np.random.choice([i for i in range(len(population))], size= (10,), replace= False)\n",
    "\n",
    "    mutants = []\n",
    "    for base in bases: mutants.append(mutate_1(population[base]))\n",
    "\n",
    "    return mutants"
   ]
  },
  {
   "cell_type": "markdown",
   "metadata": {},
   "source": [
    "EA"
   ]
  },
  {
   "cell_type": "code",
   "execution_count": 172,
   "metadata": {},
   "outputs": [
    {
     "name": "stdout",
     "output_type": "stream",
     "text": [
      "------------------------------------\n",
      "epoch 0\n"
     ]
    },
    {
     "name": "stderr",
     "output_type": "stream",
     "text": [
      "100%|██████████| 10/10 [01:48<00:00, 10.89s/it]\n"
     ]
    },
    {
     "name": "stdout",
     "output_type": "stream",
     "text": [
      "scores\n",
      "[20. 20. 20. 20. 20. 20. 20. 19. 19. 17.]\n",
      "before: 10\n",
      "n_childrens: 10\n",
      "n_mutants: 10\n",
      "after: 30\n",
      "------------------------------------\n",
      "epoch 1\n"
     ]
    },
    {
     "name": "stderr",
     "output_type": "stream",
     "text": [
      "100%|██████████| 30/30 [05:19<00:00, 10.67s/it]\n"
     ]
    },
    {
     "name": "stdout",
     "output_type": "stream",
     "text": [
      "scores\n",
      "[20. 20. 20. 20. 20. 20. 20. 20. 20. 20. 20. 20. 20. 19. 19. 19. 19. 19.\n",
      " 19. 19. 19. 19. 18. 18. 18. 18. 18. 18. 18. 17.]\n",
      "before: 30\n",
      "n_childrens: 10\n",
      "n_mutants: 10\n",
      "after: 50\n",
      "------------------------------------\n",
      "epoch 2\n"
     ]
    },
    {
     "name": "stderr",
     "output_type": "stream",
     "text": [
      "100%|██████████| 50/50 [08:27<00:00, 10.15s/it]\n"
     ]
    },
    {
     "name": "stdout",
     "output_type": "stream",
     "text": [
      "scores\n",
      "[20. 20. 20. 20. 20. 20. 20. 20. 20. 20. 20. 20. 20. 20. 20. 20. 20. 20.\n",
      " 20. 20. 20. 20. 20. 20. 20. 20. 20. 20. 20. 20. 19. 19. 19. 19. 19. 19.\n",
      " 19. 19. 19. 19. 19. 19. 19. 19. 19. 18. 18. 18. 18. 17.]\n",
      "before: 45\n",
      "n_childrens: 10\n",
      "n_mutants: 10\n",
      "after: 65\n",
      "------------------------------------\n",
      "epoch 3\n"
     ]
    },
    {
     "name": "stderr",
     "output_type": "stream",
     "text": [
      "100%|██████████| 65/65 [10:57<00:00, 10.12s/it]\n"
     ]
    },
    {
     "name": "stdout",
     "output_type": "stream",
     "text": [
      "scores\n",
      "[20. 20. 20. 20. 20. 20. 20. 20. 20. 20. 20. 20. 20. 20. 20. 20. 20. 20.\n",
      " 20. 20. 20. 20. 20. 20. 20. 20. 20. 19. 19. 19. 19. 19. 19. 19. 19. 19.\n",
      " 19. 19. 19. 19. 19. 19. 19. 19. 19. 19. 19. 19. 19. 19. 19. 19. 19. 19.\n",
      " 19. 19. 19. 18. 18. 18. 18. 18. 18. 17. 16.]\n",
      "before: 54\n",
      "n_childrens: 10\n",
      "n_mutants: 10\n",
      "after: 74\n",
      "------------------------------------\n",
      "epoch 4\n"
     ]
    },
    {
     "name": "stderr",
     "output_type": "stream",
     "text": [
      "100%|██████████| 74/74 [12:35<00:00, 10.21s/it]\n"
     ]
    },
    {
     "name": "stdout",
     "output_type": "stream",
     "text": [
      "scores\n",
      "[20. 20. 20. 20. 20. 20. 20. 20. 20. 20. 20. 20. 20. 20. 20. 20. 20. 20.\n",
      " 20. 20. 20. 20. 20. 20. 20. 20. 20. 20. 20. 20. 20. 20. 20. 20. 20. 19.\n",
      " 19. 19. 19. 19. 19. 19. 19. 19. 19. 19. 19. 19. 19. 19. 19. 19. 19. 19.\n",
      " 19. 19. 19. 19. 19. 19. 19. 19. 19. 19. 19. 19. 18. 18. 18. 18. 18. 18.\n",
      " 17. 17.]\n",
      "before: 55\n",
      "n_childrens: 10\n",
      "n_mutants: 10\n",
      "after: 75\n",
      "------------------------------------\n",
      "epoch 5\n"
     ]
    },
    {
     "name": "stderr",
     "output_type": "stream",
     "text": [
      "100%|██████████| 75/75 [12:45<00:00, 10.20s/it]\n"
     ]
    },
    {
     "name": "stdout",
     "output_type": "stream",
     "text": [
      "scores\n",
      "[20. 20. 20. 20. 20. 20. 20. 20. 20. 20. 20. 20. 20. 20. 20. 20. 20. 20.\n",
      " 20. 20. 20. 20. 20. 20. 20. 20. 20. 20. 20. 20. 20. 20. 20. 20. 20. 19.\n",
      " 19. 19. 19. 19. 19. 19. 19. 19. 19. 19. 19. 19. 19. 19. 19. 19. 19. 19.\n",
      " 19. 19. 19. 19. 19. 19. 19. 19. 19. 19. 19. 19. 18. 18. 18. 18. 18. 18.\n",
      " 18. 17. 17.]\n",
      "before: 57\n",
      "n_childrens: 10\n",
      "n_mutants: 10\n",
      "after: 77\n",
      "------------------------------------\n",
      "epoch 6\n"
     ]
    },
    {
     "name": "stderr",
     "output_type": "stream",
     "text": [
      "100%|██████████| 77/77 [13:18<00:00, 10.37s/it]\n"
     ]
    },
    {
     "name": "stdout",
     "output_type": "stream",
     "text": [
      "scores\n",
      "[20. 20. 20. 20. 20. 20. 20. 20. 20. 20. 20. 20. 20. 20. 20. 20. 20. 20.\n",
      " 20. 20. 20. 20. 20. 20. 20. 20. 20. 20. 20. 20. 20. 20. 20. 20. 19. 19.\n",
      " 19. 19. 19. 19. 19. 19. 19. 19. 19. 19. 19. 19. 19. 19. 19. 19. 19. 19.\n",
      " 19. 19. 19. 19. 19. 19. 19. 19. 19. 19. 19. 18. 18. 18. 18. 18. 18. 18.\n",
      " 18. 18. 18. 17. 17.]\n",
      "before: 57\n",
      "n_childrens: 10\n",
      "n_mutants: 10\n",
      "after: 77\n",
      "------------------------------------\n",
      "epoch 7\n"
     ]
    },
    {
     "name": "stderr",
     "output_type": "stream",
     "text": [
      "100%|██████████| 77/77 [13:09<00:00, 10.26s/it]\n"
     ]
    },
    {
     "name": "stdout",
     "output_type": "stream",
     "text": [
      "scores\n",
      "[20. 20. 20. 20. 20. 20. 20. 20. 20. 20. 20. 20. 20. 20. 20. 20. 20. 20.\n",
      " 20. 20. 20. 20. 20. 20. 20. 20. 20. 20. 20. 20. 20. 20. 20. 20. 19. 19.\n",
      " 19. 19. 19. 19. 19. 19. 19. 19. 19. 19. 19. 19. 19. 19. 19. 19. 19. 19.\n",
      " 19. 19. 19. 19. 19. 19. 19. 19. 19. 19. 18. 18. 18. 18. 18. 18. 18. 18.\n",
      " 18. 18. 18. 17. 17.]\n",
      "before: 54\n",
      "n_childrens: 10\n",
      "n_mutants: 10\n",
      "after: 74\n",
      "------------------------------------\n",
      "epoch 8\n"
     ]
    },
    {
     "name": "stderr",
     "output_type": "stream",
     "text": [
      "100%|██████████| 74/74 [12:38<00:00, 10.25s/it]\n"
     ]
    },
    {
     "name": "stdout",
     "output_type": "stream",
     "text": [
      "scores\n",
      "[20. 20. 20. 20. 20. 20. 20. 20. 20. 20. 20. 20. 20. 20. 20. 20. 20. 20.\n",
      " 20. 20. 20. 20. 20. 20. 20. 20. 20. 20. 20. 20. 20. 20. 20. 20. 20. 20.\n",
      " 20. 20. 20. 19. 19. 19. 19. 19. 19. 19. 19. 19. 19. 19. 19. 19. 19. 19.\n",
      " 19. 19. 19. 19. 19. 19. 19. 19. 18. 18. 18. 18. 18. 18. 18. 18. 18. 17.\n",
      " 17. 17.]\n",
      "before: 55\n",
      "n_childrens: 10\n",
      "n_mutants: 10\n",
      "after: 75\n",
      "------------------------------------\n",
      "epoch 9\n"
     ]
    },
    {
     "name": "stderr",
     "output_type": "stream",
     "text": [
      "100%|██████████| 75/75 [12:53<00:00, 10.31s/it]"
     ]
    },
    {
     "name": "stdout",
     "output_type": "stream",
     "text": [
      "scores\n",
      "[20. 20. 20. 20. 20. 20. 20. 20. 20. 20. 20. 20. 20. 20. 20. 20. 20. 20.\n",
      " 20. 20. 20. 20. 20. 20. 20. 20. 20. 20. 20. 20. 20. 20. 20. 20. 19. 19.\n",
      " 19. 19. 19. 19. 19. 19. 19. 19. 19. 19. 19. 19. 19. 19. 19. 19. 19. 19.\n",
      " 19. 19. 19. 19. 19. 19. 19. 19. 19. 19. 19. 19. 19. 18. 18. 18. 18. 18.\n",
      " 18. 18. 17.]\n",
      "before: 57\n",
      "n_childrens: 10\n",
      "n_mutants: 10\n",
      "after: 77\n"
     ]
    },
    {
     "name": "stderr",
     "output_type": "stream",
     "text": [
      "\n"
     ]
    }
   ],
   "source": [
    "MAX_EPOCH = 10\n",
    "MAX_POPULATION = 10\n",
    "N_TRIALS = 20\n",
    "\n",
    "population = [MyPlayer(max_depth= 1) for _ in range(MAX_POPULATION)]\n",
    "\n",
    "for epoch in range(MAX_EPOCH):\n",
    "\n",
    "    print(f'------------------------------------\\nepoch {epoch}')\n",
    "\n",
    "    scores = evaluate_population(population, N_TRIALS)\n",
    "\n",
    "    idx_sort = np.argsort(scores)[::-1]\n",
    "    scores = scores[idx_sort]\n",
    "    population = [population[i] for i in idx_sort]\n",
    "\n",
    "    print('scores')\n",
    "    print(scores)\n",
    "\n",
    "    # provare ad implementare morte dopo tot che non si è tra i primi tot\n",
    "    #--------------------------------------\n",
    "\n",
    "    to_death = []\n",
    "    for i, p in enumerate(population):\n",
    "        bonus_epochs = 4 if i < MAX_POPULATION / 2 else None\n",
    "        if p.get_death(bonus_epochs) == 0: to_death.append((i, p))\n",
    "    for i, p in to_death[::-1]:\n",
    "        population.remove(p)\n",
    "        scores = np.delete(scores, i)\n",
    "\n",
    "    ## magari aumentare e diminuire aumento popolazione in base a grandezza popolazione\n",
    "\n",
    "    print(f'before: {len(population)}')\n",
    "\n",
    "    ## procreazione (probabilita dipendente da fitness)\n",
    "\n",
    "    childrens = procreation(population, scores)\n",
    "    print(f'n_childrens: {len(childrens)}')\n",
    "\n",
    "    ## mutazioni (tante ma random su individui random)\n",
    "\n",
    "    mutants = mutation(population)\n",
    "    print(f'n_mutants: {len(mutants)}')\n",
    "\n",
    "    for child in childrens: population.append(child)\n",
    "    for mutant in mutants: population.append(mutant)\n",
    "\n",
    "    print(f'after: {len(population)}')\n",
    "\n",
    "    #"
   ]
  },
  {
   "cell_type": "markdown",
   "metadata": {},
   "source": [
    "test"
   ]
  },
  {
   "cell_type": "code",
   "execution_count": 174,
   "metadata": {},
   "outputs": [
    {
     "name": "stderr",
     "output_type": "stream",
     "text": [
      "100%|██████████| 1000/1000 [13:29<00:00,  1.24it/s]"
     ]
    },
    {
     "name": "stdout",
     "output_type": "stream",
     "text": [
      "Player won 965 / 1000 as first\n",
      "Player won 976 / 1000 as second\n"
     ]
    },
    {
     "name": "stderr",
     "output_type": "stream",
     "text": [
      "\n"
     ]
    }
   ],
   "source": [
    "ThePlayer = population[0]\n",
    "\n",
    "wins_first = 0\n",
    "wins_second = 0\n",
    "n_trials = 1000\n",
    "\n",
    "for i_g in tqdm(range(n_trials)):\n",
    "#for i_g in range(n_trials):\n",
    "\n",
    "    #print('==============================================================================')\n",
    "    #print('==============================================================================')\n",
    "    #print(f'game {i_g+1} - Player First (0)')\n",
    "\n",
    "    game = Game()\n",
    "    winner = game.play(ThePlayer, RandomPlayer())\n",
    "    if winner == 0: wins_first += 1\n",
    "\n",
    "    #print(f'game {i_g+1} - Player Second (1)')\n",
    "\n",
    "    game = Game()\n",
    "    winner = game.play(RandomPlayer(), ThePlayer)\n",
    "    if winner == 1: wins_second += 1\n",
    "\n",
    "print(f\"Player won {wins_first} / {n_trials} as first\")\n",
    "print(f\"Player won {wins_second} / {n_trials} as second\")"
   ]
  }
 ],
 "metadata": {
  "kernelspec": {
   "display_name": "Python 3",
   "language": "python",
   "name": "python3"
  },
  "language_info": {
   "codemirror_mode": {
    "name": "ipython",
    "version": 3
   },
   "file_extension": ".py",
   "mimetype": "text/x-python",
   "name": "python",
   "nbconvert_exporter": "python",
   "pygments_lexer": "ipython3",
   "version": "3.10.11"
  }
 },
 "nbformat": 4,
 "nbformat_minor": 2
}
