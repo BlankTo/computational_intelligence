{
 "cells": [
  {
   "cell_type": "markdown",
   "metadata": {},
   "source": [
    "## just a policy"
   ]
  },
  {
   "cell_type": "code",
   "execution_count": 1,
   "metadata": {},
   "outputs": [
    {
     "name": "stdout",
     "output_type": "stream",
     "text": [
      "16\n",
      "44\n"
     ]
    }
   ],
   "source": [
    "import random\n",
    "import numpy as np\n",
    "from game import Game, Move, Player\n",
    "from copy import deepcopy\n",
    "from tqdm import tqdm\n",
    "\n",
    "border = []\n",
    "for i in range(5):\n",
    "    for j in range(5):\n",
    "        if i == 0 or i == 4 or j == 0 or j == 4:\n",
    "            border.append((i, j))\n",
    "BORDER = (list(set(border)))\n",
    "print(len(BORDER))\n",
    "\n",
    "def tile_to_moves(tile):\n",
    "    possible_moves = [Move.TOP, Move.BOTTOM, Move.LEFT, Move.RIGHT]\n",
    "        \n",
    "    if tile[0] == 0: possible_moves.remove(Move.LEFT)\n",
    "    if tile[0] == 4: possible_moves.remove(Move.RIGHT)\n",
    "    if tile[1] == 0: possible_moves.remove(Move.TOP)\n",
    "    if tile[1] == 4: possible_moves.remove(Move.BOTTOM)\n",
    "\n",
    "    return possible_moves\n",
    "\n",
    "tile_moves = {tile: tile_to_moves(tile) for tile in BORDER}\n",
    "\n",
    "ALL_MOVES = []\n",
    "for tile in BORDER:\n",
    "    possible_moves = tile_moves[tile]\n",
    "    for move in possible_moves: ALL_MOVES.append((tile, move))\n",
    "N_ALL = len(ALL_MOVES)\n",
    "print(N_ALL)\n",
    "\n",
    "class RandomPlayer(Player):\n",
    "    def __init__(self) -> None:\n",
    "        super().__init__()\n",
    "\n",
    "    def make_move(self, game: 'Game') -> tuple[tuple[int, int], Move]:\n",
    "\n",
    "        from_pos = random.choice(BORDER)\n",
    "        while game.get_board()[from_pos[1], from_pos[0]] == 1 - game.current_player_idx: from_pos = random.choice(BORDER)\n",
    "\n",
    "        possible_moves = tile_moves[from_pos]\n",
    "        \n",
    "        move = random.choice(possible_moves)\n",
    "\n",
    "        return from_pos, move"
   ]
  },
  {
   "cell_type": "code",
   "execution_count": 2,
   "metadata": {},
   "outputs": [],
   "source": [
    "class Dummy_Game(object):\n",
    "    def __init__(self) -> None:\n",
    "        self._board = np.ones((5, 5), dtype=np.uint8) * -1\n",
    "        self.current_player_idx = 1\n",
    "\n",
    "    def single_move(self, board, from_pos, move, player_id):\n",
    "        self._board = deepcopy(board)\n",
    "        self.current_player_idx = player_id\n",
    "        ok = self.__move(from_pos, move, player_id)\n",
    "        return deepcopy(self._board), ok\n",
    "    \n",
    "    def check_winner_board(self, board):\n",
    "        self._board = board\n",
    "        return self.check_winner()\n",
    "\n",
    "    def check_winner(self) -> int:\n",
    "        for x in range(self._board.shape[0]):\n",
    "            if self._board[x, 0] != -1 and all(self._board[x, :] == self._board[x, 0]): return self._board[x, 0]\n",
    "        for y in range(self._board.shape[1]):\n",
    "            if self._board[0, y] != -1 and all(self._board[:, y] == self._board[0, y]): return self._board[0, y]\n",
    "        if self._board[0, 0] != -1 and all([self._board[x, x] for x in range(self._board.shape[0])] == self._board[0, 0]): return self._board[0, 0]\n",
    "        if self._board[0, -1] != -1 and all([self._board[x, -(x + 1)] for x in range(self._board.shape[0])] == self._board[0, -1]): return self._board[0, -1]\n",
    "        return -1\n",
    "\n",
    "    def __move(self, from_pos: tuple[int, int], slide: Move, player_id: int) -> bool:\n",
    "        if player_id > 2: return False\n",
    "        prev_value = deepcopy(self._board[(from_pos[1], from_pos[0])])\n",
    "        acceptable = self.__take((from_pos[1], from_pos[0]), player_id)\n",
    "        if acceptable:\n",
    "            acceptable = self.__slide((from_pos[1], from_pos[0]), slide)\n",
    "            if not acceptable: self._board[(from_pos[1], from_pos[0])] = deepcopy(prev_value)\n",
    "        return acceptable\n",
    "\n",
    "    def __take(self, from_pos: tuple[int, int], player_id: int) -> bool:\n",
    "        acceptable: bool = ((from_pos[0] == 0 and from_pos[1] < 5) or (from_pos[0] == 4 and from_pos[1] < 5) or (from_pos[1] == 0 and from_pos[0] < 5) or (from_pos[1] == 4 and from_pos[0] < 5)) and (self._board[from_pos] < 0 or self._board[from_pos] == player_id)\n",
    "        if acceptable: self._board[from_pos] = player_id\n",
    "        return acceptable\n",
    "\n",
    "    def __slide(self, from_pos: tuple[int, int], slide: Move) -> bool:\n",
    "        SIDES = [(0, 0), (0, 4), (4, 0), (4, 4)]\n",
    "        if from_pos not in SIDES:\n",
    "            acceptable_top: bool = from_pos[0] == 0 and (slide == Move.BOTTOM or slide == Move.LEFT or slide == Move.RIGHT)\n",
    "            acceptable_bottom: bool = from_pos[0] == 4 and (slide == Move.TOP or slide == Move.LEFT or slide == Move.RIGHT)\n",
    "            acceptable_left: bool = from_pos[1] == 0 and (slide == Move.BOTTOM or slide == Move.TOP or slide == Move.RIGHT)\n",
    "            acceptable_right: bool = from_pos[1] == 4 and (slide == Move.BOTTOM or slide == Move.TOP or slide == Move.LEFT)\n",
    "        else:\n",
    "            acceptable_top: bool = from_pos == (0, 0) and (slide == Move.BOTTOM or slide == Move.RIGHT)\n",
    "            acceptable_left: bool = from_pos == (4, 0) and (slide == Move.TOP or slide == Move.RIGHT)\n",
    "            acceptable_right: bool = from_pos == (0, 4) and (slide == Move.BOTTOM or slide == Move.LEFT)\n",
    "            acceptable_bottom: bool = from_pos == (4, 4) and (slide == Move.TOP or slide == Move.LEFT)\n",
    "        acceptable: bool = acceptable_top or acceptable_bottom or acceptable_left or acceptable_right\n",
    "        if acceptable:\n",
    "            piece = self._board[from_pos]\n",
    "            if slide == Move.LEFT:\n",
    "                for i in range(from_pos[1], 0, -1): self._board[(from_pos[0], i)] = self._board[(from_pos[0], i - 1)]\n",
    "                self._board[(from_pos[0], 0)] = piece\n",
    "            elif slide == Move.RIGHT:\n",
    "                for i in range(from_pos[1], self._board.shape[1] - 1, 1): self._board[(from_pos[0], i)] = self._board[(from_pos[0], i + 1)]\n",
    "                self._board[(from_pos[0], self._board.shape[1] - 1)] = piece\n",
    "            elif slide == Move.TOP:\n",
    "                for i in range(from_pos[0], 0, -1): self._board[(i, from_pos[1])] = self._board[(i - 1, from_pos[1])]\n",
    "                self._board[(0, from_pos[1])] = piece\n",
    "            elif slide == Move.BOTTOM:\n",
    "                for i in range(from_pos[0], self._board.shape[0] - 1, 1): self._board[(i, from_pos[1])] = self._board[(i + 1, from_pos[1])]\n",
    "                self._board[(self._board.shape[0] - 1, from_pos[1])] = piece\n",
    "        return acceptable\n"
   ]
  },
  {
   "cell_type": "code",
   "execution_count": 3,
   "metadata": {},
   "outputs": [],
   "source": [
    "def evaluate_board(board, winner, current_player):\n",
    "\n",
    "    bonus = 0\n",
    "    diag_a_player = 0\n",
    "    diag_a_enemy = 0\n",
    "    diag_b_player = 0\n",
    "    diag_b_enemy = 0\n",
    "    for i in range(5):\n",
    "        \n",
    "        line = board[i, :]\n",
    "        bonus += pow(sum(line == current_player), 2) - pow(sum(line == 1 - current_player), 2)\n",
    "        #bonus += sum(line == current_player) - sum(line == 1 - current_player)\n",
    "\n",
    "        line = board[:, i]\n",
    "        bonus += pow(sum(line == current_player), 2) - pow(sum(line == 1 - current_player), 2)\n",
    "        #bonus += sum(line == current_player) - sum(line == 1 - current_player)\n",
    "        \n",
    "        if board[i, i] == current_player: diag_a_player += 1\n",
    "        elif board[i, i] == 1 - current_player: diag_a_enemy += 1\n",
    "        \n",
    "        if board[i, 4-i] == current_player: diag_b_player += 1\n",
    "        elif board[i, 4-i] == 1 - current_player: diag_b_enemy += 1\n",
    "\n",
    "    bonus += pow(diag_a_player, 2) - pow(diag_a_enemy, 2)\n",
    "    #bonus += diag_a_player - diag_a_enemy\n",
    "        \n",
    "    bonus += pow(diag_b_player, 2) - pow(diag_b_enemy, 2)\n",
    "    bonus += diag_b_player - diag_b_enemy\n",
    "\n",
    "    #bonus += 15 if board[2, 2] == current_player else -16 # the center of the board is used in four winning combination\n",
    "\n",
    "    #win_reward = 300  # 300 = 25 x 12 = 5^2 x winning lines\n",
    "    win_reward = 60  # 60 = 5 x 12 = 5 x winning lines\n",
    "\n",
    "    base_reward = -1 * win_reward # winner == 1 - current_player\n",
    "    if winner == current_player: base_reward = win_reward\n",
    "    elif winner == -1: base_reward = 0\n",
    "\n",
    "    return base_reward + bonus\n",
    "\n",
    "def policy(board, player_id):\n",
    "\n",
    "    game = Dummy_Game()\n",
    "\n",
    "    best_move = None\n",
    "    best_eval = float('-inf')\n",
    "\n",
    "    for om in ALL_MOVES:\n",
    "        from_pos, move = om\n",
    "        new_board, ok = game.single_move(board, from_pos, move, player_id)\n",
    "        if ok:\n",
    "            winner = game.check_winner_board(new_board)\n",
    "            om_eval = evaluate_board(new_board, winner, player_id)\n",
    "\n",
    "            if om_eval > best_eval:\n",
    "                best_eval = om_eval\n",
    "                best_move = om\n",
    "\n",
    "    return best_move"
   ]
  },
  {
   "cell_type": "code",
   "execution_count": 4,
   "metadata": {},
   "outputs": [],
   "source": [
    "class MyPlayer(Player):\n",
    "    def __init__(self, until_draw_base= 50) -> None:\n",
    "        super().__init__()\n",
    "\n",
    "        self.until_draw_base = until_draw_base\n",
    "        self.last_move = (None, None, None)\n",
    "        self.until_draw = until_draw_base\n",
    "\n",
    "    def make_move(self, game: 'Game') -> tuple[tuple[int, int], Move]:\n",
    "        board = game.get_board()\n",
    "        player_id = game.current_player_idx\n",
    "\n",
    "        from_pos, move = policy(game.get_board(), player_id)\n",
    "\n",
    "        state = tuple(board.flatten())\n",
    "        if (state, from_pos, move) == self.last_move:\n",
    "            self.until_draw -= 1\n",
    "            if self.until_draw == 0:\n",
    "                from_pos, move = ALL_MOVES[np.random.randint(0, N_ALL)]\n",
    "                while board[from_pos] == 1 - player_id: from_pos, move = ALL_MOVES[np.random.randint(0, N_ALL)]\n",
    "                self.until_draw = self.until_draw_base\n",
    "        else:\n",
    "            self.until_draw = self.until_draw_base\n",
    "            self.last_move = (state, from_pos, move)\n",
    "\n",
    "        return from_pos, move\n"
   ]
  },
  {
   "cell_type": "markdown",
   "metadata": {},
   "source": [
    "## tests"
   ]
  },
  {
   "cell_type": "code",
   "execution_count": 6,
   "metadata": {},
   "outputs": [
    {
     "name": "stderr",
     "output_type": "stream",
     "text": [
      "  0%|          | 0/1000 [00:00<?, ?it/s]"
     ]
    },
    {
     "name": "stderr",
     "output_type": "stream",
     "text": [
      "100%|██████████| 1000/1000 [01:33<00:00, 10.70it/s]"
     ]
    },
    {
     "name": "stdout",
     "output_type": "stream",
     "text": [
      "Player won 999 / 1000 as first\n",
      "Player won 999 / 1000 as second\n"
     ]
    },
    {
     "name": "stderr",
     "output_type": "stream",
     "text": [
      "\n"
     ]
    }
   ],
   "source": [
    "ThePlayer = MyPlayer()\n",
    "\n",
    "wins_first = 0\n",
    "wins_second = 0\n",
    "n_trials = 1000\n",
    "\n",
    "for i_g in tqdm(range(n_trials)):\n",
    "\n",
    "    game = Game()\n",
    "    winner = game.play(ThePlayer, RandomPlayer())\n",
    "    if winner == 0:\n",
    "        wins_first += 1\n",
    "\n",
    "    game = Game()\n",
    "    winner = game.play(RandomPlayer(), ThePlayer)\n",
    "    if winner == 1:\n",
    "        wins_second += 1\n",
    "\n",
    "print(f\"Player won {wins_first} / {n_trials} as first\")\n",
    "print(f\"Player won {wins_second} / {n_trials} as second\")"
   ]
  },
  {
   "cell_type": "code",
   "execution_count": 61,
   "metadata": {},
   "outputs": [
    {
     "name": "stderr",
     "output_type": "stream",
     "text": [
      "100%|██████████| 10000/10000 [15:49<00:00, 10.53it/s]"
     ]
    },
    {
     "name": "stdout",
     "output_type": "stream",
     "text": [
      "Player won 9993 / 10000 as first\n",
      "Player won 9996 / 10000 as second\n"
     ]
    },
    {
     "name": "stderr",
     "output_type": "stream",
     "text": [
      "\n"
     ]
    }
   ],
   "source": [
    "ThePlayer = MyPlayer()\n",
    "\n",
    "wins_first = 0\n",
    "wins_second = 0\n",
    "n_trials = 10000\n",
    "\n",
    "for i_g in tqdm(range(n_trials)):\n",
    "\n",
    "    game = Game()\n",
    "    winner = game.play(ThePlayer, RandomPlayer())\n",
    "    if winner == 0:\n",
    "        wins_first += 1\n",
    "\n",
    "    game = Game()\n",
    "    winner = game.play(RandomPlayer(), ThePlayer)\n",
    "    if winner == 1:\n",
    "        wins_second += 1\n",
    "\n",
    "print(f\"Player won {wins_first} / {n_trials} as first\")\n",
    "print(f\"Player won {wins_second} / {n_trials} as second\")"
   ]
  }
 ],
 "metadata": {
  "kernelspec": {
   "display_name": "Python 3",
   "language": "python",
   "name": "python3"
  },
  "language_info": {
   "codemirror_mode": {
    "name": "ipython",
    "version": 3
   },
   "file_extension": ".py",
   "mimetype": "text/x-python",
   "name": "python",
   "nbconvert_exporter": "python",
   "pygments_lexer": "ipython3",
   "version": "3.10.11"
  }
 },
 "nbformat": 4,
 "nbformat_minor": 2
}
