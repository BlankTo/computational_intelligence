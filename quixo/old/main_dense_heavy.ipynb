{
 "cells": [
  {
   "cell_type": "code",
   "execution_count": 1,
   "metadata": {},
   "outputs": [
    {
     "name": "stdout",
     "output_type": "stream",
     "text": [
      "16\n"
     ]
    }
   ],
   "source": [
    "import random\n",
    "import numpy as np\n",
    "from game import Game, Move, Player\n",
    "from copy import deepcopy\n",
    "from tqdm import tqdm\n",
    "\n",
    "border = []\n",
    "for i in range(5):\n",
    "    for j in range(5):\n",
    "        if i == 0 or i == 4 or j == 0 or j == 4:\n",
    "            border.append((i, j))\n",
    "BORDER = (list(set(border)))\n",
    "print(len(BORDER))\n",
    "\n",
    "ALL_MOVES = []\n",
    "for pos in BORDER:\n",
    "    possible_moves = [Move.TOP, Move.BOTTOM, Move.LEFT, Move.RIGHT]\n",
    "            \n",
    "    if pos[0] == 0: possible_moves.remove(Move.LEFT)\n",
    "    if pos[0] == 4: possible_moves.remove(Move.RIGHT)\n",
    "    if pos[1] == 0: possible_moves.remove(Move.TOP)\n",
    "    if pos[1] == 4: possible_moves.remove(Move.BOTTOM)\n",
    "\n",
    "    for move in possible_moves: ALL_MOVES.append((pos, move))\n",
    "N_ALL = len(ALL_MOVES)\n",
    "\n",
    "class RandomPlayer(Player):\n",
    "    def __init__(self) -> None:\n",
    "        super().__init__()\n",
    "\n",
    "    def make_move(self, game: 'Game') -> tuple[tuple[int, int], Move]:\n",
    "\n",
    "        from_pos = random.choice(BORDER)\n",
    "        while game.get_board()[from_pos[1], from_pos[0]] == 1 - game.current_player_idx: from_pos = random.choice(BORDER)\n",
    "\n",
    "        possible_moves = [Move.TOP, Move.BOTTOM, Move.LEFT, Move.RIGHT]\n",
    "            \n",
    "        if from_pos[0] == 0: possible_moves.remove(Move.LEFT)\n",
    "        if from_pos[0] == 4: possible_moves.remove(Move.RIGHT)\n",
    "        if from_pos[1] == 0: possible_moves.remove(Move.TOP)\n",
    "        if from_pos[1] == 4: possible_moves.remove(Move.BOTTOM)\n",
    "        \n",
    "        move = random.choice(possible_moves)\n",
    "\n",
    "        return from_pos, move"
   ]
  },
  {
   "cell_type": "code",
   "execution_count": 2,
   "metadata": {},
   "outputs": [],
   "source": [
    "class ID_generator:\n",
    "    def __init__(self):\n",
    "        self.id = -1\n",
    "    def get_id(self):\n",
    "        self.id += 1\n",
    "        return self.id"
   ]
  },
  {
   "cell_type": "code",
   "execution_count": 3,
   "metadata": {},
   "outputs": [],
   "source": [
    "def rot(n_rot):\n",
    "    def rot_n(board): \n",
    "        return np.rot90(board, k= n_rot)\n",
    "    return rot_n\n",
    "\n",
    "def flip_rot(n_rot):\n",
    "    def flip_rot_n(board): \n",
    "        return np.rot90(np.fliplr(board), k= n_rot)\n",
    "    return flip_rot_n\n",
    "\n",
    "rot2 = rot(2)\n",
    "rot3 = rot(3)\n",
    "flip_rot1 = flip_rot(1)\n",
    "flip_rot2 = flip_rot(2)\n",
    "flip_rot3 = flip_rot(3)"
   ]
  },
  {
   "cell_type": "code",
   "execution_count": 4,
   "metadata": {},
   "outputs": [],
   "source": [
    "# weight definition\n",
    "INPUT_SHAPE = (24, 5, 5)\n",
    "WEIGHT_SHAPE = np.array([\n",
    "    [\n",
    "        ('dense', 256),\n",
    "        ('dense', 256),\n",
    "        ('dense', N_ALL),\n",
    "    ],\n",
    "    [\n",
    "        ('dense', 256),\n",
    "        ('dense', 256),\n",
    "        ('dense', N_ALL),\n",
    "    ],\n",
    "], dtype= object)\n",
    "\n",
    "def multiply(x):\n",
    "    res = 1\n",
    "    for xx in x: res *= xx\n",
    "    return res\n",
    "\n",
    "class MyPlayer(Player):\n",
    "    def __init__(self, id, heritage= None) -> None:\n",
    "        super().__init__()\n",
    "\n",
    "        self.id = id\n",
    "\n",
    "        if heritage is None:\n",
    "            self.W = []\n",
    "            self.b = []\n",
    "\n",
    "            for branch in WEIGHT_SHAPE:\n",
    "                branch_w = []\n",
    "                branch_b = []\n",
    "                in_shape = INPUT_SHAPE\n",
    "\n",
    "                for layer in branch:\n",
    "                    #print(in_shape)\n",
    "                    #print(layer)\n",
    "\n",
    "                    if layer[0] == 'dense':\n",
    "                        in_shape = multiply(in_shape)\n",
    "                        branch_w.append(np.random.random(size= (in_shape, layer[1])))\n",
    "                        branch_b.append(np.random.random(size= (layer[1],)))\n",
    "                        in_shape = (layer[1],)\n",
    "\n",
    "                    elif layer[0] == 'conv':\n",
    "\n",
    "                        if len(in_shape) == 2:\n",
    "                            branch_w.append(np.random.random(size= layer[1]))\n",
    "                            branch_b.append(np.random.random(size= (layer[1][0],)))\n",
    "                            in_shape = (layer[1][0], in_shape[0] - layer[1][1] + 1, in_shape[1] - layer[1][2] + 1)\n",
    "\n",
    "                        else:\n",
    "                            branch_w.append(np.random.random(size= (layer[1][0] * in_shape[0], layer[1][1], layer[1][2])))\n",
    "                            branch_b.append(np.random.random(size= (layer[1][0] * in_shape[0],)))\n",
    "                            in_shape = (layer[1][0] * in_shape[0], in_shape[1] - layer[1][1] + 1, in_shape[2] - layer[1][2] + 1)\n",
    "\n",
    "                    else: print('error')\n",
    "\n",
    "                    #print(branch_w[-1].shape)\n",
    "                    #print(branch_b[-1].shape)\n",
    "                    #print('-')\n",
    "\n",
    "                    #print(in_shape)\n",
    "                #print('-----')\n",
    "\n",
    "                self.W.append(branch_w)\n",
    "                self.b.append(branch_b)\n",
    "\n",
    "            self.W = np.array(self.W, dtype= object)\n",
    "            self.b = np.array(self.b, dtype= object)\n",
    "\n",
    "        else:\n",
    "            self.W = heritage[0]\n",
    "            self.b = heritage[1]\n",
    "\n",
    "        self.fitness = 0\n",
    "        self.until_surrend = 100\n",
    "        self.epoch_before_death = 3\n",
    "\n",
    "    def get_id(self): return self.id\n",
    "    def reset_fitness(self) -> None: self.fitness = 0\n",
    "    def mod_fitness(self, mod) -> None: self.fitness += mod\n",
    "    def get_fitness(self): return self.fitness\n",
    "    def set_fitness(self, new_value) -> None: self.fitness = new_value\n",
    "    def get_weights(self): return self.W\n",
    "    def get_biases(self): return self.b\n",
    "    def prepare_to_surrend(self, amount= 100)-> None: self.until_surrend = amount\n",
    "    def get_death(self, bonus= None):\n",
    "        if bonus is not None: self.epoch_before_death = bonus + 1\n",
    "        self.epoch_before_death -= 1\n",
    "        return self.epoch_before_death\n",
    "    \n",
    "    def add_weights(self, branch_shape):\n",
    "        new_W = [branch_w for branch_w in self.W]\n",
    "        new_b = [branch_b for branch_b in self.b]\n",
    "        branch_w = []\n",
    "        branch_b = []\n",
    "\n",
    "        in_shape = INPUT_SHAPE\n",
    "\n",
    "        for layer in branch_shape:\n",
    "\n",
    "            if layer[0] == 'dense':\n",
    "                in_shape = multiply(in_shape)\n",
    "                branch_w.append(np.random.random(size= (in_shape, layer[1])))\n",
    "                branch_b.append(np.random.random(size= (layer[1],)))\n",
    "                in_shape = (layer[1],)\n",
    "\n",
    "            elif layer[0] == 'conv':\n",
    "\n",
    "                if len(in_shape) == 2:\n",
    "                    branch_w.append(np.random.random(size= layer[1]))\n",
    "                    branch_b.append(np.random.random(size= (layer[1][0],)))\n",
    "                    in_shape = (layer[1][0], in_shape[0] - layer[1][1] + 1, in_shape[1] - layer[1][2] + 1)\n",
    "\n",
    "                else:\n",
    "                    branch_w.append(np.random.random(size= (layer[1][0] * in_shape[0], layer[1][1], layer[1][2])))\n",
    "                    branch_b.append(np.random.random(size= (layer[1][0] * in_shape[0],)))\n",
    "                    in_shape = (layer[1][0] * in_shape[0], in_shape[1] - layer[1][1] + 1, in_shape[2] - layer[1][2] + 1)\n",
    "\n",
    "            else: print('error')\n",
    "\n",
    "        new_W.append(branch_w)\n",
    "        new_b.append(branch_b)\n",
    "\n",
    "        self.W = np.array(self.W, dtype= object)\n",
    "        self.b = np.array(self.b, dtype= object)\n",
    "    \n",
    "    def compute_move(self, X):\n",
    "        branch_outputs = []\n",
    "\n",
    "        for i_branch in range(len(self.W)):\n",
    "            layer_input = deepcopy(X)\n",
    "\n",
    "            for i_layer in range(len(self.W[i_branch])):\n",
    "                layer_info = WEIGHT_SHAPE[i_branch][i_layer]\n",
    "\n",
    "                if layer_info[0] == 'dense':\n",
    "                    layer_output = np.dot(layer_input.flatten(), self.W[i_branch][i_layer]) + self.b[i_branch][i_layer]\n",
    "                \n",
    "                elif layer_info[0] == 'conv':\n",
    "\n",
    "                    if len(layer_input.shape) == 2:\n",
    "                        layer_output = np.zeros((layer_info[1][0], layer_input.shape[0] - layer_info[1][1] + 1, layer_input.shape[1] - layer_info[1][2] + 1))\n",
    "                        for k in range(layer_output.shape[0]):\n",
    "                            for i in range(layer_output.shape[1]):\n",
    "                                for j in range(layer_output.shape[2]):\n",
    "                                    layer_output[k, i, j] = sum(sum(layer_input[i:i+layer_info[1][1], j:j+layer_info[1][2]] * self.W[i_branch][i_layer][k]))\n",
    "                    \n",
    "                    else:\n",
    "                        layer_output = np.zeros((layer_info[1][0] * layer_input.shape[0], layer_input.shape[1] - layer_info[1][1] + 1, layer_input.shape[2] - layer_info[1][2] + 1))\n",
    "                        for k_in in range(layer_input.shape[0]):\n",
    "                            for k in range(layer_info[1][0]):\n",
    "                                for i in range(layer_output.shape[1]):\n",
    "                                    for j in range(layer_output.shape[2]):\n",
    "                                        layer_output[k_in*layer_info[1][0]+k, i, j] = sum(sum(layer_input[k_in, i:i+layer_info[1][1], j:j+layer_info[1][2]] * self.W[i_branch][i_layer][k_in*layer_info[1][0]+k]))\n",
    "                \n",
    "                else: print('error')\n",
    "\n",
    "                layer_input = layer_output\n",
    "                #print(f'{(i_branch, i_layer)} -> {layer_output.shape}')\n",
    "            \n",
    "            branch_outputs.append(layer_output)\n",
    "\n",
    "        output = np.sum(branch_outputs, axis= 0)\n",
    "        output = np.argmax(output)\n",
    "        \n",
    "        return output\n",
    "\n",
    "\n",
    "    def make_move(self, game: 'Game') -> tuple[tuple[int, int], Move]:\n",
    "\n",
    "        self.until_surrend -= 1\n",
    "        if self.until_surrend == 0:\n",
    "            #print('surrendering')\n",
    "            self.fitness -= 100\n",
    "            return (-1, -1), None\n",
    "        \n",
    "        ## provare a generare tre mappe dalla board, una per ogni [-1, 0, 1] con 1 se [-1, 0, 1] in tile e 0 se altre\n",
    "        #--------------------------------------\n",
    "\n",
    "        board = game.get_board()\n",
    "        X = np.zeros((3, board.shape[0], board.shape[1]))\n",
    "        X[0][board == -1] = 1\n",
    "        X[1][board == 0] = 1\n",
    "        X[2][board == 1] = 1\n",
    "\n",
    "        ######################################\n",
    "        \n",
    "        ## provare a generare una mappa per simmetria\n",
    "        #--------------------------------------\n",
    "\n",
    "        X2 = np.zeros((24, board.shape[0], board.shape[1]))\n",
    "        c = 0\n",
    "        for x in X:\n",
    "            X2[c] = x\n",
    "            c += 1\n",
    "            for sim in [np.rot90, rot2, rot3, np.fliplr, flip_rot1, flip_rot2, flip_rot3]:\n",
    "                X2[c] = sim(x)\n",
    "                c += 1\n",
    "        X = X2\n",
    "\n",
    "        ######################################\n",
    "        \n",
    "        # invert the board based on player_turn to better recognize enemies from allies\n",
    "        #--------------------------------------\n",
    "        \n",
    "        if game.current_player_idx == 1: pass\n",
    "        else:\n",
    "            tmp = deepcopy(X[1])\n",
    "            X[1] = deepcopy(X[2])\n",
    "            X[2] = tmp\n",
    "\n",
    "        #######################################\n",
    "\n",
    "        # compute move\n",
    "        #--------------------------------------\n",
    "\n",
    "        from_pos, move = ALL_MOVES[self.compute_move(X)]\n",
    "\n",
    "        #######################################\n",
    "\n",
    "        # random move if illegal move chosen with penalty\n",
    "        #--------------------------------------\n",
    "\n",
    "        if game.get_board()[from_pos[1], from_pos[0]] == 1 - game.current_player_idx:\n",
    "\n",
    "            #print('random used - penalty')\n",
    "            self.fitness -= 10\n",
    "\n",
    "            from_pos = random.choice(BORDER)\n",
    "            while game.get_board()[from_pos[1], from_pos[0]] == 1 - game.current_player_idx: from_pos = random.choice(BORDER)\n",
    "\n",
    "            possible_moves = [Move.TOP, Move.BOTTOM, Move.LEFT, Move.RIGHT]\n",
    "                \n",
    "            if from_pos[0] == 0: possible_moves.remove(Move.LEFT)\n",
    "            if from_pos[0] == 4: possible_moves.remove(Move.RIGHT)\n",
    "            if from_pos[1] == 0: possible_moves.remove(Move.TOP)\n",
    "            if from_pos[1] == 4: possible_moves.remove(Move.BOTTOM)\n",
    "            \n",
    "            move = random.choice(possible_moves)\n",
    "\n",
    "        #######################################\n",
    "            \n",
    "        # removing 1 to fitness for each move to force active play\n",
    "        #--------------------------------------\n",
    "        \n",
    "        self.fitness -= 1\n",
    "\n",
    "        #######################################\n",
    "        \n",
    "        return from_pos, move"
   ]
  },
  {
   "cell_type": "code",
   "execution_count": 5,
   "metadata": {},
   "outputs": [
    {
     "data": {
      "text/plain": [
       "((0, 3), <Move.BOTTOM: 1>)"
      ]
     },
     "execution_count": 5,
     "metadata": {},
     "output_type": "execute_result"
    }
   ],
   "source": [
    "id_gen = ID_generator()\n",
    "player = MyPlayer(id_gen.get_id())\n",
    "game = Game()\n",
    "player.make_move(game)"
   ]
  },
  {
   "cell_type": "code",
   "execution_count": 6,
   "metadata": {},
   "outputs": [],
   "source": [
    "N_TRIALS = 50\n",
    "\n",
    "## maybe N_TRIALS should depend on N_ALL\n",
    "\n",
    "def evaluate_population(population, fs= None, avg_player = None):\n",
    "\n",
    "    for p in tqdm(population):\n",
    "        \n",
    "        p.reset_fitness()\n",
    "\n",
    "        for _ in range(N_TRIALS):\n",
    "\n",
    "            if fs is None or fs == 'onlyfirst':\n",
    "                p.prepare_to_surrend()\n",
    "                p.mod_fitness(((1 - Game().play(p, RandomPlayer())) * 2 - 1) * 100)\n",
    "\n",
    "            if fs is None or fs == 'onlysecond':\n",
    "                p.prepare_to_surrend()\n",
    "                p.mod_fitness((Game().play(RandomPlayer(), p) * 2 - 1) * 100)\n",
    "\n",
    "    if avg_player is not None: evaluate_population_2(population, avg_player, fs= fs)\n",
    "\n",
    "def evaluate_population_2(population, avg_player, fs= None):\n",
    "\n",
    "    freeze_fitness = avg_player.get_fitness()\n",
    "\n",
    "    for p in population:\n",
    "\n",
    "        for _ in range(1):\n",
    "\n",
    "            if fs is None or fs == 'first':\n",
    "                p.prepare_to_surrend()\n",
    "                avg_player.prepare_to_surrend()\n",
    "                winner = Game().play(p, avg_player)\n",
    "                p.mod_fitness(((1 - winner) * 2 - 1) * 100)\n",
    "\n",
    "            if fs is None or fs == 'second':\n",
    "                p.prepare_to_surrend()\n",
    "                avg_player.prepare_to_surrend()\n",
    "                winner = Game().play(avg_player, p)\n",
    "                p.mod_fitness((winner * 2 - 1) * 100)\n",
    "    \n",
    "    avg_player.set_fitness(freeze_fitness)\n",
    "            "
   ]
  },
  {
   "cell_type": "code",
   "execution_count": 7,
   "metadata": {},
   "outputs": [],
   "source": [
    "def procreate_1(p1, p2, c1, c2, id):\n",
    "    \n",
    "    W1 = p1.get_weights()\n",
    "    b1 = p1.get_biases()\n",
    "    W2 = p2.get_weights()\n",
    "    b2 = p2.get_biases()\n",
    "\n",
    "    W3 = deepcopy(W1)\n",
    "    b3 = deepcopy(b1)\n",
    "\n",
    "    c = c1 / (c1 + c2)\n",
    "\n",
    "    for i in range(len(W1)):\n",
    "        for j in range(len(W1[i])):\n",
    "            if c < np.random.random():\n",
    "                W3[i][j] = W2[i][j]\n",
    "                b3[i][j] = b2[i][j]\n",
    "\n",
    "    return MyPlayer(id, heritage= (W3, b3))\n",
    "\n",
    "def procreate_2(p1, p2, c1, c2, id):\n",
    "    \n",
    "    W1 = p1.get_weights()\n",
    "    b1 = p1.get_biases()\n",
    "    W2 = p2.get_weights()\n",
    "    b2 = p2.get_biases()\n",
    "\n",
    "    W3 = deepcopy(W1)\n",
    "    b3 = deepcopy(b1)\n",
    "\n",
    "    c = c1 / (c1 + c2)\n",
    "\n",
    "    for i in range(len(W1)):\n",
    "        if c < np.random.random():\n",
    "            W3[i] = W2[i]\n",
    "            b3[i] = b2[i]\n",
    "\n",
    "    return MyPlayer(id, heritage= (W3, b3))\n",
    "\n",
    "def softmax_temp(x, t= 1):\n",
    "    e_x = np.exp(x / t)\n",
    "    return e_x / sum(e_x)\n",
    "\n",
    "def procreation(population, id_generator):\n",
    "        \n",
    "    mod_scores = softmax_temp(np.array([p.get_fitness() for p in population]), 1000)\n",
    "    \n",
    "    parents = []\n",
    "    for _ in range(15):\n",
    "        parents.append(np.random.choice([i for i in range(len(population))], size= (2,), replace= False, p= mod_scores))\n",
    "\n",
    "    childrens = []\n",
    "    for pair in parents:\n",
    "        pi = population[pair[0]]\n",
    "        pj = population[pair[1]]\n",
    "        mod_i = mod_scores[pair[0]]\n",
    "        mod_j = mod_scores[pair[1]]\n",
    "        \n",
    "        rand = np.random.random()\n",
    "        if 0.5 >= rand:\n",
    "            childrens.append(procreate_1(pi, pj, mod_i, mod_j, id_generator.get_id()))\n",
    "        else:\n",
    "            childrens.append(procreate_2(pi, pj, mod_i, mod_j, id_generator.get_id()))\n",
    "\n",
    "    return childrens"
   ]
  },
  {
   "cell_type": "code",
   "execution_count": 8,
   "metadata": {},
   "outputs": [],
   "source": [
    "P_MUTATION = 0.2\n",
    "MUTATION_STRENGTH = 0.01\n",
    "\n",
    "def mutate_1(p, id):\n",
    "\n",
    "    Wm = deepcopy(p.get_weights())\n",
    "    bm = deepcopy(p.get_biases())\n",
    "\n",
    "    for i in range(len(Wm)):\n",
    "        for j in range(len(Wm[i])):\n",
    "\n",
    "            for ii in range(Wm[i][j].shape[0]):\n",
    "                for jj in range(Wm[i][j].shape[1]):\n",
    "                    if P_MUTATION >= np.random.random():\n",
    "                        Wm[i][j][ii, jj] += np.random.normal(0, MUTATION_STRENGTH, size= Wm[i][j][ii, jj].shape)\n",
    "\n",
    "            for ii in range(bm[i][j].shape[0]):\n",
    "                if P_MUTATION >= np.random.random():\n",
    "                    bm[i][j][ii] += np.random.normal(0, MUTATION_STRENGTH, size= bm[i][j][ii].shape)\n",
    "\n",
    "    return MyPlayer(id, heritage= (Wm, bm))\n",
    "\n",
    "def mutate_2(p, id):\n",
    "\n",
    "    Wm = deepcopy(p.get_weights())\n",
    "    bm = deepcopy(p.get_biases())\n",
    "\n",
    "    for i in range(len(Wm)):\n",
    "        for j in range(len(Wm[i])):\n",
    "            if P_MUTATION >= np.random.random():\n",
    "                Wm[i][j] += np.random.normal(0, MUTATION_STRENGTH, size= Wm[i][j].shape)\n",
    "            if P_MUTATION >= np.random.random():\n",
    "                bm[i][j] += np.random.normal(0, MUTATION_STRENGTH, size= bm[i][j].shape)\n",
    "\n",
    "    return MyPlayer(id, heritage= (Wm, bm))\n",
    "\n",
    "def mutation(population, id_generator):\n",
    "\n",
    "    bases = np.random.choice([i for i in range(len(population))], size= (15,), replace= False)\n",
    "\n",
    "    mutants = []\n",
    "    for base in bases:\n",
    "        p = population[base]\n",
    "        rand = np.random.random()\n",
    "        if 0.5 >= rand:\n",
    "            mutants.append(mutate_1(p, id_generator.get_id()))\n",
    "        else:\n",
    "            mutants.append(mutate_2(p, id_generator.get_id()))\n",
    "\n",
    "    return mutants"
   ]
  },
  {
   "cell_type": "code",
   "execution_count": 9,
   "metadata": {},
   "outputs": [
    {
     "name": "stdout",
     "output_type": "stream",
     "text": [
      "------------------------------------\n",
      "epoch 0\n"
     ]
    },
    {
     "name": "stderr",
     "output_type": "stream",
     "text": [
      "100%|██████████| 100/100 [02:52<00:00,  1.72s/it]\n"
     ]
    },
    {
     "name": "stdout",
     "output_type": "stream",
     "text": [
      "[7050 6720 6684 6645 6505 5978 5831 5726 5226 4996]\n",
      "[24, 84, 51, 82, 14, 17, 88, 46, 73, 81]\n",
      "before: 100\n",
      "n_childrens: 15\n",
      "n_mutants: 15\n",
      "after: 130\n",
      "------------------------------------\n",
      "epoch 1\n"
     ]
    },
    {
     "name": "stderr",
     "output_type": "stream",
     "text": [
      "100%|██████████| 130/130 [03:34<00:00,  1.65s/it]\n"
     ]
    },
    {
     "name": "stdout",
     "output_type": "stream",
     "text": [
      "[7532 7269 6884 6882 6713 6393 6177 6139 5946 5794]\n",
      "[24, 109, 102, 101, 113, 73, 14, 88, 114, 105]\n",
      "before: 130\n",
      "n_childrens: 15\n",
      "n_mutants: 15\n",
      "after: 160\n",
      "------------------------------------\n",
      "epoch 2\n"
     ]
    },
    {
     "name": "stderr",
     "output_type": "stream",
     "text": [
      "100%|██████████| 160/160 [04:05<00:00,  1.54s/it]\n"
     ]
    },
    {
     "name": "stdout",
     "output_type": "stream",
     "text": [
      "[7354 6887 6878 6821 6787 6777 6758 6701 6558 6483]\n",
      "[154, 17, 134, 137, 100, 51, 46, 153, 133, 73]\n",
      "before: 110\n",
      "n_childrens: 15\n",
      "n_mutants: 15\n",
      "after: 140\n",
      "------------------------------------\n",
      "epoch 3\n"
     ]
    },
    {
     "name": "stderr",
     "output_type": "stream",
     "text": [
      "100%|██████████| 140/140 [02:37<00:00,  1.12s/it]\n"
     ]
    },
    {
     "name": "stdout",
     "output_type": "stream",
     "text": [
      "[7738 7352 7241 7010 6983 6867 6829 6811 6737 6637]\n",
      "[107, 101, 134, 177, 14, 146, 174, 82, 132, 130]\n",
      "before: 127\n",
      "n_childrens: 15\n",
      "n_mutants: 15\n",
      "after: 157\n",
      "------------------------------------\n",
      "epoch 4\n"
     ]
    },
    {
     "name": "stderr",
     "output_type": "stream",
     "text": [
      "100%|██████████| 157/157 [02:36<00:00,  1.00it/s]\n"
     ]
    },
    {
     "name": "stdout",
     "output_type": "stream",
     "text": [
      "[7735 7692 7651 7616 7537 7400 7325 7289 7239 7207]\n",
      "[198, 218, 191, 24, 215, 140, 166, 197, 204, 101]\n",
      "before: 131\n",
      "n_childrens: 15\n",
      "n_mutants: 15\n",
      "after: 161\n",
      "------------------------------------\n",
      "epoch 5\n"
     ]
    },
    {
     "name": "stderr",
     "output_type": "stream",
     "text": [
      "100%|██████████| 161/161 [02:20<00:00,  1.15it/s]\n"
     ]
    },
    {
     "name": "stdout",
     "output_type": "stream",
     "text": [
      "[8329 8080 7556 7486 7308 7293 7278 7277 7241 7232]\n",
      "[140, 112, 228, 158, 133, 204, 73, 247, 220, 190]\n",
      "before: 124\n",
      "n_childrens: 15\n",
      "n_mutants: 15\n",
      "after: 154\n",
      "------------------------------------\n",
      "epoch 6\n"
     ]
    },
    {
     "name": "stderr",
     "output_type": "stream",
     "text": [
      "100%|██████████| 154/154 [01:57<00:00,  1.31it/s]\n"
     ]
    },
    {
     "name": "stdout",
     "output_type": "stream",
     "text": [
      "[7643 7535 7442 7385 7341 7301 7281 7224 7071 7053]\n",
      "[262, 179, 103, 243, 177, 277, 140, 216, 206, 24]\n",
      "before: 138\n",
      "n_childrens: 15\n",
      "n_mutants: 15\n",
      "after: 168\n",
      "------------------------------------\n",
      "epoch 7\n"
     ]
    },
    {
     "name": "stderr",
     "output_type": "stream",
     "text": [
      "100%|██████████| 168/168 [02:01<00:00,  1.38it/s]\n"
     ]
    },
    {
     "name": "stdout",
     "output_type": "stream",
     "text": [
      "[8102 8009 7949 7689 7610 7583 7502 7288 7117 7106]\n",
      "[255, 238, 112, 114, 174, 135, 193, 302, 200, 179]\n",
      "before: 148\n",
      "n_childrens: 15\n",
      "n_mutants: 15\n",
      "after: 178\n",
      "------------------------------------\n",
      "epoch 8\n"
     ]
    },
    {
     "name": "stderr",
     "output_type": "stream",
     "text": [
      "100%|██████████| 178/178 [02:07<00:00,  1.39it/s]\n"
     ]
    },
    {
     "name": "stdout",
     "output_type": "stream",
     "text": [
      "[7956 7844 7528 7521 7411 7311 7276 7248 7159 7045]\n",
      "[198, 201, 115, 295, 156, 331, 140, 170, 46, 308]\n",
      "before: 161\n",
      "n_childrens: 15\n",
      "n_mutants: 15\n",
      "after: 191\n",
      "------------------------------------\n",
      "epoch 9\n"
     ]
    },
    {
     "name": "stderr",
     "output_type": "stream",
     "text": [
      "100%|██████████| 191/191 [02:16<00:00,  1.40it/s]\n"
     ]
    },
    {
     "name": "stdout",
     "output_type": "stream",
     "text": [
      "[8200 7775 7731 7692 7662 7524 7523 7485 7426 7385]\n",
      "[249, 290, 259, 285, 293, 177, 364, 237, 206, 270]\n",
      "before: 166\n",
      "n_childrens: 15\n",
      "n_mutants: 15\n",
      "after: 196\n",
      "------------------------------------\n",
      "epoch 10\n"
     ]
    },
    {
     "name": "stderr",
     "output_type": "stream",
     "text": [
      "100%|██████████| 196/196 [02:23<00:00,  1.36it/s]\n"
     ]
    },
    {
     "name": "stdout",
     "output_type": "stream",
     "text": [
      "[8790 7869 7546 7364 7357 7347 7344 7303 7177 7164]\n",
      "[342, 295, 162, 238, 315, 235, 190, 81, 319, 395]\n",
      "before: 172\n",
      "n_childrens: 15\n",
      "n_mutants: 15\n",
      "after: 202\n",
      "------------------------------------\n",
      "epoch 11\n"
     ]
    },
    {
     "name": "stderr",
     "output_type": "stream",
     "text": [
      "100%|██████████| 202/202 [02:31<00:00,  1.33it/s]\n"
     ]
    },
    {
     "name": "stdout",
     "output_type": "stream",
     "text": [
      "[8203 7753 7720 7534 7525 7478 7434 7434 7383 7340]\n",
      "[153, 364, 343, 193, 218, 112, 382, 329, 206, 417]\n",
      "before: 177\n",
      "n_childrens: 15\n",
      "n_mutants: 15\n",
      "after: 207\n",
      "------------------------------------\n",
      "epoch 12\n"
     ]
    },
    {
     "name": "stderr",
     "output_type": "stream",
     "text": [
      "100%|██████████| 207/207 [02:26<00:00,  1.42it/s]\n"
     ]
    },
    {
     "name": "stdout",
     "output_type": "stream",
     "text": [
      "[7793 7663 7647 7548 7531 7471 7419 7419 7405 7395]\n",
      "[444, 179, 449, 331, 389, 417, 437, 366, 396, 362]\n",
      "before: 176\n",
      "n_childrens: 15\n",
      "n_mutants: 15\n",
      "after: 206\n",
      "------------------------------------\n",
      "epoch 13\n"
     ]
    },
    {
     "name": "stderr",
     "output_type": "stream",
     "text": [
      "100%|██████████| 206/206 [02:21<00:00,  1.45it/s]\n"
     ]
    },
    {
     "name": "stdout",
     "output_type": "stream",
     "text": [
      "[7946 7621 7593 7566 7179 7170 7125 7100 7098 7065]\n",
      "[290, 112, 264, 450, 319, 358, 415, 438, 460, 312]\n",
      "before: 165\n",
      "n_childrens: 15\n",
      "n_mutants: 15\n",
      "after: 195\n",
      "------------------------------------\n",
      "epoch 14\n"
     ]
    },
    {
     "name": "stderr",
     "output_type": "stream",
     "text": [
      "100%|██████████| 195/195 [02:12<00:00,  1.47it/s]\n"
     ]
    },
    {
     "name": "stdout",
     "output_type": "stream",
     "text": [
      "[7784 7708 7534 7498 7496 7447 7401 7384 7384 7353]\n",
      "[452, 356, 297, 497, 445, 503, 334, 212, 363, 312]\n",
      "before: 171\n",
      "n_childrens: 15\n",
      "n_mutants: 15\n",
      "after: 201\n",
      "------------------------------------\n",
      "epoch 15\n"
     ]
    },
    {
     "name": "stderr",
     "output_type": "stream",
     "text": [
      "100%|██████████| 201/201 [02:19<00:00,  1.44it/s]\n"
     ]
    },
    {
     "name": "stdout",
     "output_type": "stream",
     "text": [
      "[7932 7694 7573 7476 7406 7401 7322 7309 7283 7281]\n",
      "[392, 344, 537, 500, 510, 487, 312, 542, 472, 206]\n",
      "before: 180\n",
      "n_childrens: 15\n",
      "n_mutants: 15\n",
      "after: 210\n",
      "------------------------------------\n",
      "epoch 16\n"
     ]
    },
    {
     "name": "stderr",
     "output_type": "stream",
     "text": [
      "100%|██████████| 210/210 [02:25<00:00,  1.45it/s]\n"
     ]
    },
    {
     "name": "stdout",
     "output_type": "stream",
     "text": [
      "[7625 7608 7499 7452 7429 7376 7267 7215 7211 7155]\n",
      "[506, 558, 162, 557, 465, 369, 566, 417, 503, 137]\n",
      "before: 179\n",
      "n_childrens: 15\n",
      "n_mutants: 15\n",
      "after: 209\n",
      "------------------------------------\n",
      "epoch 17\n"
     ]
    },
    {
     "name": "stderr",
     "output_type": "stream",
     "text": [
      "100%|██████████| 209/209 [02:22<00:00,  1.47it/s]\n"
     ]
    },
    {
     "name": "stdout",
     "output_type": "stream",
     "text": [
      "[8069 7669 7540 7487 7431 7323 7308 7303 7300 7292]\n",
      "[588, 494, 497, 452, 567, 480, 550, 603, 513, 510]\n",
      "before: 172\n",
      "n_childrens: 15\n",
      "n_mutants: 15\n",
      "after: 202\n",
      "------------------------------------\n",
      "epoch 18\n"
     ]
    },
    {
     "name": "stderr",
     "output_type": "stream",
     "text": [
      "100%|██████████| 202/202 [02:19<00:00,  1.45it/s]\n"
     ]
    },
    {
     "name": "stdout",
     "output_type": "stream",
     "text": [
      "[7759 7717 7493 7427 7421 7418 7406 7364 7253 7248]\n",
      "[9, 542, 569, 502, 458, 189, 391, 588, 285, 555]\n",
      "before: 171\n",
      "n_childrens: 15\n",
      "n_mutants: 15\n",
      "after: 201\n",
      "------------------------------------\n",
      "epoch 19\n"
     ]
    },
    {
     "name": "stderr",
     "output_type": "stream",
     "text": [
      "100%|██████████| 201/201 [02:20<00:00,  1.43it/s]\n"
     ]
    },
    {
     "name": "stdout",
     "output_type": "stream",
     "text": [
      "[7911 7647 7625 7615 7569 7560 7538 7460 7358 7336]\n",
      "[569, 190, 315, 597, 581, 655, 630, 212, 598, 628]\n",
      "before: 179\n",
      "n_childrens: 15\n",
      "n_mutants: 15\n",
      "after: 209\n",
      "------------------------------------\n",
      "epoch 20\n"
     ]
    },
    {
     "name": "stderr",
     "output_type": "stream",
     "text": [
      "100%|██████████| 209/209 [02:31<00:00,  1.38it/s]\n"
     ]
    },
    {
     "name": "stdout",
     "output_type": "stream",
     "text": [
      "[7870 7640 7588 7436 7412 7308 7298 7238 7225 7218]\n",
      "[450, 667, 247, 244, 481, 193, 687, 689, 190, 634]\n",
      "before: 182\n",
      "n_childrens: 15\n",
      "n_mutants: 15\n",
      "after: 212\n",
      "------------------------------------\n",
      "epoch 21\n"
     ]
    },
    {
     "name": "stderr",
     "output_type": "stream",
     "text": [
      "100%|██████████| 212/212 [02:36<00:00,  1.36it/s]\n"
     ]
    },
    {
     "name": "stdout",
     "output_type": "stream",
     "text": [
      "[8254 7945 7915 7601 7560 7545 7503 7347 7290 7174]\n",
      "[667, 244, 597, 529, 358, 657, 724, 553, 402, 503]\n",
      "before: 182\n",
      "n_childrens: 15\n",
      "n_mutants: 15\n",
      "after: 212\n",
      "------------------------------------\n",
      "epoch 22\n"
     ]
    },
    {
     "name": "stderr",
     "output_type": "stream",
     "text": [
      "100%|██████████| 212/212 [02:34<00:00,  1.37it/s]\n"
     ]
    },
    {
     "name": "stdout",
     "output_type": "stream",
     "text": [
      "[7998 7618 7577 7497 7424 7312 7304 7298 7176 7162]\n",
      "[618, 657, 529, 556, 741, 695, 594, 450, 617, 748]\n",
      "before: 177\n",
      "n_childrens: 15\n",
      "n_mutants: 15\n",
      "after: 207\n",
      "------------------------------------\n",
      "epoch 23\n"
     ]
    },
    {
     "name": "stderr",
     "output_type": "stream",
     "text": [
      "100%|██████████| 207/207 [02:33<00:00,  1.35it/s]\n"
     ]
    },
    {
     "name": "stdout",
     "output_type": "stream",
     "text": [
      "[7950 7434 7416 7410 7266 7256 7219 7190 7183 7145]\n",
      "[472, 784, 523, 193, 618, 717, 529, 580, 685, 666]\n",
      "before: 176\n",
      "n_childrens: 15\n",
      "n_mutants: 15\n",
      "after: 206\n",
      "------------------------------------\n",
      "epoch 24\n"
     ]
    },
    {
     "name": "stderr",
     "output_type": "stream",
     "text": [
      "100%|██████████| 206/206 [02:25<00:00,  1.42it/s]\n"
     ]
    },
    {
     "name": "stdout",
     "output_type": "stream",
     "text": [
      "[7813 7703 7498 7419 7336 7307 7299 7259 7234 7216]\n",
      "[555, 742, 9, 247, 344, 548, 734, 450, 465, 273]\n",
      "before: 179\n",
      "n_childrens: 15\n",
      "n_mutants: 15\n",
      "after: 209\n",
      "------------------------------------\n",
      "epoch 25\n"
     ]
    },
    {
     "name": "stderr",
     "output_type": "stream",
     "text": [
      "100%|██████████| 209/209 [02:22<00:00,  1.47it/s]\n"
     ]
    },
    {
     "name": "stdout",
     "output_type": "stream",
     "text": [
      "[8204 7797 7692 7610 7590 7531 7521 7453 7439 7386]\n",
      "[757, 391, 556, 735, 783, 444, 339, 807, 842, 472]\n",
      "before: 176\n",
      "n_childrens: 15\n",
      "n_mutants: 15\n",
      "after: 206\n",
      "------------------------------------\n",
      "epoch 26\n"
     ]
    },
    {
     "name": "stderr",
     "output_type": "stream",
     "text": [
      "100%|██████████| 206/206 [02:18<00:00,  1.48it/s]\n"
     ]
    },
    {
     "name": "stdout",
     "output_type": "stream",
     "text": [
      "[8147 7633 7615 7484 7445 7443 7400 7343 7288 7185]\n",
      "[634, 830, 705, 804, 784, 687, 870, 834, 594, 820]\n",
      "before: 183\n",
      "n_childrens: 15\n",
      "n_mutants: 15\n",
      "after: 213\n",
      "------------------------------------\n",
      "epoch 27\n"
     ]
    },
    {
     "name": "stderr",
     "output_type": "stream",
     "text": [
      "100%|██████████| 213/213 [02:29<00:00,  1.43it/s]\n"
     ]
    },
    {
     "name": "stdout",
     "output_type": "stream",
     "text": [
      "[7826 7803 7761 7757 7757 7709 7435 7429 7368 7362]\n",
      "[835, 763, 452, 729, 823, 794, 787, 839, 819, 816]\n",
      "before: 186\n",
      "n_childrens: 15\n",
      "n_mutants: 15\n",
      "after: 216\n",
      "------------------------------------\n",
      "epoch 28\n"
     ]
    },
    {
     "name": "stderr",
     "output_type": "stream",
     "text": [
      "100%|██████████| 216/216 [02:32<00:00,  1.42it/s]\n"
     ]
    },
    {
     "name": "stdout",
     "output_type": "stream",
     "text": [
      "[7791 7513 7479 7439 7311 7242 7182 7041 7003 6975]\n",
      "[885, 898, 705, 687, 472, 858, 402, 784, 844, 777]\n",
      "before: 183\n",
      "n_childrens: 15\n",
      "n_mutants: 15\n",
      "after: 213\n",
      "------------------------------------\n",
      "epoch 29\n"
     ]
    },
    {
     "name": "stderr",
     "output_type": "stream",
     "text": [
      "100%|██████████| 213/213 [02:30<00:00,  1.41it/s]\n"
     ]
    },
    {
     "name": "stdout",
     "output_type": "stream",
     "text": [
      "[7490 7395 7392 7280 7273 7221 7214 7125 7095 7062]\n",
      "[968, 909, 826, 845, 764, 967, 952, 842, 652, 846]\n",
      "before: 175\n",
      "n_childrens: 15\n",
      "n_mutants: 15\n",
      "after: 205\n",
      "------------------------------------\n",
      "epoch 30\n"
     ]
    },
    {
     "name": "stderr",
     "output_type": "stream",
     "text": [
      "100%|██████████| 205/205 [02:18<00:00,  1.48it/s]\n"
     ]
    },
    {
     "name": "stdout",
     "output_type": "stream",
     "text": [
      "[7733 7657 7627 7616 7564 7530 7528 7456 7417 7413]\n",
      "[971, 927, 681, 739, 402, 748, 805, 925, 830, 979]\n",
      "before: 176\n",
      "n_childrens: 15\n",
      "n_mutants: 15\n",
      "after: 206\n",
      "------------------------------------\n",
      "epoch 31\n"
     ]
    },
    {
     "name": "stderr",
     "output_type": "stream",
     "text": [
      "100%|██████████| 206/206 [02:18<00:00,  1.48it/s]\n"
     ]
    },
    {
     "name": "stdout",
     "output_type": "stream",
     "text": [
      "[8645 8524 8267 8026 7874 7670 7536 7329 7328 7317]\n",
      "[503, 946, 901, 362, 772, 1027, 1026, 402, 742, 956]\n",
      "before: 179\n",
      "n_childrens: 15\n",
      "n_mutants: 15\n",
      "after: 209\n",
      "------------------------------------\n",
      "epoch 32\n"
     ]
    },
    {
     "name": "stderr",
     "output_type": "stream",
     "text": [
      "100%|██████████| 209/209 [02:23<00:00,  1.46it/s]\n"
     ]
    },
    {
     "name": "stdout",
     "output_type": "stream",
     "text": [
      "[7845 7829 7770 7596 7572 7570 7537 7446 7437 7329]\n",
      "[9, 990, 909, 829, 1002, 975, 1052, 444, 555, 1037]\n",
      "before: 172\n",
      "n_childrens: 15\n",
      "n_mutants: 15\n",
      "after: 202\n",
      "------------------------------------\n",
      "epoch 33\n"
     ]
    },
    {
     "name": "stderr",
     "output_type": "stream",
     "text": [
      "100%|██████████| 202/202 [02:21<00:00,  1.42it/s]\n"
     ]
    },
    {
     "name": "stdout",
     "output_type": "stream",
     "text": [
      "[7983 7790 7679 7541 7393 7162 7159 7152 7142 7116]\n",
      "[958, 1049, 1057, 726, 835, 1044, 1062, 1070, 955, 1008]\n",
      "before: 169\n",
      "n_childrens: 15\n",
      "n_mutants: 15\n",
      "after: 199\n",
      "------------------------------------\n",
      "epoch 34\n"
     ]
    },
    {
     "name": "stderr",
     "output_type": "stream",
     "text": [
      "100%|██████████| 199/199 [02:19<00:00,  1.43it/s]\n"
     ]
    },
    {
     "name": "stdout",
     "output_type": "stream",
     "text": [
      "[7947 7795 7648 7410 7370 7292 7236 7204 7079 7065]\n",
      "[1041, 1036, 1090, 935, 1044, 977, 1099, 764, 1083, 1105]\n",
      "before: 178\n",
      "n_childrens: 15\n",
      "n_mutants: 15\n",
      "after: 208\n",
      "------------------------------------\n",
      "epoch 35\n"
     ]
    },
    {
     "name": "stderr",
     "output_type": "stream",
     "text": [
      "100%|██████████| 208/208 [02:24<00:00,  1.44it/s]\n"
     ]
    },
    {
     "name": "stdout",
     "output_type": "stream",
     "text": [
      "[8109 7767 7504 7419 7370 7355 7317 7301 7293 7268]\n",
      "[1041, 1095, 1056, 618, 548, 1047, 1050, 947, 889, 1019]\n",
      "before: 171\n",
      "n_childrens: 15\n",
      "n_mutants: 15\n",
      "after: 201\n",
      "------------------------------------\n",
      "epoch 36\n"
     ]
    },
    {
     "name": "stderr",
     "output_type": "stream",
     "text": [
      "100%|██████████| 201/201 [02:17<00:00,  1.46it/s]\n"
     ]
    },
    {
     "name": "stdout",
     "output_type": "stream",
     "text": [
      "[8100 8067 7751 7630 7450 7389 7386 7361 7342 7263]\n",
      "[1167, 1055, 987, 1081, 852, 842, 1134, 537, 829, 362]\n",
      "before: 172\n",
      "n_childrens: 15\n",
      "n_mutants: 15\n",
      "after: 202\n",
      "------------------------------------\n",
      "epoch 37\n"
     ]
    },
    {
     "name": "stderr",
     "output_type": "stream",
     "text": [
      "100%|██████████| 202/202 [02:23<00:00,  1.41it/s]\n"
     ]
    },
    {
     "name": "stdout",
     "output_type": "stream",
     "text": [
      "[7670 7600 7544 7532 7372 7351 7277 7233 7217 7189]\n",
      "[1023, 1033, 1209, 972, 1099, 1176, 1131, 1171, 1045, 1172]\n",
      "before: 175\n",
      "n_childrens: 15\n",
      "n_mutants: 15\n",
      "after: 205\n",
      "------------------------------------\n",
      "epoch 38\n"
     ]
    },
    {
     "name": "stderr",
     "output_type": "stream",
     "text": [
      "100%|██████████| 205/205 [02:25<00:00,  1.41it/s]\n"
     ]
    },
    {
     "name": "stdout",
     "output_type": "stream",
     "text": [
      "[8012 7943 7740 7548 7507 7401 7318 7303 7287 7272]\n",
      "[1195, 1193, 1150, 1175, 1204, 889, 548, 965, 1049, 1056]\n",
      "before: 176\n",
      "n_childrens: 15\n",
      "n_mutants: 15\n",
      "after: 206\n",
      "------------------------------------\n",
      "epoch 39\n"
     ]
    },
    {
     "name": "stderr",
     "output_type": "stream",
     "text": [
      "100%|██████████| 206/206 [02:30<00:00,  1.37it/s]\n"
     ]
    },
    {
     "name": "stdout",
     "output_type": "stream",
     "text": [
      "[7685 7632 7583 7484 7448 7424 7318 7301 7293 7257]\n",
      "[885, 1160, 1201, 1172, 444, 1245, 1075, 1105, 1183, 1081]\n",
      "before: 172\n",
      "n_childrens: 15\n",
      "n_mutants: 15\n",
      "after: 202\n",
      "------------------------------------\n",
      "epoch 40\n"
     ]
    },
    {
     "name": "stderr",
     "output_type": "stream",
     "text": [
      "100%|██████████| 202/202 [02:26<00:00,  1.38it/s]\n"
     ]
    },
    {
     "name": "stdout",
     "output_type": "stream",
     "text": [
      "[7853 7686 7646 7576 7532 7456 7320 7303 7285 7214]\n",
      "[1149, 1287, 1002, 971, 1176, 1254, 1215, 1213, 1109, 1150]\n",
      "before: 179\n",
      "n_childrens: 15\n",
      "n_mutants: 15\n",
      "after: 209\n",
      "------------------------------------\n",
      "epoch 41\n"
     ]
    },
    {
     "name": "stderr",
     "output_type": "stream",
     "text": [
      "100%|██████████| 209/209 [02:30<00:00,  1.39it/s]\n"
     ]
    },
    {
     "name": "stdout",
     "output_type": "stream",
     "text": [
      "[8138 7748 7543 7518 7518 7491 7415 7339 7320 7293]\n",
      "[1255, 1008, 1211, 1329, 1264, 1268, 1302, 885, 1295, 1209]\n",
      "before: 178\n",
      "n_childrens: 15\n",
      "n_mutants: 15\n",
      "after: 208\n",
      "------------------------------------\n",
      "epoch 42\n"
     ]
    },
    {
     "name": "stderr",
     "output_type": "stream",
     "text": [
      "100%|██████████| 208/208 [02:25<00:00,  1.43it/s]\n"
     ]
    },
    {
     "name": "stdout",
     "output_type": "stream",
     "text": [
      "[7835 7694 7599 7542 7519 7458 7451 7415 7408 7383]\n",
      "[1338, 971, 1274, 1079, 1310, 1358, 1209, 1340, 1353, 1195]\n",
      "before: 172\n",
      "n_childrens: 15\n",
      "n_mutants: 15\n",
      "after: 202\n",
      "------------------------------------\n",
      "epoch 43\n"
     ]
    },
    {
     "name": "stderr",
     "output_type": "stream",
     "text": [
      "  3%|▎         | 7/202 [00:05<02:40,  1.22it/s]\n"
     ]
    },
    {
     "ename": "KeyboardInterrupt",
     "evalue": "",
     "output_type": "error",
     "traceback": [
      "\u001b[1;31m---------------------------------------------------------------------------\u001b[0m",
      "\u001b[1;31mKeyboardInterrupt\u001b[0m                         Traceback (most recent call last)",
      "Cell \u001b[1;32mIn[9], line 17\u001b[0m\n\u001b[0;32m     13\u001b[0m \u001b[38;5;28;01mfor\u001b[39;00m epoch \u001b[38;5;129;01min\u001b[39;00m \u001b[38;5;28mrange\u001b[39m(MAX_EPOCH):\n\u001b[0;32m     15\u001b[0m     \u001b[38;5;28mprint\u001b[39m(\u001b[38;5;124mf\u001b[39m\u001b[38;5;124m'\u001b[39m\u001b[38;5;124m------------------------------------\u001b[39m\u001b[38;5;130;01m\\n\u001b[39;00m\u001b[38;5;124mepoch \u001b[39m\u001b[38;5;132;01m{\u001b[39;00mepoch\u001b[38;5;132;01m}\u001b[39;00m\u001b[38;5;124m'\u001b[39m)\n\u001b[1;32m---> 17\u001b[0m     \u001b[43mevaluate_population\u001b[49m\u001b[43m(\u001b[49m\u001b[43mpopulation\u001b[49m\u001b[43m)\u001b[49m\n\u001b[0;32m     18\u001b[0m     \u001b[38;5;66;03m#evaluate_population(population, avg_player= population[len(population) // 2])\u001b[39;00m\n\u001b[0;32m     19\u001b[0m     scores \u001b[38;5;241m=\u001b[39m np\u001b[38;5;241m.\u001b[39marray([p\u001b[38;5;241m.\u001b[39mget_fitness() \u001b[38;5;28;01mfor\u001b[39;00m p \u001b[38;5;129;01min\u001b[39;00m population])\n",
      "Cell \u001b[1;32mIn[6], line 15\u001b[0m, in \u001b[0;36mevaluate_population\u001b[1;34m(population, fs, avg_player)\u001b[0m\n\u001b[0;32m     13\u001b[0m \u001b[38;5;28;01mif\u001b[39;00m fs \u001b[38;5;129;01mis\u001b[39;00m \u001b[38;5;28;01mNone\u001b[39;00m \u001b[38;5;129;01mor\u001b[39;00m fs \u001b[38;5;241m==\u001b[39m \u001b[38;5;124m'\u001b[39m\u001b[38;5;124monlyfirst\u001b[39m\u001b[38;5;124m'\u001b[39m:\n\u001b[0;32m     14\u001b[0m     p\u001b[38;5;241m.\u001b[39mprepare_to_surrend()\n\u001b[1;32m---> 15\u001b[0m     p\u001b[38;5;241m.\u001b[39mmod_fitness(((\u001b[38;5;241m1\u001b[39m \u001b[38;5;241m-\u001b[39m \u001b[43mGame\u001b[49m\u001b[43m(\u001b[49m\u001b[43m)\u001b[49m\u001b[38;5;241;43m.\u001b[39;49m\u001b[43mplay\u001b[49m\u001b[43m(\u001b[49m\u001b[43mp\u001b[49m\u001b[43m,\u001b[49m\u001b[43m \u001b[49m\u001b[43mRandomPlayer\u001b[49m\u001b[43m(\u001b[49m\u001b[43m)\u001b[49m\u001b[43m)\u001b[49m) \u001b[38;5;241m*\u001b[39m \u001b[38;5;241m2\u001b[39m \u001b[38;5;241m-\u001b[39m \u001b[38;5;241m1\u001b[39m) \u001b[38;5;241m*\u001b[39m \u001b[38;5;241m100\u001b[39m)\n\u001b[0;32m     17\u001b[0m \u001b[38;5;28;01mif\u001b[39;00m fs \u001b[38;5;129;01mis\u001b[39;00m \u001b[38;5;28;01mNone\u001b[39;00m \u001b[38;5;129;01mor\u001b[39;00m fs \u001b[38;5;241m==\u001b[39m \u001b[38;5;124m'\u001b[39m\u001b[38;5;124monlysecond\u001b[39m\u001b[38;5;124m'\u001b[39m:\n\u001b[0;32m     18\u001b[0m     p\u001b[38;5;241m.\u001b[39mprepare_to_surrend()\n",
      "File \u001b[1;32mc:\\Users\\User\\computational_intelligence\\quixo\\game.py:98\u001b[0m, in \u001b[0;36mGame.play\u001b[1;34m(self, player1, player2)\u001b[0m\n\u001b[0;32m     96\u001b[0m ok \u001b[38;5;241m=\u001b[39m \u001b[38;5;28;01mFalse\u001b[39;00m\n\u001b[0;32m     97\u001b[0m \u001b[38;5;28;01mwhile\u001b[39;00m \u001b[38;5;129;01mnot\u001b[39;00m ok:\n\u001b[1;32m---> 98\u001b[0m     from_pos, slide \u001b[38;5;241m=\u001b[39m \u001b[43mplayers\u001b[49m\u001b[43m[\u001b[49m\u001b[38;5;28;43mself\u001b[39;49m\u001b[38;5;241;43m.\u001b[39;49m\u001b[43mcurrent_player_idx\u001b[49m\u001b[43m]\u001b[49m\u001b[38;5;241;43m.\u001b[39;49m\u001b[43mmake_move\u001b[49m\u001b[43m(\u001b[49m\n\u001b[0;32m     99\u001b[0m \u001b[43m        \u001b[49m\u001b[38;5;28;43mself\u001b[39;49m\u001b[43m)\u001b[49m\n\u001b[0;32m    100\u001b[0m     \u001b[38;5;66;03m#if from_pos == None: return 1 - self.current_player_idx\u001b[39;00m\n\u001b[0;32m    101\u001b[0m     \u001b[38;5;28;01mif\u001b[39;00m from_pos \u001b[38;5;241m==\u001b[39m (\u001b[38;5;241m-\u001b[39m\u001b[38;5;241m1\u001b[39m, \u001b[38;5;241m-\u001b[39m\u001b[38;5;241m1\u001b[39m): \u001b[38;5;28;01mreturn\u001b[39;00m \u001b[38;5;241m1\u001b[39m \u001b[38;5;241m-\u001b[39m \u001b[38;5;28mself\u001b[39m\u001b[38;5;241m.\u001b[39mcurrent_player_idx\n",
      "Cell \u001b[1;32mIn[4], line 220\u001b[0m, in \u001b[0;36mMyPlayer.make_move\u001b[1;34m(self, game)\u001b[0m\n\u001b[0;32m    213\u001b[0m     X[\u001b[38;5;241m2\u001b[39m] \u001b[38;5;241m=\u001b[39m tmp\n\u001b[0;32m    215\u001b[0m \u001b[38;5;66;03m#######################################\u001b[39;00m\n\u001b[0;32m    216\u001b[0m \n\u001b[0;32m    217\u001b[0m \u001b[38;5;66;03m# compute move\u001b[39;00m\n\u001b[0;32m    218\u001b[0m \u001b[38;5;66;03m#--------------------------------------\u001b[39;00m\n\u001b[1;32m--> 220\u001b[0m from_pos, move \u001b[38;5;241m=\u001b[39m ALL_MOVES[\u001b[38;5;28;43mself\u001b[39;49m\u001b[38;5;241;43m.\u001b[39;49m\u001b[43mcompute_move\u001b[49m\u001b[43m(\u001b[49m\u001b[43mX\u001b[49m\u001b[43m)\u001b[49m]\n\u001b[0;32m    222\u001b[0m \u001b[38;5;66;03m#######################################\u001b[39;00m\n\u001b[0;32m    223\u001b[0m \n\u001b[0;32m    224\u001b[0m \u001b[38;5;66;03m# random move if illegal move chosen with penalty\u001b[39;00m\n\u001b[0;32m    225\u001b[0m \u001b[38;5;66;03m#--------------------------------------\u001b[39;00m\n\u001b[0;32m    227\u001b[0m \u001b[38;5;28;01mif\u001b[39;00m game\u001b[38;5;241m.\u001b[39mget_board()[from_pos[\u001b[38;5;241m1\u001b[39m], from_pos[\u001b[38;5;241m0\u001b[39m]] \u001b[38;5;241m==\u001b[39m \u001b[38;5;241m1\u001b[39m \u001b[38;5;241m-\u001b[39m game\u001b[38;5;241m.\u001b[39mcurrent_player_idx:\n\u001b[0;32m    228\u001b[0m \n\u001b[0;32m    229\u001b[0m     \u001b[38;5;66;03m#print('random used - penalty')\u001b[39;00m\n",
      "Cell \u001b[1;32mIn[4], line 140\u001b[0m, in \u001b[0;36mMyPlayer.compute_move\u001b[1;34m(self, X)\u001b[0m\n\u001b[0;32m    137\u001b[0m layer_info \u001b[38;5;241m=\u001b[39m WEIGHT_SHAPE[i_branch][i_layer]\n\u001b[0;32m    139\u001b[0m \u001b[38;5;28;01mif\u001b[39;00m layer_info[\u001b[38;5;241m0\u001b[39m] \u001b[38;5;241m==\u001b[39m \u001b[38;5;124m'\u001b[39m\u001b[38;5;124mdense\u001b[39m\u001b[38;5;124m'\u001b[39m:\n\u001b[1;32m--> 140\u001b[0m     layer_output \u001b[38;5;241m=\u001b[39m \u001b[43mnp\u001b[49m\u001b[38;5;241;43m.\u001b[39;49m\u001b[43mdot\u001b[49m\u001b[43m(\u001b[49m\u001b[43mlayer_input\u001b[49m\u001b[38;5;241;43m.\u001b[39;49m\u001b[43mflatten\u001b[49m\u001b[43m(\u001b[49m\u001b[43m)\u001b[49m\u001b[43m,\u001b[49m\u001b[43m \u001b[49m\u001b[38;5;28;43mself\u001b[39;49m\u001b[38;5;241;43m.\u001b[39;49m\u001b[43mW\u001b[49m\u001b[43m[\u001b[49m\u001b[43mi_branch\u001b[49m\u001b[43m]\u001b[49m\u001b[43m[\u001b[49m\u001b[43mi_layer\u001b[49m\u001b[43m]\u001b[49m\u001b[43m)\u001b[49m \u001b[38;5;241m+\u001b[39m \u001b[38;5;28mself\u001b[39m\u001b[38;5;241m.\u001b[39mb[i_branch][i_layer]\n\u001b[0;32m    142\u001b[0m \u001b[38;5;28;01melif\u001b[39;00m layer_info[\u001b[38;5;241m0\u001b[39m] \u001b[38;5;241m==\u001b[39m \u001b[38;5;124m'\u001b[39m\u001b[38;5;124mconv\u001b[39m\u001b[38;5;124m'\u001b[39m:\n\u001b[0;32m    144\u001b[0m     \u001b[38;5;28;01mif\u001b[39;00m \u001b[38;5;28mlen\u001b[39m(layer_input\u001b[38;5;241m.\u001b[39mshape) \u001b[38;5;241m==\u001b[39m \u001b[38;5;241m2\u001b[39m:\n",
      "File \u001b[1;32m<__array_function__ internals>:180\u001b[0m, in \u001b[0;36mdot\u001b[1;34m(*args, **kwargs)\u001b[0m\n",
      "\u001b[1;31mKeyboardInterrupt\u001b[0m: "
     ]
    }
   ],
   "source": [
    "MAX_EPOCH = 50\n",
    "MAX_POPULATION = 100\n",
    "\n",
    "id_generator = ID_generator()\n",
    "\n",
    "population = [MyPlayer(id_generator.get_id()) for _ in range(MAX_POPULATION)]\n",
    "\n",
    "ids = []\n",
    "ps = []\n",
    "tot_scores = []\n",
    "times = []\n",
    "\n",
    "for epoch in range(MAX_EPOCH):\n",
    "\n",
    "    print(f'------------------------------------\\nepoch {epoch}')\n",
    "\n",
    "    evaluate_population(population)\n",
    "    #evaluate_population(population, avg_player= population[len(population) // 2])\n",
    "    scores = np.array([p.get_fitness() for p in population])\n",
    "\n",
    "    idx_sort = np.argsort(scores)[::-1]\n",
    "    scores = scores[idx_sort]\n",
    "    population = [population[i] for i in idx_sort]\n",
    "\n",
    "    print(scores[:10])\n",
    "    print([p.get_id() for p in population[:10]])\n",
    "\n",
    "    # compute avg ranking\n",
    "    #--------------------------------------\n",
    "\n",
    "    for p, s in zip(population, scores):\n",
    "        p_id = p.get_id()\n",
    "\n",
    "        if p_id in ids:\n",
    "            idx = np.argwhere(np.array(ids) == p_id)[0][0]\n",
    "            tot_scores[idx] += s\n",
    "            times[idx] += 1\n",
    "\n",
    "        else:\n",
    "            ids.append(p_id)\n",
    "            ps.append(p)\n",
    "            tot_scores.append(s)\n",
    "            times.append(1)\n",
    "\n",
    "    #######################################\n",
    "\n",
    "    # provare ad implementare morte dopo tot che non si è tra i primi tot\n",
    "    #--------------------------------------\n",
    "\n",
    "    to_death = []\n",
    "    for i, p in enumerate(population):\n",
    "        bonus_epochs = 4 if i < MAX_POPULATION / 2 else None\n",
    "        if p.get_death(bonus_epochs) == 0: to_death.append(p)\n",
    "    for p in to_death: population.remove(p)\n",
    "\n",
    "    # provare ad implementare morte dopo tot che non si è tra i primi tot\n",
    "    #--------------------------------------\n",
    "\n",
    "    #if epoch in [2, 4]:\n",
    "    #    for p in population: p.add_weights(\n",
    "    #        [\n",
    "    #            ('dense', 64),\n",
    "    #            ('dense', N_ALL),\n",
    "    #        ]\n",
    "    #    )\n",
    "\n",
    "    #######################################\n",
    "\n",
    "    ## magari aumentare e diminuire aumento popolazione in base a grandezza popolazione\n",
    "\n",
    "    print(f'before: {len(population)}')\n",
    "\n",
    "    ## procreazione (probabilita dipendente da fitness)\n",
    "\n",
    "    childrens = procreation(population, id_generator)\n",
    "    print(f'n_childrens: {len(childrens)}')\n",
    "\n",
    "    ## mutazioni (tante ma random su individui random)\n",
    "\n",
    "    mutants = mutation(population, id_generator)\n",
    "    print(f'n_mutants: {len(mutants)}')\n",
    "\n",
    "    for child in childrens: population.append(child)\n",
    "    for mutant in mutants: population.append(mutant)\n",
    "\n",
    "    print(f'after: {len(population)}')\n",
    "\n",
    "    #"
   ]
  },
  {
   "cell_type": "code",
   "execution_count": 10,
   "metadata": {},
   "outputs": [
    {
     "name": "stdout",
     "output_type": "stream",
     "text": [
      "1338\n",
      "[1338, 1358, 1340, 1353, 1359, 1337, 1343, 1332, 1355, 1264]\n",
      "[1, 1, 1, 1, 1, 1, 1, 1, 1, 4]\n",
      "[7835.   7458.   7415.   7408.   7219.   7106.   7031.   7023.   6869.\n",
      " 6789.75]\n"
     ]
    },
    {
     "data": {
      "image/png": "[encoded data removed]",
      "text/plain": [
       "<Figure size 640x480 with 1 Axes>"
      ]
     },
     "metadata": {},
     "output_type": "display_data"
    }
   ],
   "source": [
    "avg_scores = np.array(tot_scores) / np.array(times)\n",
    "\n",
    "idx_sort = np.argsort(avg_scores)[::-1]\n",
    "\n",
    "ids = [ids[i] for i in idx_sort]\n",
    "ps = [ps[i] for i in idx_sort]\n",
    "tot_scores = [tot_scores[i] for i in idx_sort]\n",
    "times = [times[i] for i in idx_sort]\n",
    "avg_scores = avg_scores[idx_sort]\n",
    "\n",
    "print(population[0].get_id())\n",
    "print(ids[:10])\n",
    "print(times[:10])\n",
    "print(avg_scores[:10])\n",
    "\n",
    "idx_sort = np.argsort(ids)[::-1]\n",
    "\n",
    "ids = [ids[i] for i in idx_sort]\n",
    "ps = [ps[i] for i in idx_sort]\n",
    "tot_scores = [tot_scores[i] for i in idx_sort]\n",
    "times = [times[i] for i in idx_sort]\n",
    "avg_scores = avg_scores[idx_sort]\n",
    "\n",
    "import matplotlib.pyplot as plt\n",
    "\n",
    "x = ids\n",
    "y = avg_scores\n",
    "plt.plot(x, y)\n",
    "plt.grid()\n",
    "plt.show()\n",
    "\n"
   ]
  },
  {
   "cell_type": "code",
   "execution_count": 11,
   "metadata": {},
   "outputs": [],
   "source": [
    "#ThePlayer = population[0]\n",
    "ThePlayer = ps[0]"
   ]
  },
  {
   "cell_type": "code",
   "execution_count": 12,
   "metadata": {},
   "outputs": [
    {
     "name": "stderr",
     "output_type": "stream",
     "text": [
      "100%|██████████| 1000/1000 [00:14<00:00, 69.83it/s]"
     ]
    },
    {
     "name": "stdout",
     "output_type": "stream",
     "text": [
      "Player won 929 / 1000 as first\n",
      "Player won 871 / 1000 as second\n"
     ]
    },
    {
     "name": "stderr",
     "output_type": "stream",
     "text": [
      "\n"
     ]
    }
   ],
   "source": [
    "wins_first = 0\n",
    "wins_second = 0\n",
    "n_trials = 1000\n",
    "\n",
    "player1 = ThePlayer\n",
    "player2 = RandomPlayer()\n",
    "\n",
    "for _ in tqdm(range(n_trials)):\n",
    "    g = Game()\n",
    "\n",
    "    player1.prepare_to_surrend(500)\n",
    "    winner = g.play(player1, player2)\n",
    "\n",
    "    if winner == 0: wins_first += 1\n",
    "\n",
    "    g = Game()\n",
    "\n",
    "    player1.prepare_to_surrend(500)\n",
    "    winner = g.play(player2, player1)\n",
    "\n",
    "    if winner == 1: wins_second += 1\n",
    "\n",
    "print(f\"Player won {wins_first} / {n_trials} as first\")\n",
    "print(f\"Player won {wins_second} / {n_trials} as second\")"
   ]
  }
 ],
 "metadata": {
  "kernelspec": {
   "display_name": "Python 3",
   "language": "python",
   "name": "python3"
  },
  "language_info": {
   "codemirror_mode": {
    "name": "ipython",
    "version": 3
   },
   "file_extension": ".py",
   "mimetype": "text/x-python",
   "name": "python",
   "nbconvert_exporter": "python",
   "pygments_lexer": "ipython3",
   "version": "3.10.11"
  }
 },
 "nbformat": 4,
 "nbformat_minor": 2
}
