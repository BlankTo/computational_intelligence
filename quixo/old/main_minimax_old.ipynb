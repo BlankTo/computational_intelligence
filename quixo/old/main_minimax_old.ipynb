{
 "cells": [
  {
   "cell_type": "markdown",
   "metadata": {},
   "source": [
    "## minimax with alpha-beta pruning"
   ]
  },
  {
   "cell_type": "code",
   "execution_count": null,
   "metadata": {},
   "outputs": [],
   "source": [
    "import random\n",
    "import numpy as np\n",
    "from game import Game, Move, Player\n",
    "from copy import deepcopy\n",
    "from tqdm import tqdm"
   ]
  },
  {
   "cell_type": "code",
   "execution_count": null,
   "metadata": {},
   "outputs": [],
   "source": [
    "class Dummy_Game(object):\n",
    "    def __init__(self) -> None:\n",
    "        self._board = np.ones((5, 5), dtype=np.uint8) * -1\n",
    "        self.current_player_idx = 1\n",
    "\n",
    "    def get_board(self): return self._board\n",
    "\n",
    "    def single_move(self, board, from_pos, move, player_id):\n",
    "        self._board = deepcopy(board)\n",
    "        self.current_player_idx = player_id\n",
    "        ok = self.__move(from_pos, move, player_id)\n",
    "        return deepcopy(self._board), ok\n",
    "    \n",
    "    def check_winner_board(self, board):\n",
    "        self._board = board\n",
    "        return self.check_winner()\n",
    "\n",
    "    def check_winner(self) -> int:\n",
    "        for x in range(self._board.shape[0]):\n",
    "            if self._board[x, 0] != -1 and all(self._board[x, :] == self._board[x, 0]): return self._board[x, 0]\n",
    "        for y in range(self._board.shape[1]):\n",
    "            if self._board[0, y] != -1 and all(self._board[:, y] == self._board[0, y]): return self._board[0, y]\n",
    "        if self._board[0, 0] != -1 and all([self._board[x, x] for x in range(self._board.shape[0])] == self._board[0, 0]): return self._board[0, 0]\n",
    "        if self._board[0, -1] != -1 and all([self._board[x, -(x + 1)] for x in range(self._board.shape[0])] == self._board[0, -1]): return self._board[0, -1]\n",
    "        return -1\n",
    "\n",
    "    def __move(self, from_pos: tuple[int, int], slide: Move, player_id: int) -> bool:\n",
    "        if player_id > 2: return False\n",
    "        prev_value = deepcopy(self._board[(from_pos[1], from_pos[0])])\n",
    "        acceptable = self.__take((from_pos[1], from_pos[0]), player_id)\n",
    "        if acceptable:\n",
    "            acceptable = self.__slide((from_pos[1], from_pos[0]), slide)\n",
    "            if not acceptable: self._board[(from_pos[1], from_pos[0])] = deepcopy(prev_value)\n",
    "        return acceptable\n",
    "\n",
    "    def __take(self, from_pos: tuple[int, int], player_id: int) -> bool:\n",
    "        acceptable: bool = ((from_pos[0] == 0 and from_pos[1] < 5) or (from_pos[0] == 4 and from_pos[1] < 5) or (from_pos[1] == 0 and from_pos[0] < 5) or (from_pos[1] == 4 and from_pos[0] < 5)) and (self._board[from_pos] < 0 or self._board[from_pos] == player_id)\n",
    "        if acceptable: self._board[from_pos] = player_id\n",
    "        return acceptable\n",
    "\n",
    "    def __slide(self, from_pos: tuple[int, int], slide: Move) -> bool:\n",
    "        SIDES = [(0, 0), (0, 4), (4, 0), (4, 4)]\n",
    "        if from_pos not in SIDES:\n",
    "            acceptable_top: bool = from_pos[0] == 0 and (slide == Move.BOTTOM or slide == Move.LEFT or slide == Move.RIGHT)\n",
    "            acceptable_bottom: bool = from_pos[0] == 4 and (slide == Move.TOP or slide == Move.LEFT or slide == Move.RIGHT)\n",
    "            acceptable_left: bool = from_pos[1] == 0 and (slide == Move.BOTTOM or slide == Move.TOP or slide == Move.RIGHT)\n",
    "            acceptable_right: bool = from_pos[1] == 4 and (slide == Move.BOTTOM or slide == Move.TOP or slide == Move.LEFT)\n",
    "        else:\n",
    "            acceptable_top: bool = from_pos == (0, 0) and (slide == Move.BOTTOM or slide == Move.RIGHT)\n",
    "            acceptable_left: bool = from_pos == (4, 0) and (slide == Move.TOP or slide == Move.RIGHT)\n",
    "            acceptable_right: bool = from_pos == (0, 4) and (slide == Move.BOTTOM or slide == Move.LEFT)\n",
    "            acceptable_bottom: bool = from_pos == (4, 4) and (slide == Move.TOP or slide == Move.LEFT)\n",
    "        acceptable: bool = acceptable_top or acceptable_bottom or acceptable_left or acceptable_right\n",
    "        if acceptable:\n",
    "            piece = self._board[from_pos]\n",
    "            if slide == Move.LEFT:\n",
    "                for i in range(from_pos[1], 0, -1): self._board[(from_pos[0], i)] = self._board[(from_pos[0], i - 1)]\n",
    "                self._board[(from_pos[0], 0)] = piece\n",
    "            elif slide == Move.RIGHT:\n",
    "                for i in range(from_pos[1], self._board.shape[1] - 1, 1): self._board[(from_pos[0], i)] = self._board[(from_pos[0], i + 1)]\n",
    "                self._board[(from_pos[0], self._board.shape[1] - 1)] = piece\n",
    "            elif slide == Move.TOP:\n",
    "                for i in range(from_pos[0], 0, -1): self._board[(i, from_pos[1])] = self._board[(i - 1, from_pos[1])]\n",
    "                self._board[(0, from_pos[1])] = piece\n",
    "            elif slide == Move.BOTTOM:\n",
    "                for i in range(from_pos[0], self._board.shape[0] - 1, 1): self._board[(i, from_pos[1])] = self._board[(i + 1, from_pos[1])]\n",
    "                self._board[(self._board.shape[0] - 1, from_pos[1])] = piece\n",
    "        return acceptable"
   ]
  },
  {
   "cell_type": "code",
   "execution_count": 13,
   "metadata": {},
   "outputs": [
    {
     "name": "stdout",
     "output_type": "stream",
     "text": [
      "16\n",
      "44\n"
     ]
    }
   ],
   "source": [
    "border = []\n",
    "for i in range(5):\n",
    "    for j in range(5):\n",
    "        if i == 0 or i == 4 or j == 0 or j == 4:\n",
    "            border.append((i, j))\n",
    "BORDER = (list(set(border)))\n",
    "print(len(BORDER))\n",
    "\n",
    "def tile_to_moves(tile):\n",
    "    possible_moves = [Move.TOP, Move.BOTTOM, Move.LEFT, Move.RIGHT]\n",
    "        \n",
    "    if tile[0] == 0: possible_moves.remove(Move.LEFT)\n",
    "    if tile[0] == 4: possible_moves.remove(Move.RIGHT)\n",
    "    if tile[1] == 0: possible_moves.remove(Move.TOP)\n",
    "    if tile[1] == 4: possible_moves.remove(Move.BOTTOM)\n",
    "\n",
    "    return possible_moves\n",
    "\n",
    "tile_moves = {tile: tile_to_moves(tile) for tile in BORDER}\n",
    "\n",
    "ALL_MOVES = []\n",
    "for tile in BORDER:\n",
    "    possible_moves = tile_moves[tile]\n",
    "    for move in possible_moves: ALL_MOVES.append((tile, move))\n",
    "N_ALL = len(ALL_MOVES)\n",
    "\n",
    "class RandomPlayer(Player):\n",
    "    def __init__(self) -> None:\n",
    "        super().__init__()\n",
    "\n",
    "    def make_move(self, game: 'Game') -> tuple[tuple[int, int], Move]:\n",
    "\n",
    "        from_pos = random.choice(BORDER)\n",
    "        while game.get_board()[from_pos[1], from_pos[0]] == 1 - game.current_player_idx: from_pos = random.choice(BORDER)\n",
    "\n",
    "        possible_moves = tile_moves[from_pos]\n",
    "        \n",
    "        move = random.choice(possible_moves)\n",
    "\n",
    "        return from_pos, move"
   ]
  },
  {
   "cell_type": "code",
   "execution_count": 14,
   "metadata": {},
   "outputs": [],
   "source": [
    "## state can be represented as a number if 0,1 are considered as bit"
   ]
  },
  {
   "cell_type": "code",
   "execution_count": 15,
   "metadata": {},
   "outputs": [
    {
     "name": "stdout",
     "output_type": "stream",
     "text": [
      "Board:\n",
      "[[-1  1  0 -1  0]\n",
      " [-1 -1  1  1 -1]\n",
      " [ 0 -1  1  1 -1]\n",
      " [ 0 -1  1  1 -1]\n",
      " [-1 -1 -1 -1 -1]]\n",
      "\n",
      "State:\n",
      "661126438394048\n",
      "\n",
      "Board:\n",
      "[[-1  1  0 -1  0]\n",
      " [-1 -1  1  1 -1]\n",
      " [ 0 -1  1  1 -1]\n",
      " [ 0 -1  1  1 -1]\n",
      " [-1 -1 -1 -1 -1]]\n"
     ]
    }
   ],
   "source": [
    "import numpy as np\n",
    "\n",
    "def state_to_board(state):\n",
    "    binary_string = format(state, '050b')\n",
    "    binary_array = np.array(list(map(int, binary_string))).reshape(2, 5, 5)\n",
    "\n",
    "    board = np.zeros((5, 5), dtype=int)\n",
    "    board[binary_array[0] == 1] = -1\n",
    "    board[binary_array[1] == 1] = 1\n",
    "\n",
    "    return board\n",
    "\n",
    "def board_to_state(board):\n",
    "    binary_array = np.zeros((2, 5, 5), dtype=int)\n",
    "    \n",
    "    binary_array[0][board == -1] = 1\n",
    "    binary_array[1][board == 1] = 1\n",
    "\n",
    "    binary_string = ''.join(map(str, binary_array.flatten()))\n",
    "    return int(binary_string, 2)\n",
    "\n",
    "\n",
    "\n",
    "rand_board = np.random.choice([-1, 0, 1], size=(5, 5), replace=True)\n",
    "print('Board:')\n",
    "print(rand_board)\n",
    "\n",
    "rand_state = board_to_state(rand_board)\n",
    "rand_board = state_to_board(rand_state)\n",
    "\n",
    "print('\\nState:')\n",
    "print(rand_state)\n",
    "print('\\nBoard:')\n",
    "print(state_to_board(rand_state))"
   ]
  },
  {
   "cell_type": "code",
   "execution_count": 16,
   "metadata": {},
   "outputs": [],
   "source": [
    "import time\n",
    "\n",
    "class TimeCounter:\n",
    "    def __init__(self):\n",
    "        self.tot_time = 0\n",
    "        self.count = 0\n",
    "    \n",
    "    def add_t(self, t):\n",
    "        self.tot_time += t\n",
    "        self.count += 1\n",
    "\n",
    "    def get(self): return self.tot_time, (self.tot_time / self.count) if self.count > 0 else 0"
   ]
  },
  {
   "cell_type": "code",
   "execution_count": 18,
   "metadata": {},
   "outputs": [
    {
     "data": {
      "text/plain": [
       "((0, 1), <Move.TOP: 0>)"
      ]
     },
     "execution_count": 18,
     "metadata": {},
     "output_type": "execute_result"
    }
   ],
   "source": [
    "def minimax(game: \"Dummy_Game\", board, depth, maximizing, current_player, alpha, beta, transposition_table): #, time_counter):\n",
    "\n",
    "    #time_start = time.perf_counter()\n",
    "    \n",
    "    state = tuple(board.flatten())\n",
    "    #state = board_to_state(board)\n",
    "    \n",
    "    if state in transposition_table: return transposition_table[state]\n",
    "    #time_counter.add_t((time.perf_counter() - time_start) * 1e6)\n",
    "\n",
    "    winner = game.check_winner()\n",
    "    if winner != -1 or depth == 0:\n",
    "        return evaluate_board(board, winner, current_player if maximizing else 1 - current_player)\n",
    "\n",
    "    if maximizing:\n",
    "        max_eval = float('-inf')\n",
    "        for om in ALL_MOVES:\n",
    "            from_pos, move = om\n",
    "            new_board, ok = game.single_move(board, from_pos, move, current_player)\n",
    "            if ok:\n",
    "                eval = minimax(game, new_board, depth - 1, False, 1 - current_player, alpha, beta, transposition_table)#, time_counter)\n",
    "\n",
    "                max_eval = max(max_eval, eval)\n",
    "                alpha = max(alpha, eval)\n",
    "\n",
    "                if beta <= alpha: break  # Prune the remaining branches\n",
    "\n",
    "        transposition_table[state] = max_eval\n",
    "        return max_eval\n",
    "    else:\n",
    "        min_eval = float('inf')\n",
    "        for om in ALL_MOVES:\n",
    "            from_pos, move = om\n",
    "            new_board, ok = game.single_move(board, from_pos, move, current_player)\n",
    "            if ok:\n",
    "                eval = minimax(game, new_board, depth - 1, True, 1 - current_player, alpha, beta, transposition_table)#, time_counter)\n",
    "\n",
    "                min_eval = min(min_eval, eval)\n",
    "                beta = min(beta, eval)\n",
    "\n",
    "                if beta <= alpha: break  # Prune the remaining branches\n",
    "\n",
    "        transposition_table[state] = min_eval\n",
    "        return min_eval\n",
    "    \n",
    "def evaluate_board(board, winner, current_player):\n",
    "\n",
    "    bonus = 0\n",
    "    diag_a_player = 0\n",
    "    diag_a_enemy = 0\n",
    "    diag_b_player = 0\n",
    "    diag_b_enemy = 0\n",
    "    for i in range(5):\n",
    "        \n",
    "        line = board[i, :]\n",
    "        bonus += pow(sum(line == current_player), 2) - pow(sum(line == 1 - current_player), 2)\n",
    "        #bonus += sum(line == current_player) - sum(line == 1 - current_player)\n",
    "\n",
    "        line = board[:, i]\n",
    "        bonus += pow(sum(line == current_player), 2) - pow(sum(line == 1 - current_player), 2)\n",
    "        #bonus += sum(line == current_player) - sum(line == 1 - current_player)\n",
    "        \n",
    "        if board[i, i] == current_player: diag_a_player += 1\n",
    "        elif board[i, i] == 1 - current_player: diag_a_enemy += 1\n",
    "        \n",
    "        if board[i, 4-i] == current_player: diag_b_player += 1\n",
    "        elif board[i, 4-i] == 1 - current_player: diag_b_enemy += 1\n",
    "\n",
    "    bonus += pow(diag_a_player, 2) - pow(diag_a_enemy, 2)\n",
    "    #bonus += diag_a_player - diag_a_enemy\n",
    "        \n",
    "    bonus += pow(diag_b_player, 2) - pow(diag_b_enemy, 2)\n",
    "    #bonus += diag_b_player - diag_b_enemy\n",
    "\n",
    "    #bonus += 15 if board[2, 2] == current_player else -16 # the center of the board is used in four winning combination\n",
    "\n",
    "    #win_reward = 300  # 300 = 25 x 12 = 5^2 x winning lines\n",
    "    win_reward = 60  # 60 = 5 x 12 = 5 x winning lines\n",
    "\n",
    "    base_reward = -1 * win_reward # winner == 1 - current_player\n",
    "    if winner == current_player: base_reward = win_reward\n",
    "    elif winner == -1: base_reward = 0\n",
    "\n",
    "    return base_reward + bonus\n",
    "\n",
    "def minimax_wrapper(board, player_id, max_depth, transposition_table= {}):\n",
    "\n",
    "    game = Dummy_Game()\n",
    "\n",
    "    best_move = None\n",
    "    best_eval = float('-inf')\n",
    "\n",
    "    #time_counter = TimeCounter()\n",
    "\n",
    "    for om in ALL_MOVES:\n",
    "        from_pos, move = om\n",
    "        new_board, ok = game.single_move(board, from_pos, move, player_id)\n",
    "        if ok:\n",
    "            om_eval = minimax(game, new_board, max_depth, False, 1 - player_id, float('-inf'), float('inf'), transposition_table) #, time_counter)\n",
    "\n",
    "            if om_eval > best_eval:\n",
    "                best_eval = om_eval\n",
    "                best_move = om\n",
    "\n",
    "    #print(f\"Best move: {best_move} -> Best Value: {best_eval}\")\n",
    "    \n",
    "    #tt, avgt = time_counter.get()\n",
    "    #print(f\"Elapsed time: {(tt, avgt)} microseconds\")\n",
    "    #print(f\"Elapsed time: {tt / 1e6, avgt / 1e6} seconds\")\n",
    "\n",
    "    return best_move\n",
    "\n",
    "initial_board = np.ones((5, 5)) * -1\n",
    "\n",
    "minimax_wrapper(initial_board, 1, 0)"
   ]
  },
  {
   "cell_type": "code",
   "execution_count": 19,
   "metadata": {},
   "outputs": [],
   "source": [
    "class MyPlayer(Player):\n",
    "    def __init__(self, max_depth= 0) -> None:\n",
    "        super().__init__()\n",
    "        self.max_depth = max_depth\n",
    "        self.transposition_table = {}\n",
    "\n",
    "        self.last_move = None, None, None\n",
    "        self.until_draw = 10\n",
    "\n",
    "    def make_move(self, game: 'Game') -> tuple[tuple[int, int], Move]:\n",
    "\n",
    "        board = game.get_board()\n",
    "\n",
    "        from_pos, move = minimax_wrapper(board, game.current_player_idx, max_depth= self.max_depth, transposition_table= self.transposition_table)\n",
    "        state = tuple(board.flatten())\n",
    "        if state == self.last_move[0] and from_pos == self.last_move[1] and move == self.last_move[2]:\n",
    "            self.until_draw -= 1\n",
    "            if self.until_draw == 0:\n",
    "                self.until_draw = 10\n",
    "                from_pos, move = RandomPlayer().make_move(game)\n",
    "            \n",
    "        self.last_move = (state, from_pos, move)\n",
    "\n",
    "        return from_pos, move\n"
   ]
  },
  {
   "cell_type": "markdown",
   "metadata": {},
   "source": [
    "## tests"
   ]
  },
  {
   "cell_type": "code",
   "execution_count": 20,
   "metadata": {},
   "outputs": [
    {
     "name": "stderr",
     "output_type": "stream",
     "text": [
      "  0%|          | 0/1000 [00:00<?, ?it/s]"
     ]
    },
    {
     "name": "stderr",
     "output_type": "stream",
     "text": [
      "100%|██████████| 1000/1000 [02:04<00:00,  8.04it/s]"
     ]
    },
    {
     "name": "stdout",
     "output_type": "stream",
     "text": [
      "Player won 999 / 1000 as first\n",
      "Player won 1000 / 1000 as second\n"
     ]
    },
    {
     "name": "stderr",
     "output_type": "stream",
     "text": [
      "\n"
     ]
    }
   ],
   "source": [
    "ThePlayer = MyPlayer(0)\n",
    "\n",
    "wins_first = 0\n",
    "wins_second = 0\n",
    "n_trials = 1000\n",
    "\n",
    "for i_g in tqdm(range(n_trials)):\n",
    "#for i_g in range(n_trials):\n",
    "\n",
    "    #print('==============================================================================')\n",
    "    #print('==============================================================================')\n",
    "    #print(f'game {i_g+1} - Player First (0)')\n",
    "\n",
    "    game = Game()\n",
    "    winner = game.play(ThePlayer, RandomPlayer())\n",
    "    if winner == 0:\n",
    "        #print(game.get_board())\n",
    "        #print('Player win')\n",
    "        wins_first += 1\n",
    "    #else:\n",
    "    #    print(game.get_board())\n",
    "    #    print('Player lose')\n",
    "\n",
    "    #print(f'game {i_g+1} - Player Second (1)')\n",
    "\n",
    "    game = Game()\n",
    "    winner = game.play(RandomPlayer(), ThePlayer)\n",
    "    if winner == 1:\n",
    "        #print(game.get_board())\n",
    "        #print('Player win')\n",
    "        wins_second += 1\n",
    "    #else:\n",
    "    #    print(game.get_board())\n",
    "    #    print('Player lose')\n",
    "\n",
    "print(f\"Player won {wins_first} / {n_trials} as first\")\n",
    "print(f\"Player won {wins_second} / {n_trials} as second\")"
   ]
  },
  {
   "cell_type": "code",
   "execution_count": 21,
   "metadata": {},
   "outputs": [
    {
     "name": "stderr",
     "output_type": "stream",
     "text": [
      "100%|██████████| 1000/1000 [25:44<00:00,  1.54s/it]"
     ]
    },
    {
     "name": "stdout",
     "output_type": "stream",
     "text": [
      "Player won 1000 / 1000 as first\n",
      "Player won 998 / 1000 as second\n"
     ]
    },
    {
     "name": "stderr",
     "output_type": "stream",
     "text": [
      "\n"
     ]
    }
   ],
   "source": [
    "ThePlayer = MyPlayer(1)\n",
    "\n",
    "wins_first = 0\n",
    "wins_second = 0\n",
    "n_trials = 1000\n",
    "\n",
    "for i_g in tqdm(range(n_trials)):\n",
    "#for i_g in range(n_trials):\n",
    "\n",
    "    #print('==============================================================================')\n",
    "    #print('==============================================================================')\n",
    "    #print(f'game {i_g+1} - Player First (0)')\n",
    "\n",
    "    game = Game()\n",
    "    winner = game.play(ThePlayer, RandomPlayer())\n",
    "    if winner == 0:\n",
    "        #print(game.get_board())\n",
    "        #print('Player win')\n",
    "        wins_first += 1\n",
    "    #else:\n",
    "    #    print(game.get_board())\n",
    "    #    print('Player lose')\n",
    "\n",
    "    #print(f'game {i_g+1} - Player Second (1)')\n",
    "\n",
    "    game = Game()\n",
    "    winner = game.play(RandomPlayer(), ThePlayer)\n",
    "    if winner == 1:\n",
    "        #print(game.get_board())\n",
    "        #print('Player win')\n",
    "        wins_second += 1\n",
    "    #else:\n",
    "    #    print(game.get_board())\n",
    "    #    print('Player lose')\n",
    "\n",
    "print(f\"Player won {wins_first} / {n_trials} as first\")\n",
    "print(f\"Player won {wins_second} / {n_trials} as second\")"
   ]
  },
  {
   "cell_type": "code",
   "execution_count": 22,
   "metadata": {},
   "outputs": [
    {
     "name": "stderr",
     "output_type": "stream",
     "text": [
      "100%|██████████| 1000/1000 [2:02:29<00:00,  7.35s/it] "
     ]
    },
    {
     "name": "stdout",
     "output_type": "stream",
     "text": [
      "Player won 947 / 1000 as first\n",
      "Player won 921 / 1000 as second\n"
     ]
    },
    {
     "name": "stderr",
     "output_type": "stream",
     "text": [
      "\n"
     ]
    }
   ],
   "source": [
    "ThePlayer = MyPlayer(2)\n",
    "\n",
    "wins_first = 0\n",
    "wins_second = 0\n",
    "n_trials = 1000\n",
    "\n",
    "for i_g in tqdm(range(n_trials)):\n",
    "#for i_g in range(n_trials):\n",
    "\n",
    "    #print('==============================================================================')\n",
    "    #print('==============================================================================')\n",
    "    #print(f'game {i_g+1} - Player First (0)')\n",
    "\n",
    "    game = Game()\n",
    "    winner = game.play(ThePlayer, RandomPlayer())\n",
    "    if winner == 0:\n",
    "        #print(game.get_board())\n",
    "        #print('Player win')\n",
    "        wins_first += 1\n",
    "    #else:\n",
    "    #    print(game.get_board())\n",
    "    #    print('Player lose')\n",
    "\n",
    "    #print(f'game {i_g+1} - Player Second (1)')\n",
    "\n",
    "    game = Game()\n",
    "    winner = game.play(RandomPlayer(), ThePlayer)\n",
    "    if winner == 1:\n",
    "        #print(game.get_board())\n",
    "        #print('Player win')\n",
    "        wins_second += 1\n",
    "    #else:\n",
    "    #    print(game.get_board())\n",
    "    #    print('Player lose')\n",
    "\n",
    "print(f\"Player won {wins_first} / {n_trials} as first\")\n",
    "print(f\"Player won {wins_second} / {n_trials} as second\")"
   ]
  },
  {
   "cell_type": "code",
   "execution_count": 71,
   "metadata": {},
   "outputs": [
    {
     "name": "stdout",
     "output_type": "stream",
     "text": [
      "==============================================================================\n",
      "==============================================================================\n",
      "MyPlayer(0) is first - MyPlayer(2) is second\n",
      "MyPlayer(0) win\n",
      "==============================================================================\n",
      "==============================================================================\n",
      "MyPlayer(2) is first - MyPlayer(0) is second\n",
      "MyPlayer(0) win\n"
     ]
    }
   ],
   "source": [
    "max_depth_enemy = 2\n",
    "\n",
    "print('==============================================================================')\n",
    "print('==============================================================================')\n",
    "print(f'MyPlayer(0) is first - MyPlayer({max_depth_enemy}) is second')\n",
    "\n",
    "game = Game()\n",
    "winner = game.play(MyPlayer(0), MyPlayer(max_depth_enemy))\n",
    "if winner == 0: print('MyPlayer(0) win')\n",
    "else: print(f'MyPlayer({max_depth_enemy}) win')\n",
    "\n",
    "print('==============================================================================')\n",
    "print('==============================================================================')\n",
    "print(f'MyPlayer({max_depth_enemy}) is first - MyPlayer(0) is second')\n",
    "\n",
    "game = Game()\n",
    "winner = game.play(MyPlayer(max_depth_enemy), MyPlayer(0))\n",
    "if winner == 0: print(f'MyPlayer({max_depth_enemy}) win')\n",
    "else: print('MyPlayer(0) win')"
   ]
  }
 ],
 "metadata": {
  "kernelspec": {
   "display_name": "Python 3",
   "language": "python",
   "name": "python3"
  },
  "language_info": {
   "codemirror_mode": {
    "name": "ipython",
    "version": 3
   },
   "file_extension": ".py",
   "mimetype": "text/x-python",
   "name": "python",
   "nbconvert_exporter": "python",
   "pygments_lexer": "ipython3",
   "version": "3.10.11"
  }
 },
 "nbformat": 4,
 "nbformat_minor": 2
}
