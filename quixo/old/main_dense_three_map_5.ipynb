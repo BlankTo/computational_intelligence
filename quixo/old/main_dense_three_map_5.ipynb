{
 "cells": [
  {
   "cell_type": "code",
   "execution_count": 58,
   "metadata": {},
   "outputs": [
    {
     "name": "stdout",
     "output_type": "stream",
     "text": [
      "16\n"
     ]
    }
   ],
   "source": [
    "import random\n",
    "import numpy as np\n",
    "from game import Game, Move, Player\n",
    "from copy import deepcopy\n",
    "from tqdm import tqdm\n",
    "\n",
    "border = []\n",
    "for i in range(5):\n",
    "    for j in range(5):\n",
    "        if i == 0 or i == 4 or j == 0 or j == 4:\n",
    "            border.append((i, j))\n",
    "BORDER = (list(set(border)))\n",
    "print(len(BORDER))\n",
    "\n",
    "ALL_MOVES = []\n",
    "for pos in BORDER:\n",
    "    possible_moves = [Move.TOP, Move.BOTTOM, Move.LEFT, Move.RIGHT]\n",
    "            \n",
    "    if pos[0] == 0: possible_moves.remove(Move.LEFT)\n",
    "    if pos[0] == 4: possible_moves.remove(Move.RIGHT)\n",
    "    if pos[1] == 0: possible_moves.remove(Move.TOP)\n",
    "    if pos[1] == 4: possible_moves.remove(Move.BOTTOM)\n",
    "\n",
    "    for move in possible_moves: ALL_MOVES.append((pos, move))\n",
    "N_ALL = len(ALL_MOVES)\n",
    "\n",
    "class RandomPlayer(Player):\n",
    "    def __init__(self) -> None:\n",
    "        super().__init__()\n",
    "\n",
    "    def make_move(self, game: 'Game') -> tuple[tuple[int, int], Move]:\n",
    "\n",
    "        from_pos = random.choice(BORDER)\n",
    "        while game.get_board()[from_pos[1], from_pos[0]] == 1 - game.current_player_idx: from_pos = random.choice(BORDER)\n",
    "\n",
    "        possible_moves = [Move.TOP, Move.BOTTOM, Move.LEFT, Move.RIGHT]\n",
    "            \n",
    "        if from_pos[0] == 0: possible_moves.remove(Move.LEFT)\n",
    "        if from_pos[0] == 4: possible_moves.remove(Move.RIGHT)\n",
    "        if from_pos[1] == 0: possible_moves.remove(Move.TOP)\n",
    "        if from_pos[1] == 4: possible_moves.remove(Move.BOTTOM)\n",
    "        \n",
    "        move = random.choice(possible_moves)\n",
    "\n",
    "        return from_pos, move"
   ]
  },
  {
   "cell_type": "code",
   "execution_count": 59,
   "metadata": {},
   "outputs": [],
   "source": [
    "class ID_generator:\n",
    "    def __init__(self):\n",
    "        self.id = -1\n",
    "    def get_id(self):\n",
    "        self.id += 1\n",
    "        return self.id"
   ]
  },
  {
   "cell_type": "code",
   "execution_count": 60,
   "metadata": {},
   "outputs": [],
   "source": [
    "def rot(n_rot):\n",
    "    def rot_n(board): \n",
    "        return np.rot90(board, k= n_rot)\n",
    "    return rot_n\n",
    "\n",
    "def flip_rot(n_rot):\n",
    "    def flip_rot_n(board): \n",
    "        return np.rot90(np.fliplr(board), k= n_rot)\n",
    "    return flip_rot_n\n",
    "\n",
    "rot2 = rot(2)\n",
    "rot3 = rot(3)\n",
    "flip_rot1 = flip_rot(1)\n",
    "flip_rot2 = flip_rot(2)\n",
    "flip_rot3 = flip_rot(3)"
   ]
  },
  {
   "cell_type": "code",
   "execution_count": 61,
   "metadata": {},
   "outputs": [],
   "source": [
    "def sigmoid(x):\n",
    "    return 1 / (1 + np.exp(-x))"
   ]
  },
  {
   "cell_type": "code",
   "execution_count": 62,
   "metadata": {},
   "outputs": [],
   "source": [
    "# weight definition\n",
    "INPUT_SHAPE = (24, 5, 5)\n",
    "WEIGHT_SHAPE = np.array([\n",
    "    [\n",
    "        ('dense', 256),\n",
    "        ('dense', 128),\n",
    "        ('dense', 64),\n",
    "        ('dense', N_ALL),\n",
    "    ],\n",
    "    [\n",
    "        ('dense', 128),\n",
    "        ('dense', 64),\n",
    "        ('dense', N_ALL),\n",
    "    ],\n",
    "    [\n",
    "        ('dense', 128),\n",
    "        ('dense', 64),\n",
    "        ('dense', N_ALL),\n",
    "    ],\n",
    "], dtype= object)\n",
    "\n",
    "def multiply(x):\n",
    "    res = 1\n",
    "    for xx in x: res *= xx\n",
    "    return res\n",
    "\n",
    "class MyPlayer(Player):\n",
    "    def __init__(self, id, heritage= None) -> None:\n",
    "        super().__init__()\n",
    "\n",
    "        self.id = id\n",
    "\n",
    "        if heritage is None:\n",
    "            self.W = []\n",
    "            self.b = []\n",
    "\n",
    "            for branch in WEIGHT_SHAPE:\n",
    "                branch_w = []\n",
    "                branch_b = []\n",
    "                in_shape = INPUT_SHAPE\n",
    "\n",
    "                for layer in branch:\n",
    "                    #print(in_shape)\n",
    "                    #print(layer)\n",
    "\n",
    "                    if layer[0] == 'dense':\n",
    "                        in_shape = multiply(in_shape)\n",
    "                        branch_w.append(np.random.random(size= (in_shape, layer[1])))\n",
    "                        branch_b.append(np.random.random(size= (layer[1],)))\n",
    "                        in_shape = (layer[1],)\n",
    "\n",
    "                    elif layer[0] == 'conv':\n",
    "\n",
    "                        if len(in_shape) == 2:\n",
    "                            branch_w.append(np.random.random(size= layer[1]))\n",
    "                            branch_b.append(np.random.random(size= (layer[1][0],)))\n",
    "                            in_shape = (layer[1][0], in_shape[0] - layer[1][1] + 1, in_shape[1] - layer[1][2] + 1)\n",
    "\n",
    "                        else:\n",
    "                            branch_w.append(np.random.random(size= (layer[1][0] * in_shape[0], layer[1][1], layer[1][2])))\n",
    "                            branch_b.append(np.random.random(size= (layer[1][0] * in_shape[0],)))\n",
    "                            in_shape = (layer[1][0] * in_shape[0], in_shape[1] - layer[1][1] + 1, in_shape[2] - layer[1][2] + 1)\n",
    "\n",
    "                    else: print('error')\n",
    "\n",
    "                    #print(branch_w[-1].shape)\n",
    "                    #print(branch_b[-1].shape)\n",
    "                    #print('-')\n",
    "\n",
    "                    #print(in_shape)\n",
    "                #print('-----')\n",
    "\n",
    "                self.W.append(branch_w)\n",
    "                self.b.append(branch_b)\n",
    "\n",
    "            self.W = np.array(self.W, dtype= object)\n",
    "            self.b = np.array(self.b, dtype= object)\n",
    "\n",
    "        else:\n",
    "            self.W = heritage[0]\n",
    "            self.b = heritage[1]\n",
    "\n",
    "        self.fitness = 0\n",
    "        self.until_surrend = 100\n",
    "        self.epoch_before_death = 3\n",
    "\n",
    "    def get_id(self): return self.id\n",
    "    def reset_fitness(self) -> None: self.fitness = 0\n",
    "    def mod_fitness(self, mod) -> None: self.fitness += mod\n",
    "    def get_fitness(self): return self.fitness\n",
    "    def set_fitness(self, new_value) -> None: self.fitness = new_value\n",
    "    def get_weights(self): return self.W\n",
    "    def get_biases(self): return self.b\n",
    "    def prepare_to_surrend(self, amount= 100)-> None: self.until_surrend = amount\n",
    "    def get_death(self, bonus= None):\n",
    "        if bonus is not None: self.epoch_before_death = bonus + 1\n",
    "        self.epoch_before_death -= 1\n",
    "        return self.epoch_before_death\n",
    "    \n",
    "    def compute_move(self, X):\n",
    "        branch_outputs = []\n",
    "\n",
    "        for i_branch in range(len(self.W)):\n",
    "            layer_input = deepcopy(X)\n",
    "\n",
    "            for i_layer in range(len(self.W[i_branch])):\n",
    "                layer_info = WEIGHT_SHAPE[i_branch][i_layer]\n",
    "\n",
    "                if layer_info[0] == 'dense':\n",
    "                    layer_output = np.dot(layer_input.flatten(), self.W[i_branch][i_layer]) + self.b[i_branch][i_layer]\n",
    "                \n",
    "                elif layer_info[0] == 'conv':\n",
    "\n",
    "                    if len(layer_input.shape) == 2:\n",
    "                        layer_output = np.zeros((layer_info[1][0], layer_input.shape[0] - layer_info[1][1] + 1, layer_input.shape[1] - layer_info[1][2] + 1))\n",
    "                        for k in range(layer_output.shape[0]):\n",
    "                            for i in range(layer_output.shape[1]):\n",
    "                                for j in range(layer_output.shape[2]):\n",
    "                                    layer_output[k, i, j] = sum(sum(layer_input[i:i+layer_info[1][1], j:j+layer_info[1][2]] * self.W[i_branch][i_layer][k]))\n",
    "                    \n",
    "                    else:\n",
    "                        layer_output = np.zeros((layer_info[1][0] * layer_input.shape[0], layer_input.shape[1] - layer_info[1][1] + 1, layer_input.shape[2] - layer_info[1][2] + 1))\n",
    "                        for k_in in range(layer_input.shape[0]):\n",
    "                            for k in range(layer_info[1][0]):\n",
    "                                for i in range(layer_output.shape[1]):\n",
    "                                    for j in range(layer_output.shape[2]):\n",
    "                                        layer_output[k_in*layer_info[1][0]+k, i, j] = sum(sum(layer_input[k_in, i:i+layer_info[1][1], j:j+layer_info[1][2]] * self.W[i_branch][i_layer][k_in*layer_info[1][0]+k]))\n",
    "                \n",
    "                else: print('error')\n",
    "\n",
    "                layer_output = sigmoid(layer_output)\n",
    "\n",
    "                layer_input = layer_output\n",
    "                #print(f'{(i_branch, i_layer)} -> {layer_output.shape}')\n",
    "            \n",
    "            branch_outputs.append(layer_output)\n",
    "\n",
    "        output = np.sum(branch_outputs, axis= 0)\n",
    "        output = np.argmax(output)\n",
    "        \n",
    "        return output\n",
    "\n",
    "\n",
    "    def make_move(self, game: 'Game') -> tuple[tuple[int, int], Move]:\n",
    "\n",
    "        self.until_surrend -= 1\n",
    "        if self.until_surrend == 0:\n",
    "            #print('surrendering')\n",
    "            self.fitness -= 100\n",
    "            return (-1, -1), None\n",
    "        \n",
    "        ## provare a generare tre mappe dalla board, una per ogni [-1, 0, 1] con 1 se [-1, 0, 1] in tile e 0 se altre\n",
    "        #--------------------------------------\n",
    "\n",
    "        board = game.get_board()\n",
    "        X = np.zeros((3, board.shape[0], board.shape[1]))\n",
    "        X[0][board == -1] = 1\n",
    "        X[1][board == 0] = 1\n",
    "        X[2][board == 1] = 1\n",
    "\n",
    "        ######################################\n",
    "        \n",
    "        ## provare a generare una mappa per simmetria\n",
    "        #--------------------------------------\n",
    "\n",
    "        X2 = np.zeros((24, board.shape[0], board.shape[1]))\n",
    "        c = 0\n",
    "        for x in X:\n",
    "            X2[c] = x\n",
    "            c += 1\n",
    "            for sim in [np.rot90, rot2, rot3, np.fliplr, flip_rot1, flip_rot2, flip_rot3]:\n",
    "                X2[c] = sim(x)\n",
    "                c += 1\n",
    "        X = X2\n",
    "\n",
    "        ######################################\n",
    "        \n",
    "        # invert the board based on player_turn to better recognize enemies from allies\n",
    "        #--------------------------------------\n",
    "        \n",
    "        if game.current_player_idx == 1: pass\n",
    "        else:\n",
    "            tmp = deepcopy(X[1])\n",
    "            X[1] = deepcopy(X[2])\n",
    "            X[2] = tmp\n",
    "\n",
    "        #######################################\n",
    "\n",
    "        # compute move\n",
    "        #--------------------------------------\n",
    "\n",
    "        from_pos, move = ALL_MOVES[self.compute_move(X)]\n",
    "\n",
    "        #######################################\n",
    "\n",
    "        # random move if illegal move chosen with penalty\n",
    "        #--------------------------------------\n",
    "\n",
    "        if game.get_board()[from_pos[1], from_pos[0]] == 1 - game.current_player_idx:\n",
    "\n",
    "            #print('random used - penalty')\n",
    "            self.fitness -= 10\n",
    "\n",
    "            from_pos = random.choice(BORDER)\n",
    "            while game.get_board()[from_pos[1], from_pos[0]] == 1 - game.current_player_idx: from_pos = random.choice(BORDER)\n",
    "\n",
    "            possible_moves = [Move.TOP, Move.BOTTOM, Move.LEFT, Move.RIGHT]\n",
    "                \n",
    "            if from_pos[0] == 0: possible_moves.remove(Move.LEFT)\n",
    "            if from_pos[0] == 4: possible_moves.remove(Move.RIGHT)\n",
    "            if from_pos[1] == 0: possible_moves.remove(Move.TOP)\n",
    "            if from_pos[1] == 4: possible_moves.remove(Move.BOTTOM)\n",
    "            \n",
    "            move = random.choice(possible_moves)\n",
    "\n",
    "        #######################################\n",
    "            \n",
    "        # removing 1 to fitness for each move to force active play\n",
    "        #--------------------------------------\n",
    "        \n",
    "        self.fitness -= 1\n",
    "\n",
    "        #######################################\n",
    "        \n",
    "        return from_pos, move"
   ]
  },
  {
   "cell_type": "code",
   "execution_count": 63,
   "metadata": {},
   "outputs": [
    {
     "data": {
      "text/plain": [
       "((4, 0), <Move.LEFT: 2>)"
      ]
     },
     "execution_count": 63,
     "metadata": {},
     "output_type": "execute_result"
    }
   ],
   "source": [
    "id_gen = ID_generator()\n",
    "player = MyPlayer(id_gen.get_id())\n",
    "game = Game()\n",
    "player.make_move(game)"
   ]
  },
  {
   "cell_type": "code",
   "execution_count": 64,
   "metadata": {},
   "outputs": [],
   "source": [
    "N_TRIALS = 20\n",
    "\n",
    "## maybe N_TRIALS should depend on N_ALL\n",
    "\n",
    "def evaluate_population(population, fs= None, avg_player = None):\n",
    "\n",
    "    for p in tqdm(population):\n",
    "        \n",
    "        p.reset_fitness()\n",
    "\n",
    "        for _ in range(N_TRIALS):\n",
    "\n",
    "            if fs is None or fs == 'onlyfirst':\n",
    "                p.prepare_to_surrend()\n",
    "                p.mod_fitness(((1 - Game().play(p, RandomPlayer())) * 2 - 1) * 100)\n",
    "\n",
    "            if fs is None or fs == 'onlysecond':\n",
    "                p.prepare_to_surrend()\n",
    "                p.mod_fitness((Game().play(RandomPlayer(), p) * 2 - 1) * 100)\n",
    "\n",
    "    if avg_player is not None: evaluate_population_2(population, avg_player, fs= fs)\n",
    "\n",
    "def evaluate_population_2(population, avg_player, fs= None):\n",
    "\n",
    "    freeze_fitness = avg_player.get_fitness()\n",
    "\n",
    "    for p in population:\n",
    "\n",
    "        for _ in range(1):\n",
    "\n",
    "            if fs is None or fs == 'first':\n",
    "                p.prepare_to_surrend()\n",
    "                avg_player.prepare_to_surrend()\n",
    "                winner = Game().play(p, avg_player)\n",
    "                p.mod_fitness(((1 - winner) * 2 - 1) * 100)\n",
    "\n",
    "            if fs is None or fs == 'second':\n",
    "                p.prepare_to_surrend()\n",
    "                avg_player.prepare_to_surrend()\n",
    "                winner = Game().play(avg_player, p)\n",
    "                p.mod_fitness((winner * 2 - 1) * 100)\n",
    "    \n",
    "    avg_player.set_fitness(freeze_fitness)\n",
    "            "
   ]
  },
  {
   "cell_type": "code",
   "execution_count": 65,
   "metadata": {},
   "outputs": [],
   "source": [
    "def procreate_1(p1, p2, c1, c2, id):\n",
    "    \n",
    "    W1 = p1.get_weights()\n",
    "    b1 = p1.get_biases()\n",
    "    W2 = p2.get_weights()\n",
    "    b2 = p2.get_biases()\n",
    "\n",
    "    W3 = deepcopy(W1)\n",
    "    b3 = deepcopy(b1)\n",
    "\n",
    "    c = c1 / (c1 + c2)\n",
    "\n",
    "    for i in range(len(W1)):\n",
    "        for j in range(len(W1[i])):\n",
    "            if c < np.random.random():\n",
    "                W3[i][j] = W2[i][j]\n",
    "                b3[i][j] = b2[i][j]\n",
    "\n",
    "    return MyPlayer(id, heritage= (W3, b3))\n",
    "\n",
    "def procreate_2(p1, p2, c1, c2, id):\n",
    "    \n",
    "    W1 = p1.get_weights()\n",
    "    b1 = p1.get_biases()\n",
    "    W2 = p2.get_weights()\n",
    "    b2 = p2.get_biases()\n",
    "\n",
    "    W3 = deepcopy(W1)\n",
    "    b3 = deepcopy(b1)\n",
    "\n",
    "    c = c1 / (c1 + c2)\n",
    "\n",
    "    for i in range(len(W1)):\n",
    "        if c < np.random.random():\n",
    "            W3[i] = W2[i]\n",
    "            b3[i] = b2[i]\n",
    "\n",
    "    return MyPlayer(id, heritage= (W3, b3))\n",
    "\n",
    "def softmax_temp(x, t= 1):\n",
    "    e_x = np.exp(x / t)\n",
    "    return e_x / sum(e_x)\n",
    "\n",
    "def procreation(population, id_generator):\n",
    "        \n",
    "    mod_scores = softmax_temp(np.array([p.get_fitness() for p in population]), 1000)\n",
    "    \n",
    "    parents = []\n",
    "    for _ in range(15):\n",
    "        parents.append(np.random.choice([i for i in range(len(population))], size= (2,), replace= False, p= mod_scores))\n",
    "\n",
    "    childrens = []\n",
    "    for pair in parents:\n",
    "        pi = population[pair[0]]\n",
    "        pj = population[pair[1]]\n",
    "        mod_i = mod_scores[pair[0]]\n",
    "        mod_j = mod_scores[pair[1]]\n",
    "        \n",
    "        rand = np.random.random()\n",
    "        if 0.5 >= rand:\n",
    "            childrens.append(procreate_1(pi, pj, mod_i, mod_j, id_generator.get_id()))\n",
    "        else:\n",
    "            childrens.append(procreate_2(pi, pj, mod_i, mod_j, id_generator.get_id()))\n",
    "\n",
    "    return childrens"
   ]
  },
  {
   "cell_type": "code",
   "execution_count": 66,
   "metadata": {},
   "outputs": [],
   "source": [
    "P_MUTATION = 0.1\n",
    "MUTATION_STRENGTH = 0.01\n",
    "\n",
    "def mutate_1(p, id):\n",
    "\n",
    "    Wm = deepcopy(p.get_weights())\n",
    "    bm = deepcopy(p.get_biases())\n",
    "\n",
    "    for i in range(len(Wm)):\n",
    "        for j in range(len(Wm[i])):\n",
    "\n",
    "            for ii in range(Wm[i][j].shape[0]):\n",
    "                for jj in range(Wm[i][j].shape[1]):\n",
    "                    if P_MUTATION >= np.random.random():\n",
    "                        Wm[i][j][ii, jj] += np.random.normal(0, MUTATION_STRENGTH, size= Wm[i][j][ii, jj].shape)\n",
    "\n",
    "            for ii in range(bm[i][j].shape[0]):\n",
    "                if P_MUTATION >= np.random.random():\n",
    "                    bm[i][j][ii] += np.random.normal(0, MUTATION_STRENGTH, size= bm[i][j][ii].shape)\n",
    "\n",
    "    return MyPlayer(id, heritage= (Wm, bm))\n",
    "\n",
    "def mutate_2(p, id):\n",
    "\n",
    "    Wm = deepcopy(p.get_weights())\n",
    "    bm = deepcopy(p.get_biases())\n",
    "\n",
    "    for i in range(len(Wm)):\n",
    "        for j in range(len(Wm[i])):\n",
    "            if P_MUTATION >= np.random.random():\n",
    "                Wm[i][j] += np.random.normal(0, MUTATION_STRENGTH, size= Wm[i][j].shape)\n",
    "            if P_MUTATION >= np.random.random():\n",
    "                bm[i][j] += np.random.normal(0, MUTATION_STRENGTH, size= bm[i][j].shape)\n",
    "\n",
    "    return MyPlayer(id, heritage= (Wm, bm))\n",
    "\n",
    "def mutation(population, id_generator):\n",
    "\n",
    "    bases = np.random.choice([i for i in range(len(population))], size= (15,), replace= False)\n",
    "\n",
    "    mutants = []\n",
    "    for base in bases:\n",
    "        p = population[base]\n",
    "        rand = np.random.random()\n",
    "        if 0.5 >= rand:\n",
    "            mutants.append(mutate_1(p, id_generator.get_id()))\n",
    "        else:\n",
    "            mutants.append(mutate_2(p, id_generator.get_id()))\n",
    "\n",
    "    return mutants"
   ]
  },
  {
   "cell_type": "code",
   "execution_count": 67,
   "metadata": {},
   "outputs": [
    {
     "name": "stdout",
     "output_type": "stream",
     "text": [
      "------------------------------------\n",
      "epoch 0\n"
     ]
    },
    {
     "name": "stderr",
     "output_type": "stream",
     "text": [
      "100%|██████████| 100/100 [01:11<00:00,  1.40it/s]\n"
     ]
    },
    {
     "name": "stdout",
     "output_type": "stream",
     "text": [
      "[2605 2585 2573 2103 2053 2007 1831 1602 1580 1493]\n",
      "[25, 93, 99, 61, 75, 0, 51, 63, 77, 12]\n",
      "before: 100\n",
      "n_childrens: 15\n",
      "n_mutants: 15\n",
      "after: 130\n",
      "------------------------------------\n",
      "epoch 1\n"
     ]
    },
    {
     "name": "stderr",
     "output_type": "stream",
     "text": [
      "100%|██████████| 130/130 [01:28<00:00,  1.47it/s]\n"
     ]
    },
    {
     "name": "stdout",
     "output_type": "stream",
     "text": [
      "[3060 2918 2901 2877 2767 2700 2687 2629 2430 2390]\n",
      "[99, 74, 105, 110, 0, 108, 61, 75, 111, 100]\n",
      "before: 130\n",
      "n_childrens: 15\n",
      "n_mutants: 15\n",
      "after: 160\n",
      "------------------------------------\n",
      "epoch 2\n"
     ]
    },
    {
     "name": "stderr",
     "output_type": "stream",
     "text": [
      "100%|██████████| 160/160 [01:52<00:00,  1.42it/s]\n"
     ]
    },
    {
     "name": "stdout",
     "output_type": "stream",
     "text": [
      "[3265 2919 2884 2878 2843 2833 2793 2779 2726 2684]\n",
      "[75, 74, 140, 108, 100, 136, 6, 137, 111, 134]\n",
      "before: 111\n",
      "n_childrens: 15\n",
      "n_mutants: 15\n",
      "after: 141\n",
      "------------------------------------\n",
      "epoch 3\n"
     ]
    },
    {
     "name": "stderr",
     "output_type": "stream",
     "text": [
      "100%|██████████| 141/141 [01:20<00:00,  1.74it/s]\n"
     ]
    },
    {
     "name": "stdout",
     "output_type": "stream",
     "text": [
      "[3183 3126 3053 2975 2937 2868 2793 2784 2780 2757]\n",
      "[102, 107, 167, 141, 109, 108, 0, 99, 137, 136]\n",
      "before: 129\n",
      "n_childrens: 15\n",
      "n_mutants: 15\n",
      "after: 159\n",
      "------------------------------------\n",
      "epoch 4\n"
     ]
    },
    {
     "name": "stderr",
     "output_type": "stream",
     "text": [
      "100%|██████████| 159/159 [01:20<00:00,  1.97it/s]\n"
     ]
    },
    {
     "name": "stdout",
     "output_type": "stream",
     "text": [
      "[3252 3092 3092 3075 2950 2927 2866 2849 2802 2680]\n",
      "[133, 165, 141, 109, 191, 93, 108, 135, 134, 110]\n",
      "before: 126\n",
      "n_childrens: 15\n",
      "n_mutants: 15\n",
      "after: 156\n",
      "------------------------------------\n",
      "epoch 5\n"
     ]
    },
    {
     "name": "stderr",
     "output_type": "stream",
     "text": [
      "100%|██████████| 156/156 [01:10<00:00,  2.22it/s]\n"
     ]
    },
    {
     "name": "stdout",
     "output_type": "stream",
     "text": [
      "[3376 3359 3313 3212 2962 2961 2959 2934 2927 2921]\n",
      "[131, 107, 110, 132, 245, 160, 229, 187, 174, 114]\n",
      "before: 125\n",
      "n_childrens: 15\n",
      "n_mutants: 15\n",
      "after: 155\n",
      "------------------------------------\n",
      "epoch 6\n"
     ]
    },
    {
     "name": "stderr",
     "output_type": "stream",
     "text": [
      "100%|██████████| 155/155 [01:02<00:00,  2.47it/s]\n"
     ]
    },
    {
     "name": "stdout",
     "output_type": "stream",
     "text": [
      "[3445 3429 3314 3253 3210 3207 3147 3089 3059 3008]\n",
      "[141, 202, 0, 250, 217, 191, 152, 195, 267, 93]\n",
      "before: 128\n",
      "n_childrens: 15\n",
      "n_mutants: 15\n",
      "after: 158\n",
      "------------------------------------\n",
      "epoch 7\n"
     ]
    },
    {
     "name": "stderr",
     "output_type": "stream",
     "text": [
      "100%|██████████| 158/158 [01:05<00:00,  2.41it/s]\n"
     ]
    },
    {
     "name": "stdout",
     "output_type": "stream",
     "text": [
      "[3518 3504 3355 3309 3293 3120 3108 3097 3067 3031]\n",
      "[167, 164, 93, 271, 109, 272, 110, 202, 204, 248]\n",
      "before: 136\n",
      "n_childrens: 15\n",
      "n_mutants: 15\n",
      "after: 166\n",
      "------------------------------------\n",
      "epoch 8\n"
     ]
    },
    {
     "name": "stderr",
     "output_type": "stream",
     "text": [
      "100%|██████████| 166/166 [01:02<00:00,  2.65it/s]\n"
     ]
    },
    {
     "name": "stdout",
     "output_type": "stream",
     "text": [
      "[3401 3356 3248 3239 3235 3186 3182 3181 3133 3133]\n",
      "[167, 196, 248, 232, 327, 99, 318, 207, 145, 279]\n",
      "before: 149\n",
      "n_childrens: 15\n",
      "n_mutants: 15\n",
      "after: 179\n",
      "------------------------------------\n",
      "epoch 9\n"
     ]
    },
    {
     "name": "stderr",
     "output_type": "stream",
     "text": [
      "100%|██████████| 179/179 [01:01<00:00,  2.91it/s]\n"
     ]
    },
    {
     "name": "stdout",
     "output_type": "stream",
     "text": [
      "[3629 3551 3410 3356 3264 3215 3212 3196 3178 3177]\n",
      "[160, 342, 164, 181, 107, 99, 110, 230, 222, 141]\n",
      "before: 156\n",
      "n_childrens: 15\n",
      "n_mutants: 15\n",
      "after: 186\n",
      "------------------------------------\n",
      "epoch 10\n"
     ]
    },
    {
     "name": "stderr",
     "output_type": "stream",
     "text": [
      "100%|██████████| 186/186 [01:01<00:00,  3.01it/s]\n"
     ]
    },
    {
     "name": "stdout",
     "output_type": "stream",
     "text": [
      "[3575 3418 3399 3365 3364 3306 3299 3288 3262 3231]\n",
      "[310, 145, 357, 359, 167, 111, 333, 371, 346, 207]\n",
      "before: 161\n",
      "n_childrens: 15\n",
      "n_mutants: 15\n",
      "after: 191\n",
      "------------------------------------\n",
      "epoch 11\n"
     ]
    },
    {
     "name": "stderr",
     "output_type": "stream",
     "text": [
      "100%|██████████| 191/191 [01:04<00:00,  2.94it/s]\n"
     ]
    },
    {
     "name": "stdout",
     "output_type": "stream",
     "text": [
      "[3417 3333 3323 3317 3313 3264 3213 3175 3174 3151]\n",
      "[429, 372, 359, 111, 167, 375, 290, 381, 184, 398]\n",
      "before: 163\n",
      "n_childrens: 15\n",
      "n_mutants: 15\n",
      "after: 193\n",
      "------------------------------------\n",
      "epoch 12\n"
     ]
    },
    {
     "name": "stderr",
     "output_type": "stream",
     "text": [
      "100%|██████████| 193/193 [01:01<00:00,  3.14it/s]\n"
     ]
    },
    {
     "name": "stdout",
     "output_type": "stream",
     "text": [
      "[3534 3400 3348 3288 3269 3259 3138 3136 3112 3055]\n",
      "[363, 369, 141, 389, 387, 365, 308, 348, 132, 311]\n",
      "before: 163\n",
      "n_childrens: 15\n",
      "n_mutants: 15\n",
      "after: 193\n",
      "------------------------------------\n",
      "epoch 13\n"
     ]
    },
    {
     "name": "stderr",
     "output_type": "stream",
     "text": [
      "100%|██████████| 193/193 [00:54<00:00,  3.57it/s]\n"
     ]
    },
    {
     "name": "stdout",
     "output_type": "stream",
     "text": [
      "[3384 3366 3331 3188 3187 3186 3180 3137 3129 3128]\n",
      "[487, 381, 278, 454, 333, 367, 359, 443, 486, 311]\n",
      "before: 165\n",
      "n_childrens: 15\n",
      "n_mutants: 15\n",
      "after: 195\n",
      "------------------------------------\n",
      "epoch 14\n"
     ]
    },
    {
     "name": "stderr",
     "output_type": "stream",
     "text": [
      "100%|██████████| 195/195 [00:49<00:00,  3.90it/s]\n"
     ]
    },
    {
     "name": "stdout",
     "output_type": "stream",
     "text": [
      "[3506 3400 3391 3356 3331 3324 3304 3238 3227 3201]\n",
      "[239, 513, 478, 518, 331, 479, 329, 504, 356, 333]\n",
      "before: 168\n",
      "n_childrens: 15\n",
      "n_mutants: 15\n",
      "after: 198\n",
      "------------------------------------\n",
      "epoch 15\n"
     ]
    },
    {
     "name": "stderr",
     "output_type": "stream",
     "text": [
      "100%|██████████| 198/198 [00:51<00:00,  3.82it/s]\n"
     ]
    },
    {
     "name": "stdout",
     "output_type": "stream",
     "text": [
      "[3660 3438 3395 3349 3305 3302 3294 3235 3201 3201]\n",
      "[357, 367, 378, 462, 369, 486, 268, 276, 499, 412]\n",
      "before: 174\n",
      "n_childrens: 15\n",
      "n_mutants: 15\n",
      "after: 204\n",
      "------------------------------------\n",
      "epoch 16\n"
     ]
    },
    {
     "name": "stderr",
     "output_type": "stream",
     "text": [
      "100%|██████████| 204/204 [00:53<00:00,  3.78it/s]\n"
     ]
    },
    {
     "name": "stdout",
     "output_type": "stream",
     "text": [
      "[3474 3335 3335 3307 3288 3268 3201 3189 3142 3091]\n",
      "[538, 93, 561, 276, 511, 550, 400, 507, 548, 570]\n",
      "before: 172\n",
      "n_childrens: 15\n",
      "n_mutants: 15\n",
      "after: 202\n",
      "------------------------------------\n",
      "epoch 17\n"
     ]
    },
    {
     "name": "stderr",
     "output_type": "stream",
     "text": [
      "100%|██████████| 202/202 [00:53<00:00,  3.74it/s]\n"
     ]
    },
    {
     "name": "stdout",
     "output_type": "stream",
     "text": [
      "[3606 3566 3453 3440 3391 3390 3363 3340 3237 3214]\n",
      "[561, 540, 462, 551, 602, 361, 556, 316, 519, 595]\n",
      "before: 170\n",
      "n_childrens: 15\n",
      "n_mutants: 15\n",
      "after: 200\n",
      "------------------------------------\n",
      "epoch 18\n"
     ]
    },
    {
     "name": "stderr",
     "output_type": "stream",
     "text": [
      "100%|██████████| 200/200 [00:52<00:00,  3.83it/s]\n"
     ]
    },
    {
     "name": "stdout",
     "output_type": "stream",
     "text": [
      "[3397 3375 3352 3231 3219 3176 3171 3158 3117 3095]\n",
      "[341, 549, 152, 300, 499, 346, 592, 479, 460, 608]\n",
      "before: 173\n",
      "n_childrens: 15\n",
      "n_mutants: 15\n",
      "after: 203\n",
      "------------------------------------\n",
      "epoch 19\n"
     ]
    },
    {
     "name": "stderr",
     "output_type": "stream",
     "text": [
      "100%|██████████| 203/203 [00:54<00:00,  3.69it/s]\n"
     ]
    },
    {
     "name": "stdout",
     "output_type": "stream",
     "text": [
      "[3438 3424 3388 3337 3273 3257 3152 3128 3100 3078]\n",
      "[504, 578, 93, 631, 574, 668, 602, 514, 311, 470]\n",
      "before: 174\n",
      "n_childrens: 15\n",
      "n_mutants: 15\n",
      "after: 204\n",
      "------------------------------------\n",
      "epoch 20\n"
     ]
    },
    {
     "name": "stderr",
     "output_type": "stream",
     "text": [
      "100%|██████████| 204/204 [00:57<00:00,  3.58it/s]\n"
     ]
    },
    {
     "name": "stdout",
     "output_type": "stream",
     "text": [
      "[3527 3393 3327 3319 3281 3260 3259 3213 3147 3142]\n",
      "[570, 160, 667, 596, 504, 617, 487, 523, 308, 648]\n",
      "before: 176\n",
      "n_childrens: 15\n",
      "n_mutants: 15\n",
      "after: 206\n",
      "------------------------------------\n",
      "epoch 21\n"
     ]
    },
    {
     "name": "stderr",
     "output_type": "stream",
     "text": [
      "100%|██████████| 206/206 [00:58<00:00,  3.53it/s]\n"
     ]
    },
    {
     "name": "stdout",
     "output_type": "stream",
     "text": [
      "[3706 3539 3510 3417 3258 3240 3232 3199 3160 3156]\n",
      "[630, 538, 504, 716, 346, 659, 475, 281, 539, 576]\n",
      "before: 175\n",
      "n_childrens: 15\n",
      "n_mutants: 15\n",
      "after: 205\n",
      "------------------------------------\n",
      "epoch 22\n"
     ]
    },
    {
     "name": "stderr",
     "output_type": "stream",
     "text": [
      "100%|██████████| 205/205 [00:57<00:00,  3.57it/s]\n"
     ]
    },
    {
     "name": "stdout",
     "output_type": "stream",
     "text": [
      "[3513 3459 3432 3419 3290 3282 3238 3190 3183 3167]\n",
      "[619, 167, 639, 648, 561, 753, 538, 625, 679, 633]\n",
      "before: 181\n",
      "n_childrens: 15\n",
      "n_mutants: 15\n",
      "after: 211\n",
      "------------------------------------\n",
      "epoch 23\n"
     ]
    },
    {
     "name": "stderr",
     "output_type": "stream",
     "text": [
      "100%|██████████| 211/211 [01:00<00:00,  3.51it/s]\n"
     ]
    },
    {
     "name": "stdout",
     "output_type": "stream",
     "text": [
      "[3599 3425 3402 3341 3315 3270 3262 3238 3213 3154]\n",
      "[592, 686, 722, 732, 674, 311, 643, 700, 475, 783]\n",
      "before: 175\n",
      "n_childrens: 15\n",
      "n_mutants: 15\n",
      "after: 205\n",
      "------------------------------------\n",
      "epoch 24\n"
     ]
    },
    {
     "name": "stderr",
     "output_type": "stream",
     "text": [
      "100%|██████████| 205/205 [00:58<00:00,  3.50it/s]\n"
     ]
    },
    {
     "name": "stdout",
     "output_type": "stream",
     "text": [
      "[3415 3394 3344 3233 3210 3208 3204 3203 3159 3142]\n",
      "[799, 181, 802, 715, 700, 677, 749, 495, 819, 596]\n",
      "before: 176\n",
      "n_childrens: 15\n",
      "n_mutants: 15\n",
      "after: 206\n",
      "------------------------------------\n",
      "epoch 25\n"
     ]
    },
    {
     "name": "stderr",
     "output_type": "stream",
     "text": [
      "100%|██████████| 206/206 [00:54<00:00,  3.79it/s]\n"
     ]
    },
    {
     "name": "stdout",
     "output_type": "stream",
     "text": [
      "[3373 3361 3348 3317 3302 3280 3261 3247 3215 3189]\n",
      "[431, 659, 821, 729, 611, 840, 789, 479, 781, 776]\n",
      "before: 174\n",
      "n_childrens: 15\n",
      "n_mutants: 15\n",
      "after: 204\n",
      "------------------------------------\n",
      "epoch 26\n"
     ]
    },
    {
     "name": "stderr",
     "output_type": "stream",
     "text": [
      "100%|██████████| 204/204 [00:52<00:00,  3.86it/s]\n"
     ]
    },
    {
     "name": "stdout",
     "output_type": "stream",
     "text": [
      "[3583 3571 3533 3465 3389 3291 3265 3265 3262 3249]\n",
      "[420, 855, 550, 778, 846, 463, 719, 611, 816, 578]\n",
      "before: 177\n",
      "n_childrens: 15\n",
      "n_mutants: 15\n",
      "after: 207\n",
      "------------------------------------\n",
      "epoch 27\n"
     ]
    },
    {
     "name": "stderr",
     "output_type": "stream",
     "text": [
      "100%|██████████| 207/207 [00:54<00:00,  3.77it/s]\n"
     ]
    },
    {
     "name": "stdout",
     "output_type": "stream",
     "text": [
      "[3473 3394 3372 3332 3301 3233 3197 3196 3167 3164]\n",
      "[505, 897, 781, 802, 631, 828, 592, 778, 906, 846]\n",
      "before: 177\n",
      "n_childrens: 15\n",
      "n_mutants: 15\n",
      "after: 207\n",
      "------------------------------------\n",
      "epoch 28\n"
     ]
    },
    {
     "name": "stderr",
     "output_type": "stream",
     "text": [
      "100%|██████████| 207/207 [00:55<00:00,  3.74it/s]\n"
     ]
    },
    {
     "name": "stdout",
     "output_type": "stream",
     "text": [
      "[3499 3464 3411 3404 3355 3352 3351 3345 3315 3277]\n",
      "[715, 757, 677, 519, 855, 701, 908, 659, 611, 830]\n",
      "before: 181\n",
      "n_childrens: 15\n",
      "n_mutants: 15\n",
      "after: 211\n",
      "------------------------------------\n",
      "epoch 29\n"
     ]
    },
    {
     "name": "stderr",
     "output_type": "stream",
     "text": [
      "100%|██████████| 211/211 [00:55<00:00,  3.82it/s]\n"
     ]
    },
    {
     "name": "stdout",
     "output_type": "stream",
     "text": [
      "[3564 3517 3396 3389 3374 3288 3262 3261 3258 3238]\n",
      "[899, 420, 953, 959, 806, 573, 950, 906, 799, 793]\n",
      "before: 183\n",
      "n_childrens: 15\n",
      "n_mutants: 15\n",
      "after: 213\n",
      "------------------------------------\n",
      "epoch 30\n"
     ]
    },
    {
     "name": "stderr",
     "output_type": "stream",
     "text": [
      "100%|██████████| 213/213 [00:57<00:00,  3.73it/s]\n"
     ]
    },
    {
     "name": "stdout",
     "output_type": "stream",
     "text": [
      "[3437 3396 3381 3377 3309 3270 3228 3147 3130 3122]\n",
      "[965, 719, 986, 793, 852, 976, 974, 821, 857, 959]\n",
      "before: 177\n",
      "n_childrens: 15\n",
      "n_mutants: 15\n",
      "after: 207\n",
      "------------------------------------\n",
      "epoch 31\n"
     ]
    },
    {
     "name": "stderr",
     "output_type": "stream",
     "text": [
      "100%|██████████| 207/207 [00:56<00:00,  3.67it/s]\n"
     ]
    },
    {
     "name": "stdout",
     "output_type": "stream",
     "text": [
      "[3523 3462 3373 3331 3290 3255 3243 3211 3199 3182]\n",
      "[960, 950, 817, 816, 971, 1028, 729, 799, 881, 843]\n",
      "before: 181\n",
      "n_childrens: 15\n",
      "n_mutants: 15\n",
      "after: 211\n",
      "------------------------------------\n",
      "epoch 32\n"
     ]
    },
    {
     "name": "stderr",
     "output_type": "stream",
     "text": [
      "100%|██████████| 211/211 [00:58<00:00,  3.59it/s]\n"
     ]
    },
    {
     "name": "stdout",
     "output_type": "stream",
     "text": [
      "[3477 3460 3454 3296 3295 3294 3221 3183 3126 3124]\n",
      "[492, 881, 431, 981, 1046, 918, 1002, 1025, 1057, 592]\n",
      "before: 175\n",
      "n_childrens: 15\n",
      "n_mutants: 15\n",
      "after: 205\n",
      "------------------------------------\n",
      "epoch 33\n"
     ]
    },
    {
     "name": "stderr",
     "output_type": "stream",
     "text": [
      "100%|██████████| 205/205 [00:59<00:00,  3.43it/s]\n"
     ]
    },
    {
     "name": "stdout",
     "output_type": "stream",
     "text": [
      "[3621 3535 3471 3392 3264 3240 3237 3231 3231 3214]\n",
      "[1080, 1053, 929, 504, 432, 677, 948, 909, 1016, 976]\n",
      "before: 178\n",
      "n_childrens: 15\n",
      "n_mutants: 15\n",
      "after: 208\n",
      "------------------------------------\n",
      "epoch 34\n"
     ]
    },
    {
     "name": "stderr",
     "output_type": "stream",
     "text": [
      "100%|██████████| 208/208 [00:57<00:00,  3.61it/s]\n"
     ]
    },
    {
     "name": "stdout",
     "output_type": "stream",
     "text": [
      "[3558 3467 3456 3382 3376 3368 3276 3255 3229 3209]\n",
      "[949, 1000, 933, 1019, 1118, 1107, 914, 475, 1105, 293]\n",
      "before: 173\n",
      "n_childrens: 15\n",
      "n_mutants: 15\n",
      "after: 203\n",
      "------------------------------------\n",
      "epoch 35\n"
     ]
    },
    {
     "name": "stderr",
     "output_type": "stream",
     "text": [
      "100%|██████████| 203/203 [00:56<00:00,  3.57it/s]\n"
     ]
    },
    {
     "name": "stdout",
     "output_type": "stream",
     "text": [
      "[3639 3438 3393 3367 3358 3357 3338 3314 3222 3221]\n",
      "[793, 1027, 1007, 1090, 906, 998, 573, 1136, 1100, 1077]\n",
      "before: 174\n",
      "n_childrens: 15\n",
      "n_mutants: 15\n",
      "after: 204\n",
      "------------------------------------\n",
      "epoch 36\n"
     ]
    },
    {
     "name": "stderr",
     "output_type": "stream",
     "text": [
      "100%|██████████| 204/204 [00:53<00:00,  3.83it/s]\n"
     ]
    },
    {
     "name": "stdout",
     "output_type": "stream",
     "text": [
      "[3465 3419 3353 3258 3251 3248 3234 3217 3210 3197]\n",
      "[719, 720, 1081, 492, 949, 1068, 1111, 1096, 1142, 1023]\n",
      "before: 174\n",
      "n_childrens: 15\n",
      "n_mutants: 15\n",
      "after: 204\n",
      "------------------------------------\n",
      "epoch 37\n"
     ]
    },
    {
     "name": "stderr",
     "output_type": "stream",
     "text": [
      "100%|██████████| 204/204 [00:56<00:00,  3.61it/s]\n"
     ]
    },
    {
     "name": "stdout",
     "output_type": "stream",
     "text": [
      "[3547 3373 3336 3281 3280 3237 3224 3190 3187 3148]\n",
      "[910, 1182, 1044, 1016, 1045, 701, 922, 1110, 1080, 971]\n",
      "before: 173\n",
      "n_childrens: 15\n",
      "n_mutants: 15\n",
      "after: 203\n",
      "------------------------------------\n",
      "epoch 38\n"
     ]
    },
    {
     "name": "stderr",
     "output_type": "stream",
     "text": [
      "100%|██████████| 203/203 [01:01<00:00,  3.31it/s]\n"
     ]
    },
    {
     "name": "stdout",
     "output_type": "stream",
     "text": [
      "[3453 3409 3398 3306 3281 3275 3195 3179 3179 3129]\n",
      "[1007, 949, 974, 1070, 1169, 1234, 1155, 1107, 1188, 906]\n",
      "before: 170\n",
      "n_childrens: 15\n",
      "n_mutants: 15\n",
      "after: 200\n",
      "------------------------------------\n",
      "epoch 39\n"
     ]
    },
    {
     "name": "stderr",
     "output_type": "stream",
     "text": [
      "100%|██████████| 200/200 [00:56<00:00,  3.55it/s]\n"
     ]
    },
    {
     "name": "stdout",
     "output_type": "stream",
     "text": [
      "[3520 3390 3381 3376 3312 3173 3163 3146 3136 3133]\n",
      "[1189, 1254, 1016, 1207, 1094, 1175, 943, 1233, 1058, 1090]\n",
      "before: 171\n",
      "n_childrens: 15\n",
      "n_mutants: 15\n",
      "after: 201\n",
      "------------------------------------\n",
      "epoch 40\n"
     ]
    },
    {
     "name": "stderr",
     "output_type": "stream",
     "text": [
      "100%|██████████| 201/201 [01:03<00:00,  3.16it/s]\n"
     ]
    },
    {
     "name": "stdout",
     "output_type": "stream",
     "text": [
      "[3411 3389 3375 3371 3284 3247 3234 3228 3216 3208]\n",
      "[1149, 1246, 1136, 1261, 883, 1239, 933, 720, 1247, 1080]\n",
      "before: 173\n",
      "n_childrens: 15\n",
      "n_mutants: 15\n",
      "after: 203\n",
      "------------------------------------\n",
      "epoch 41\n"
     ]
    },
    {
     "name": "stderr",
     "output_type": "stream",
     "text": [
      "100%|██████████| 203/203 [01:05<00:00,  3.09it/s]\n"
     ]
    },
    {
     "name": "stdout",
     "output_type": "stream",
     "text": [
      "[3409 3359 3308 3245 3197 3183 3146 3142 3098 3095]\n",
      "[1155, 1302, 1045, 1276, 1298, 492, 1175, 1206, 938, 1074]\n",
      "before: 178\n",
      "n_childrens: 15\n",
      "n_mutants: 15\n",
      "after: 208\n",
      "------------------------------------\n",
      "epoch 42\n"
     ]
    },
    {
     "name": "stderr",
     "output_type": "stream",
     "text": [
      "100%|██████████| 208/208 [01:05<00:00,  3.15it/s]\n"
     ]
    },
    {
     "name": "stdout",
     "output_type": "stream",
     "text": [
      "[3454 3451 3435 3401 3368 3332 3327 3322 3319 3306]\n",
      "[574, 1291, 1189, 1346, 293, 1000, 1347, 1080, 420, 1342]\n",
      "before: 176\n",
      "n_childrens: 15\n",
      "n_mutants: 15\n",
      "after: 206\n",
      "------------------------------------\n",
      "epoch 43\n"
     ]
    },
    {
     "name": "stderr",
     "output_type": "stream",
     "text": [
      "100%|██████████| 206/206 [01:07<00:00,  3.05it/s]\n"
     ]
    },
    {
     "name": "stdout",
     "output_type": "stream",
     "text": [
      "[3622 3515 3334 3312 3198 3196 3164 3141 3141 3100]\n",
      "[1361, 1389, 1364, 950, 1306, 1016, 814, 1118, 1216, 1265]\n",
      "before: 181\n",
      "n_childrens: 15\n",
      "n_mutants: 15\n",
      "after: 211\n",
      "------------------------------------\n",
      "epoch 44\n"
     ]
    },
    {
     "name": "stderr",
     "output_type": "stream",
     "text": [
      "100%|██████████| 211/211 [01:06<00:00,  3.18it/s]\n"
     ]
    },
    {
     "name": "stdout",
     "output_type": "stream",
     "text": [
      "[3528 3502 3486 3404 3378 3288 3266 3261 3254 3202]\n",
      "[1348, 1370, 1265, 1298, 1327, 1374, 1291, 1262, 1303, 1375]\n",
      "before: 176\n",
      "n_childrens: 15\n",
      "n_mutants: 15\n",
      "after: 206\n",
      "------------------------------------\n",
      "epoch 45\n"
     ]
    },
    {
     "name": "stderr",
     "output_type": "stream",
     "text": [
      "100%|██████████| 206/206 [01:09<00:00,  2.98it/s]\n"
     ]
    },
    {
     "name": "stdout",
     "output_type": "stream",
     "text": [
      "[3492 3479 3379 3263 3224 3208 3202 3189 3165 3134]\n",
      "[1364, 1315, 574, 1265, 1303, 1332, 1410, 1292, 1388, 1298]\n",
      "before: 174\n",
      "n_childrens: 15\n",
      "n_mutants: 15\n",
      "after: 204\n",
      "------------------------------------\n",
      "epoch 46\n"
     ]
    },
    {
     "name": "stderr",
     "output_type": "stream",
     "text": [
      "100%|██████████| 204/204 [01:08<00:00,  2.97it/s]\n"
     ]
    },
    {
     "name": "stdout",
     "output_type": "stream",
     "text": [
      "[3470 3418 3346 3263 3250 3225 3223 3213 3208 3192]\n",
      "[1367, 1346, 1102, 1361, 1403, 998, 1468, 1362, 1373, 1312]\n",
      "before: 173\n",
      "n_childrens: 15\n",
      "n_mutants: 15\n",
      "after: 203\n",
      "------------------------------------\n",
      "epoch 47\n"
     ]
    },
    {
     "name": "stderr",
     "output_type": "stream",
     "text": [
      "100%|██████████| 203/203 [01:07<00:00,  2.99it/s]\n"
     ]
    },
    {
     "name": "stdout",
     "output_type": "stream",
     "text": [
      "[3408 3299 3293 3240 3201 3199 3178 3176 3174 3146]\n",
      "[1452, 1254, 1506, 1419, 1332, 1389, 1444, 1467, 1367, 1494]\n",
      "before: 169\n",
      "n_childrens: 15\n",
      "n_mutants: 15\n",
      "after: 199\n",
      "------------------------------------\n",
      "epoch 48\n"
     ]
    },
    {
     "name": "stderr",
     "output_type": "stream",
     "text": [
      "100%|██████████| 199/199 [01:00<00:00,  3.30it/s]\n"
     ]
    },
    {
     "name": "stdout",
     "output_type": "stream",
     "text": [
      "[3580 3516 3460 3361 3239 3144 3142 3110 3092 3077]\n",
      "[1333, 1262, 1415, 1508, 1463, 1358, 492, 1511, 1499, 1493]\n",
      "before: 173\n",
      "n_childrens: 15\n",
      "n_mutants: 15\n",
      "after: 203\n",
      "------------------------------------\n",
      "epoch 49\n"
     ]
    },
    {
     "name": "stderr",
     "output_type": "stream",
     "text": [
      "100%|██████████| 203/203 [01:06<00:00,  3.07it/s]\n"
     ]
    },
    {
     "name": "stdout",
     "output_type": "stream",
     "text": [
      "[3392 3385 3355 3247 3235 3234 3232 3206 3175 3143]\n",
      "[1503, 1254, 1270, 1463, 1508, 954, 1467, 1498, 1496, 1403]\n",
      "before: 178\n",
      "n_childrens: 15\n",
      "n_mutants: 15\n",
      "after: 208\n",
      "------------------------------------\n",
      "epoch 50\n"
     ]
    },
    {
     "name": "stderr",
     "output_type": "stream",
     "text": [
      "100%|██████████| 208/208 [01:07<00:00,  3.09it/s]\n"
     ]
    },
    {
     "name": "stdout",
     "output_type": "stream",
     "text": [
      "[3460 3330 3280 3241 3197 3173 3159 3134 3126 3105]\n",
      "[1571, 1597, 1521, 1590, 1558, 1341, 1522, 420, 1567, 1325]\n",
      "before: 177\n",
      "n_childrens: 15\n",
      "n_mutants: 15\n",
      "after: 207\n",
      "------------------------------------\n",
      "epoch 51\n"
     ]
    },
    {
     "name": "stderr",
     "output_type": "stream",
     "text": [
      "100%|██████████| 207/207 [01:05<00:00,  3.16it/s]\n"
     ]
    },
    {
     "name": "stdout",
     "output_type": "stream",
     "text": [
      "[3548 3462 3396 3358 3333 3332 3321 3316 3316 3284]\n",
      "[1557, 1561, 1577, 1499, 1427, 1608, 1565, 1591, 1254, 1521]\n",
      "before: 175\n",
      "n_childrens: 15\n",
      "n_mutants: 15\n",
      "after: 205\n",
      "------------------------------------\n",
      "epoch 52\n"
     ]
    },
    {
     "name": "stderr",
     "output_type": "stream",
     "text": [
      "100%|██████████| 205/205 [01:07<00:00,  3.06it/s]\n"
     ]
    },
    {
     "name": "stdout",
     "output_type": "stream",
     "text": [
      "[3407 3342 3331 3328 3276 3274 3240 3159 3073 3055]\n",
      "[1380, 1644, 1591, 1654, 1565, 1348, 1527, 1367, 1558, 1254]\n",
      "before: 179\n",
      "n_childrens: 15\n",
      "n_mutants: 15\n",
      "after: 209\n",
      "------------------------------------\n",
      "epoch 53\n"
     ]
    },
    {
     "name": "stderr",
     "output_type": "stream",
     "text": [
      "100%|██████████| 209/209 [01:06<00:00,  3.16it/s]\n"
     ]
    },
    {
     "name": "stdout",
     "output_type": "stream",
     "text": [
      "[3644 3491 3432 3428 3312 3307 3275 3259 3246 3245]\n",
      "[1435, 1272, 1628, 1223, 1680, 1506, 1564, 1466, 1654, 971]\n",
      "before: 180\n",
      "n_childrens: 15\n",
      "n_mutants: 15\n",
      "after: 210\n",
      "------------------------------------\n",
      "epoch 54\n"
     ]
    },
    {
     "name": "stderr",
     "output_type": "stream",
     "text": [
      "100%|██████████| 210/210 [01:00<00:00,  3.48it/s]\n"
     ]
    },
    {
     "name": "stdout",
     "output_type": "stream",
     "text": [
      "[3695 3473 3436 3349 3324 3308 3286 3247 3140 3120]\n",
      "[1395, 1598, 1592, 1628, 1678, 1419, 1157, 1341, 1657, 1645]\n",
      "before: 173\n",
      "n_childrens: 15\n",
      "n_mutants: 15\n",
      "after: 203\n",
      "------------------------------------\n",
      "epoch 55\n"
     ]
    },
    {
     "name": "stderr",
     "output_type": "stream",
     "text": [
      "100%|██████████| 203/203 [00:56<00:00,  3.62it/s]\n"
     ]
    },
    {
     "name": "stdout",
     "output_type": "stream",
     "text": [
      "[3518 3480 3369 3271 3254 3242 3231 3231 3220 3191]\n",
      "[1415, 1598, 1745, 1696, 1149, 1565, 492, 1587, 1740, 1674]\n",
      "before: 176\n",
      "n_childrens: 15\n",
      "n_mutants: 15\n",
      "after: 206\n",
      "------------------------------------\n",
      "epoch 56\n"
     ]
    },
    {
     "name": "stderr",
     "output_type": "stream",
     "text": [
      "100%|██████████| 206/206 [00:56<00:00,  3.62it/s]\n"
     ]
    },
    {
     "name": "stdout",
     "output_type": "stream",
     "text": [
      "[3630 3616 3598 3574 3438 3423 3327 3288 3279 3258]\n",
      "[1729, 1768, 1463, 1367, 1733, 1683, 1738, 1716, 1645, 1558]\n",
      "before: 174\n",
      "n_childrens: 15\n",
      "n_mutants: 15\n",
      "after: 204\n",
      "------------------------------------\n",
      "epoch 57\n"
     ]
    },
    {
     "name": "stderr",
     "output_type": "stream",
     "text": [
      "100%|██████████| 204/204 [00:54<00:00,  3.76it/s]\n"
     ]
    },
    {
     "name": "stdout",
     "output_type": "stream",
     "text": [
      "[3584 3510 3414 3369 3314 3276 3266 3257 3213 3201]\n",
      "[1662, 1736, 1767, 1725, 1801, 1661, 1708, 1763, 1367, 1587]\n",
      "before: 181\n",
      "n_childrens: 15\n",
      "n_mutants: 15\n",
      "after: 211\n",
      "------------------------------------\n",
      "epoch 58\n"
     ]
    },
    {
     "name": "stderr",
     "output_type": "stream",
     "text": [
      "100%|██████████| 211/211 [00:54<00:00,  3.84it/s]\n"
     ]
    },
    {
     "name": "stdout",
     "output_type": "stream",
     "text": [
      "[3618 3477 3389 3362 3337 3334 3328 3304 3290 3272]\n",
      "[1837, 1558, 1820, 1202, 1592, 1529, 1756, 1660, 1620, 1787]\n",
      "before: 182\n",
      "n_childrens: 15\n",
      "n_mutants: 15\n",
      "after: 212\n",
      "------------------------------------\n",
      "epoch 59\n"
     ]
    },
    {
     "name": "stderr",
     "output_type": "stream",
     "text": [
      "100%|██████████| 212/212 [00:55<00:00,  3.82it/s]\n"
     ]
    },
    {
     "name": "stdout",
     "output_type": "stream",
     "text": [
      "[3685 3429 3328 3319 3278 3219 3206 3153 3146 3128]\n",
      "[1812, 1859, 1846, 1770, 1830, 1716, 897, 1804, 1677, 1845]\n",
      "before: 175\n",
      "n_childrens: 15\n",
      "n_mutants: 15\n",
      "after: 205\n",
      "------------------------------------\n",
      "epoch 60\n"
     ]
    },
    {
     "name": "stderr",
     "output_type": "stream",
     "text": [
      "100%|██████████| 205/205 [00:54<00:00,  3.79it/s]\n"
     ]
    },
    {
     "name": "stdout",
     "output_type": "stream",
     "text": [
      "[3373 3292 3282 3206 3160 3153 3148 3119 3102 3064]\n",
      "[1833, 1272, 1856, 1826, 1526, 1844, 1527, 1853, 1850, 1830]\n",
      "before: 183\n",
      "n_childrens: 15\n",
      "n_mutants: 15\n",
      "after: 213\n",
      "------------------------------------\n",
      "epoch 61\n"
     ]
    },
    {
     "name": "stderr",
     "output_type": "stream",
     "text": [
      "100%|██████████| 213/213 [00:56<00:00,  3.75it/s]\n"
     ]
    },
    {
     "name": "stdout",
     "output_type": "stream",
     "text": [
      "[3384 3253 3219 3196 3174 3146 3132 3125 3123 3104]\n",
      "[1419, 1683, 1834, 1721, 1928, 1870, 1743, 1663, 1852, 1378]\n",
      "before: 181\n",
      "n_childrens: 15\n",
      "n_mutants: 15\n",
      "after: 211\n",
      "------------------------------------\n",
      "epoch 62\n"
     ]
    },
    {
     "name": "stderr",
     "output_type": "stream",
     "text": [
      "100%|██████████| 211/211 [00:58<00:00,  3.64it/s]\n"
     ]
    },
    {
     "name": "stdout",
     "output_type": "stream",
     "text": [
      "[3487 3353 3330 3326 3314 3202 3200 3111 3082 3076]\n",
      "[1387, 1919, 1740, 1675, 1921, 1926, 1771, 1613, 1712, 1910]\n",
      "before: 174\n",
      "n_childrens: 15\n",
      "n_mutants: 15\n",
      "after: 204\n",
      "------------------------------------\n",
      "epoch 63\n"
     ]
    },
    {
     "name": "stderr",
     "output_type": "stream",
     "text": [
      "100%|██████████| 204/204 [00:55<00:00,  3.67it/s]\n"
     ]
    },
    {
     "name": "stdout",
     "output_type": "stream",
     "text": [
      "[3647 3576 3555 3484 3446 3234 3176 3110 3095 3093]\n",
      "[1947, 1723, 1518, 1970, 1854, 1771, 1803, 1589, 1924, 1768]\n",
      "before: 175\n",
      "n_childrens: 15\n",
      "n_mutants: 15\n",
      "after: 205\n",
      "------------------------------------\n",
      "epoch 64\n"
     ]
    },
    {
     "name": "stderr",
     "output_type": "stream",
     "text": [
      "100%|██████████| 205/205 [00:55<00:00,  3.68it/s]\n"
     ]
    },
    {
     "name": "stdout",
     "output_type": "stream",
     "text": [
      "[3610 3599 3471 3447 3430 3412 3339 3216 3190 3184]\n",
      "[1854, 1813, 1448, 1613, 1812, 1977, 1850, 1675, 1947, 1938]\n",
      "before: 174\n",
      "n_childrens: 15\n",
      "n_mutants: 15\n",
      "after: 204\n",
      "------------------------------------\n",
      "epoch 65\n"
     ]
    },
    {
     "name": "stderr",
     "output_type": "stream",
     "text": [
      "100%|██████████| 204/204 [00:53<00:00,  3.83it/s]\n"
     ]
    },
    {
     "name": "stdout",
     "output_type": "stream",
     "text": [
      "[3634 3465 3353 3333 3314 3250 3220 3218 3210 3143]\n",
      "[1920, 2044, 2028, 1699, 1978, 1975, 1915, 1589, 1928, 2031]\n",
      "before: 170\n",
      "n_childrens: 15\n",
      "n_mutants: 15\n",
      "after: 200\n",
      "------------------------------------\n",
      "epoch 66\n"
     ]
    },
    {
     "name": "stderr",
     "output_type": "stream",
     "text": [
      "100%|██████████| 200/200 [00:51<00:00,  3.91it/s]\n"
     ]
    },
    {
     "name": "stdout",
     "output_type": "stream",
     "text": [
      "[3397 3383 3381 3286 3271 3271 3254 3213 3194 3187]\n",
      "[1989, 1978, 1763, 2007, 2004, 1919, 2051, 1979, 1988, 1893]\n",
      "before: 174\n",
      "n_childrens: 15\n",
      "n_mutants: 15\n",
      "after: 204\n",
      "------------------------------------\n",
      "epoch 67\n"
     ]
    },
    {
     "name": "stderr",
     "output_type": "stream",
     "text": [
      "100%|██████████| 204/204 [00:51<00:00,  3.95it/s]\n"
     ]
    },
    {
     "name": "stdout",
     "output_type": "stream",
     "text": [
      "[3632 3563 3482 3375 3312 3297 3241 3151 3129 3126]\n",
      "[1852, 2025, 1620, 2015, 1857, 2107, 1917, 1992, 2082, 2043]\n",
      "before: 176\n",
      "n_childrens: 15\n",
      "n_mutants: 15\n",
      "after: 206\n",
      "------------------------------------\n",
      "epoch 68\n"
     ]
    },
    {
     "name": "stderr",
     "output_type": "stream",
     "text": [
      "100%|██████████| 206/206 [00:54<00:00,  3.77it/s]\n"
     ]
    },
    {
     "name": "stdout",
     "output_type": "stream",
     "text": [
      "[3476 3388 3371 3250 3138 3135 3119 3111 3101 3072]\n",
      "[2105, 2082, 2013, 2057, 2100, 2118, 1887, 1879, 1938, 2067]\n",
      "before: 178\n",
      "n_childrens: 15\n",
      "n_mutants: 15\n",
      "after: 208\n",
      "------------------------------------\n",
      "epoch 69\n"
     ]
    },
    {
     "name": "stderr",
     "output_type": "stream",
     "text": [
      "100%|██████████| 208/208 [00:54<00:00,  3.83it/s]\n"
     ]
    },
    {
     "name": "stdout",
     "output_type": "stream",
     "text": [
      "[3566 3530 3254 3234 3228 3224 3205 3199 3178 3175]\n",
      "[1830, 2028, 1979, 1983, 2071, 2083, 1740, 1763, 1923, 1876]\n",
      "before: 184\n",
      "n_childrens: 15\n",
      "n_mutants: 15\n",
      "after: 214\n",
      "------------------------------------\n",
      "epoch 70\n"
     ]
    },
    {
     "name": "stderr",
     "output_type": "stream",
     "text": [
      "100%|██████████| 214/214 [00:55<00:00,  3.84it/s]\n"
     ]
    },
    {
     "name": "stdout",
     "output_type": "stream",
     "text": [
      "[3722 3459 3457 3365 3326 3296 3275 3254 3238 3180]\n",
      "[2044, 2091, 2066, 2196, 1989, 2077, 2191, 2166, 2182, 1663]\n",
      "before: 177\n",
      "n_childrens: 15\n",
      "n_mutants: 15\n",
      "after: 207\n",
      "------------------------------------\n",
      "epoch 71\n"
     ]
    },
    {
     "name": "stderr",
     "output_type": "stream",
     "text": [
      "100%|██████████| 207/207 [00:53<00:00,  3.87it/s]\n"
     ]
    },
    {
     "name": "stdout",
     "output_type": "stream",
     "text": [
      "[3524 3426 3310 3245 3220 3180 3175 3150 3123 3122]\n",
      "[1378, 1699, 2079, 1620, 2186, 2170, 2206, 2046, 2155, 1978]\n",
      "before: 170\n",
      "n_childrens: 15\n",
      "n_mutants: 15\n",
      "after: 200\n",
      "------------------------------------\n",
      "epoch 72\n"
     ]
    },
    {
     "name": "stderr",
     "output_type": "stream",
     "text": [
      "100%|██████████| 200/200 [00:53<00:00,  3.73it/s]\n"
     ]
    },
    {
     "name": "stdout",
     "output_type": "stream",
     "text": [
      "[3457 3442 3406 3355 3345 3285 3262 3241 3190 3181]\n",
      "[2095, 2184, 1987, 2186, 2245, 2091, 2071, 1923, 2247, 2044]\n",
      "before: 177\n",
      "n_childrens: 15\n",
      "n_mutants: 15\n",
      "after: 207\n",
      "------------------------------------\n",
      "epoch 73\n"
     ]
    },
    {
     "name": "stderr",
     "output_type": "stream",
     "text": [
      "100%|██████████| 207/207 [01:00<00:00,  3.42it/s]\n"
     ]
    },
    {
     "name": "stdout",
     "output_type": "stream",
     "text": [
      "[3715 3658 3608 3559 3420 3387 3356 3298 3255 3213]\n",
      "[2282, 2216, 2204, 1938, 1699, 2184, 1853, 2227, 2271, 2242]\n",
      "before: 181\n",
      "n_childrens: 15\n",
      "n_mutants: 15\n",
      "after: 211\n",
      "------------------------------------\n",
      "epoch 74\n"
     ]
    },
    {
     "name": "stderr",
     "output_type": "stream",
     "text": [
      "100%|██████████| 211/211 [00:58<00:00,  3.59it/s]\n"
     ]
    },
    {
     "name": "stdout",
     "output_type": "stream",
     "text": [
      "[3668 3499 3402 3395 3242 3190 3173 3170 3158 3157]\n",
      "[2067, 2133, 2304, 2245, 2179, 2236, 2242, 1699, 2307, 2168]\n",
      "before: 177\n",
      "n_childrens: 15\n",
      "n_mutants: 15\n",
      "after: 207\n",
      "------------------------------------\n",
      "epoch 75\n"
     ]
    },
    {
     "name": "stderr",
     "output_type": "stream",
     "text": [
      "100%|██████████| 207/207 [00:57<00:00,  3.62it/s]\n"
     ]
    },
    {
     "name": "stdout",
     "output_type": "stream",
     "text": [
      "[3587 3561 3454 3418 3412 3340 3307 3255 3246 3189]\n",
      "[2135, 2328, 2046, 2188, 2142, 2215, 2088, 2208, 2291, 2066]\n",
      "before: 179\n",
      "n_childrens: 15\n",
      "n_mutants: 15\n",
      "after: 209\n",
      "------------------------------------\n",
      "epoch 76\n"
     ]
    },
    {
     "name": "stderr",
     "output_type": "stream",
     "text": [
      "100%|██████████| 209/209 [00:55<00:00,  3.74it/s]\n"
     ]
    },
    {
     "name": "stdout",
     "output_type": "stream",
     "text": [
      "[3436 3319 3230 3221 3178 3155 3143 3129 3121 3073]\n",
      "[2330, 2357, 2325, 2179, 2341, 2088, 2217, 2009, 2308, 2222]\n",
      "before: 175\n",
      "n_childrens: 15\n",
      "n_mutants: 15\n",
      "after: 205\n",
      "------------------------------------\n",
      "epoch 77\n"
     ]
    },
    {
     "name": "stderr",
     "output_type": "stream",
     "text": [
      "100%|██████████| 205/205 [00:54<00:00,  3.73it/s]\n"
     ]
    },
    {
     "name": "stdout",
     "output_type": "stream",
     "text": [
      "[3512 3446 3418 3298 3264 3259 3243 3207 3204 3199]\n",
      "[1979, 2198, 2212, 2046, 2405, 2331, 2408, 2364, 2226, 2404]\n",
      "before: 174\n",
      "n_childrens: 15\n",
      "n_mutants: 15\n",
      "after: 204\n",
      "------------------------------------\n",
      "epoch 78\n"
     ]
    },
    {
     "name": "stderr",
     "output_type": "stream",
     "text": [
      "100%|██████████| 204/204 [00:53<00:00,  3.84it/s]\n"
     ]
    },
    {
     "name": "stdout",
     "output_type": "stream",
     "text": [
      "[3495 3459 3432 3428 3424 3406 3365 3321 3253 3249]\n",
      "[1923, 2370, 2249, 2276, 2197, 2308, 2325, 1823, 2088, 2438]\n",
      "before: 168\n",
      "n_childrens: 15\n",
      "n_mutants: 15\n",
      "after: 198\n",
      "------------------------------------\n",
      "epoch 79\n"
     ]
    },
    {
     "name": "stderr",
     "output_type": "stream",
     "text": [
      "100%|██████████| 198/198 [00:58<00:00,  3.36it/s]\n"
     ]
    },
    {
     "name": "stdout",
     "output_type": "stream",
     "text": [
      "[3574 3508 3437 3428 3410 3398 3274 3258 3231 3167]\n",
      "[2217, 2135, 2436, 2407, 2290, 2176, 2067, 2372, 2283, 2191]\n",
      "before: 172\n",
      "n_childrens: 15\n",
      "n_mutants: 15\n",
      "after: 202\n",
      "------------------------------------\n",
      "epoch 80\n"
     ]
    },
    {
     "name": "stderr",
     "output_type": "stream",
     "text": [
      "100%|██████████| 202/202 [00:51<00:00,  3.93it/s]\n"
     ]
    },
    {
     "name": "stdout",
     "output_type": "stream",
     "text": [
      "[3548 3483 3411 3387 3345 3339 3291 3280 3280 3258]\n",
      "[2381, 2299, 2424, 1378, 2331, 2327, 1782, 2404, 2447, 1853]\n",
      "before: 170\n",
      "n_childrens: 15\n",
      "n_mutants: 15\n",
      "after: 200\n",
      "------------------------------------\n",
      "epoch 81\n"
     ]
    },
    {
     "name": "stderr",
     "output_type": "stream",
     "text": [
      "100%|██████████| 200/200 [00:48<00:00,  4.11it/s]\n"
     ]
    },
    {
     "name": "stdout",
     "output_type": "stream",
     "text": [
      "[3449 3318 3273 3251 3239 3238 3177 3172 3160 3148]\n",
      "[2482, 2191, 1853, 2450, 2446, 2079, 2494, 2467, 2367, 2438]\n",
      "before: 180\n",
      "n_childrens: 15\n",
      "n_mutants: 15\n",
      "after: 210\n",
      "------------------------------------\n",
      "epoch 82\n"
     ]
    },
    {
     "name": "stderr",
     "output_type": "stream",
     "text": [
      "100%|██████████| 210/210 [00:52<00:00,  3.99it/s]\n"
     ]
    },
    {
     "name": "stdout",
     "output_type": "stream",
     "text": [
      "[3618 3572 3439 3414 3263 3241 3212 3207 3164 3133]\n",
      "[2217, 2272, 2480, 2417, 2514, 2398, 2517, 2427, 2551, 2492]\n",
      "before: 177\n",
      "n_childrens: 15\n",
      "n_mutants: 15\n",
      "after: 207\n",
      "------------------------------------\n",
      "epoch 83\n"
     ]
    },
    {
     "name": "stderr",
     "output_type": "stream",
     "text": [
      "100%|██████████| 207/207 [00:53<00:00,  3.88it/s]\n"
     ]
    },
    {
     "name": "stdout",
     "output_type": "stream",
     "text": [
      "[3573 3480 3477 3343 3338 3296 3280 3208 3176 3174]\n",
      "[2555, 2526, 2521, 2437, 2489, 2046, 2512, 2403, 2205, 2401]\n",
      "before: 172\n",
      "n_childrens: 15\n",
      "n_mutants: 15\n",
      "after: 202\n",
      "------------------------------------\n",
      "epoch 84\n"
     ]
    },
    {
     "name": "stderr",
     "output_type": "stream",
     "text": [
      "100%|██████████| 202/202 [00:53<00:00,  3.77it/s]\n"
     ]
    },
    {
     "name": "stdout",
     "output_type": "stream",
     "text": [
      "[3680 3414 3386 3332 3300 3286 3240 3231 3218 3213]\n",
      "[2550, 2171, 2546, 2467, 2587, 2492, 2088, 2015, 2522, 2447]\n",
      "before: 176\n",
      "n_childrens: 15\n",
      "n_mutants: 15\n",
      "after: 206\n",
      "------------------------------------\n",
      "epoch 85\n"
     ]
    },
    {
     "name": "stderr",
     "output_type": "stream",
     "text": [
      "100%|██████████| 206/206 [00:55<00:00,  3.71it/s]\n"
     ]
    },
    {
     "name": "stdout",
     "output_type": "stream",
     "text": [
      "[3623 3474 3435 3345 3330 3296 3292 3233 3221 3212]\n",
      "[2563, 2272, 2142, 2586, 2421, 2581, 2425, 2621, 2585, 1853]\n",
      "before: 176\n",
      "n_childrens: 15\n",
      "n_mutants: 15\n",
      "after: 206\n",
      "------------------------------------\n",
      "epoch 86\n"
     ]
    },
    {
     "name": "stderr",
     "output_type": "stream",
     "text": [
      "100%|██████████| 206/206 [00:53<00:00,  3.84it/s]\n"
     ]
    },
    {
     "name": "stdout",
     "output_type": "stream",
     "text": [
      "[3667 3364 3350 3253 3212 3138 3128 3119 3111 3101]\n",
      "[2489, 2197, 2517, 2667, 2375, 2403, 2514, 2611, 2619, 2587]\n",
      "before: 178\n",
      "n_childrens: 15\n",
      "n_mutants: 15\n",
      "after: 208\n",
      "------------------------------------\n",
      "epoch 87\n"
     ]
    },
    {
     "name": "stderr",
     "output_type": "stream",
     "text": [
      "100%|██████████| 208/208 [00:52<00:00,  3.93it/s]\n"
     ]
    },
    {
     "name": "stdout",
     "output_type": "stream",
     "text": [
      "[3662 3597 3493 3422 3366 3357 3292 3190 3154 3100]\n",
      "[2668, 2546, 2447, 2617, 2635, 2326, 2404, 2620, 2467, 1899]\n",
      "before: 181\n",
      "n_childrens: 15\n",
      "n_mutants: 15\n",
      "after: 211\n",
      "------------------------------------\n",
      "epoch 88\n"
     ]
    },
    {
     "name": "stderr",
     "output_type": "stream",
     "text": [
      "100%|██████████| 211/211 [00:52<00:00,  4.00it/s]\n"
     ]
    },
    {
     "name": "stdout",
     "output_type": "stream",
     "text": [
      "[3425 3229 3216 3191 3177 3162 3152 3150 3123 3119]\n",
      "[2670, 2633, 2363, 2171, 2692, 2482, 2325, 2726, 2693, 2719]\n",
      "before: 176\n",
      "n_childrens: 15\n",
      "n_mutants: 15\n",
      "after: 206\n",
      "------------------------------------\n",
      "epoch 89\n"
     ]
    },
    {
     "name": "stderr",
     "output_type": "stream",
     "text": [
      "100%|██████████| 206/206 [00:52<00:00,  3.94it/s]\n"
     ]
    },
    {
     "name": "stdout",
     "output_type": "stream",
     "text": [
      "[3514 3349 3337 3307 3267 3257 3231 3197 3197 3168]\n",
      "[2703, 2688, 2591, 2573, 2711, 2706, 2469, 2567, 2690, 2015]\n",
      "before: 183\n",
      "n_childrens: 15\n",
      "n_mutants: 15\n",
      "after: 213\n",
      "------------------------------------\n",
      "epoch 90\n"
     ]
    },
    {
     "name": "stderr",
     "output_type": "stream",
     "text": [
      "100%|██████████| 213/213 [00:55<00:00,  3.87it/s]\n"
     ]
    },
    {
     "name": "stdout",
     "output_type": "stream",
     "text": [
      "[3619 3614 3599 3554 3380 3332 3299 3294 3242 3237]\n",
      "[2631, 2531, 2796, 2671, 2768, 2726, 2789, 2617, 2715, 2742]\n",
      "before: 178\n",
      "n_childrens: 15\n",
      "n_mutants: 15\n",
      "after: 208\n",
      "------------------------------------\n",
      "epoch 91\n"
     ]
    },
    {
     "name": "stderr",
     "output_type": "stream",
     "text": [
      "100%|██████████| 208/208 [00:53<00:00,  3.86it/s]\n"
     ]
    },
    {
     "name": "stdout",
     "output_type": "stream",
     "text": [
      "[3584 3561 3441 3383 3320 3289 3286 3241 3207 3200]\n",
      "[2666, 2824, 2544, 2664, 2813, 2790, 2631, 2493, 2803, 2363]\n",
      "before: 181\n",
      "n_childrens: 15\n",
      "n_mutants: 15\n",
      "after: 211\n",
      "------------------------------------\n",
      "epoch 92\n"
     ]
    },
    {
     "name": "stderr",
     "output_type": "stream",
     "text": [
      "100%|██████████| 211/211 [00:54<00:00,  3.87it/s]\n"
     ]
    },
    {
     "name": "stdout",
     "output_type": "stream",
     "text": [
      "[3597 3341 3333 3329 3281 3239 3231 3225 3207 3023]\n",
      "[2709, 2830, 2829, 2631, 2591, 2853, 2492, 2585, 2593, 2778]\n",
      "before: 178\n",
      "n_childrens: 15\n",
      "n_mutants: 15\n",
      "after: 208\n",
      "------------------------------------\n",
      "epoch 93\n"
     ]
    },
    {
     "name": "stderr",
     "output_type": "stream",
     "text": [
      "100%|██████████| 208/208 [00:50<00:00,  4.13it/s]\n"
     ]
    },
    {
     "name": "stdout",
     "output_type": "stream",
     "text": [
      "[3385 3357 3304 3267 3240 3237 3236 3225 3176 3136]\n",
      "[2493, 2476, 2822, 2882, 2631, 2619, 2664, 2797, 2544, 2363]\n",
      "before: 173\n",
      "n_childrens: 15\n",
      "n_mutants: 15\n",
      "after: 203\n",
      "------------------------------------\n",
      "epoch 94\n"
     ]
    },
    {
     "name": "stderr",
     "output_type": "stream",
     "text": [
      "100%|██████████| 203/203 [00:49<00:00,  4.09it/s]\n"
     ]
    },
    {
     "name": "stdout",
     "output_type": "stream",
     "text": [
      "[3599 3388 3358 3356 3348 3338 3318 3280 3270 3259]\n",
      "[2666, 2799, 2845, 2171, 2847, 2585, 2907, 2862, 2854, 2716]\n",
      "before: 176\n",
      "n_childrens: 15\n",
      "n_mutants: 15\n",
      "after: 206\n",
      "------------------------------------\n",
      "epoch 95\n"
     ]
    },
    {
     "name": "stderr",
     "output_type": "stream",
     "text": [
      "100%|██████████| 206/206 [00:50<00:00,  4.11it/s]\n"
     ]
    },
    {
     "name": "stdout",
     "output_type": "stream",
     "text": [
      "[3500 3466 3314 3308 3300 3298 3271 3269 3262 3262]\n",
      "[2476, 2620, 2693, 2806, 2907, 2722, 2912, 2631, 2202, 2906]\n",
      "before: 178\n",
      "n_childrens: 15\n",
      "n_mutants: 15\n",
      "after: 208\n",
      "------------------------------------\n",
      "epoch 96\n"
     ]
    },
    {
     "name": "stderr",
     "output_type": "stream",
     "text": [
      "100%|██████████| 208/208 [00:52<00:00,  3.98it/s]\n"
     ]
    },
    {
     "name": "stdout",
     "output_type": "stream",
     "text": [
      "[3612 3579 3521 3518 3332 3299 3273 3248 3204 3195]\n",
      "[1899, 2812, 2848, 2493, 2746, 2942, 2802, 2692, 2841, 2813]\n",
      "before: 179\n",
      "n_childrens: 15\n",
      "n_mutants: 15\n",
      "after: 209\n",
      "------------------------------------\n",
      "epoch 97\n"
     ]
    },
    {
     "name": "stderr",
     "output_type": "stream",
     "text": [
      "100%|██████████| 209/209 [00:51<00:00,  4.06it/s]\n"
     ]
    },
    {
     "name": "stdout",
     "output_type": "stream",
     "text": [
      "[3625 3449 3352 3320 3320 3262 3243 3240 3228 3224]\n",
      "[2837, 2506, 2957, 2579, 2986, 2936, 2520, 2992, 2892, 2875]\n",
      "before: 178\n",
      "n_childrens: 15\n",
      "n_mutants: 15\n",
      "after: 208\n",
      "------------------------------------\n",
      "epoch 98\n"
     ]
    },
    {
     "name": "stderr",
     "output_type": "stream",
     "text": [
      "100%|██████████| 208/208 [00:54<00:00,  3.84it/s]\n"
     ]
    },
    {
     "name": "stdout",
     "output_type": "stream",
     "text": [
      "[3382 3344 3340 3303 3274 3266 3243 3210 3187 3159]\n",
      "[2848, 2948, 3038, 2633, 2978, 3027, 2769, 3021, 2708, 2929]\n",
      "before: 183\n",
      "n_childrens: 15\n",
      "n_mutants: 15\n",
      "after: 213\n",
      "------------------------------------\n",
      "epoch 99\n"
     ]
    },
    {
     "name": "stderr",
     "output_type": "stream",
     "text": [
      "100%|██████████| 213/213 [00:57<00:00,  3.72it/s]\n"
     ]
    },
    {
     "name": "stdout",
     "output_type": "stream",
     "text": [
      "[3486 3422 3357 3286 3275 3186 3186 3162 3146 3144]\n",
      "[2635, 2970, 2476, 2950, 2936, 2649, 3057, 2916, 2838, 3006]\n",
      "before: 184\n",
      "n_childrens: 15\n",
      "n_mutants: 15\n",
      "after: 214\n"
     ]
    }
   ],
   "source": [
    "MAX_EPOCH = 100\n",
    "MAX_POPULATION = 100\n",
    "\n",
    "id_generator = ID_generator()\n",
    "\n",
    "population = [MyPlayer(id_generator.get_id()) for _ in range(MAX_POPULATION)]\n",
    "\n",
    "ids = []\n",
    "ps = []\n",
    "tot_scores = []\n",
    "times = []\n",
    "\n",
    "for epoch in range(MAX_EPOCH):\n",
    "\n",
    "    print(f'------------------------------------\\nepoch {epoch}')\n",
    "\n",
    "    evaluate_population(population)\n",
    "    #evaluate_population(population, avg_player= population[len(population) // 2])\n",
    "    scores = np.array([p.get_fitness() for p in population])\n",
    "\n",
    "    idx_sort = np.argsort(scores)[::-1]\n",
    "    scores = scores[idx_sort]\n",
    "    population = [population[i] for i in idx_sort]\n",
    "\n",
    "    print(scores[:10])\n",
    "    print([p.get_id() for p in population[:10]])\n",
    "\n",
    "    # compute avg ranking\n",
    "    #--------------------------------------\n",
    "\n",
    "    for p, s in zip(population, scores):\n",
    "        p_id = p.get_id()\n",
    "\n",
    "        if p_id in ids:\n",
    "            idx = np.argwhere(np.array(ids) == p_id)[0][0]\n",
    "            tot_scores[idx] += s\n",
    "            times[idx] += 1\n",
    "\n",
    "        else:\n",
    "            ids.append(p_id)\n",
    "            ps.append(p)\n",
    "            tot_scores.append(s)\n",
    "            times.append(1)\n",
    "\n",
    "    #######################################\n",
    "\n",
    "    # provare ad implementare morte dopo tot che non si è tra i primi tot\n",
    "    #--------------------------------------\n",
    "\n",
    "    to_death = []\n",
    "    for i, p in enumerate(population):\n",
    "        bonus_epochs = 4 if i < MAX_POPULATION / 2 else None\n",
    "        if p.get_death(bonus_epochs) == 0: to_death.append(p)\n",
    "    for p in to_death: population.remove(p)\n",
    "\n",
    "    #######################################\n",
    "\n",
    "    ## magari aumentare e diminuire aumento popolazione in base a grandezza popolazione\n",
    "\n",
    "    print(f'before: {len(population)}')\n",
    "\n",
    "    ## procreazione (probabilita dipendente da fitness)\n",
    "\n",
    "    childrens = procreation(population, id_generator)\n",
    "    print(f'n_childrens: {len(childrens)}')\n",
    "\n",
    "    ## mutazioni (tante ma random su individui random)\n",
    "\n",
    "    mutants = mutation(population, id_generator)\n",
    "    print(f'n_mutants: {len(mutants)}')\n",
    "\n",
    "    for child in childrens: population.append(child)\n",
    "    for mutant in mutants: population.append(mutant)\n",
    "\n",
    "    print(f'after: {len(population)}')\n",
    "\n",
    "    #"
   ]
  },
  {
   "cell_type": "code",
   "execution_count": 73,
   "metadata": {},
   "outputs": [],
   "source": [
    "ids_2 = ids.copy()\n",
    "ps_2 = ps.copy()\n",
    "tot_scores_2 = tot_scores.copy()\n",
    "times_2 = times.copy()"
   ]
  },
  {
   "cell_type": "code",
   "execution_count": 74,
   "metadata": {},
   "outputs": [],
   "source": [
    "ids = ids_2.copy()\n",
    "ps = ps_2.copy()\n",
    "tot_scores = tot_scores_2.copy()\n",
    "times = times_2.copy()"
   ]
  },
  {
   "cell_type": "code",
   "execution_count": 75,
   "metadata": {},
   "outputs": [
    {
     "name": "stdout",
     "output_type": "stream",
     "text": [
      "2635\n",
      "[3038, 3057, 3069, 3044, 2978, 3027, 2936, 3062, 2956, 2948]\n",
      "[2, 1, 1, 1, 4, 2, 5, 1, 4, 5]\n",
      "[3188.   3186.   3041.   2955.   2954.5  2927.5  2858.6  2850.   2814.25\n",
      " 2811.6 ]\n"
     ]
    },
    {
     "data": {
      "image/png": "[encoded data removed]",
      "text/plain": [
       "<Figure size 640x480 with 1 Axes>"
      ]
     },
     "metadata": {},
     "output_type": "display_data"
    }
   ],
   "source": [
    "avg_scores = np.array(tot_scores) / np.array(times)\n",
    "\n",
    "idx_sort = np.argsort(avg_scores)[::-1]\n",
    "\n",
    "idx_sort = idx_sort[:MAX_POPULATION]\n",
    "\n",
    "ids = [ids[i] for i in idx_sort]\n",
    "ps = [ps[i] for i in idx_sort]\n",
    "p_best = ps[0]\n",
    "tot_scores = [tot_scores[i] for i in idx_sort]\n",
    "times = [times[i] for i in idx_sort]\n",
    "avg_scores = avg_scores[idx_sort]\n",
    "\n",
    "print(population[0].get_id())\n",
    "print(ids[:10])\n",
    "print(times[:10])\n",
    "print(avg_scores[:10])\n",
    "\n",
    "idx_sort = np.argsort(ids)[::-1]\n",
    "\n",
    "ids = [ids[i] for i in idx_sort]\n",
    "ps = [ps[i] for i in idx_sort]\n",
    "p_last = ps[0]\n",
    "tot_scores = [tot_scores[i] for i in idx_sort]\n",
    "times = [times[i] for i in idx_sort]\n",
    "avg_scores = avg_scores[idx_sort]\n",
    "\n",
    "import matplotlib.pyplot as plt\n",
    "\n",
    "x = ids\n",
    "y = avg_scores\n",
    "plt.plot(x, y)\n",
    "plt.grid()\n",
    "plt.show()\n",
    "\n"
   ]
  },
  {
   "cell_type": "code",
   "execution_count": 76,
   "metadata": {},
   "outputs": [],
   "source": [
    "#ThePlayer = population[0]\n",
    "ThePlayer = p_best\n",
    "#ThePlayer = p_last"
   ]
  },
  {
   "cell_type": "code",
   "execution_count": 77,
   "metadata": {},
   "outputs": [
    {
     "name": "stderr",
     "output_type": "stream",
     "text": [
      "100%|██████████| 1000/1000 [00:12<00:00, 83.31it/s]"
     ]
    },
    {
     "name": "stdout",
     "output_type": "stream",
     "text": [
      "Player won 906 / 1000 as first\n",
      "Player won 901 / 1000 as second\n"
     ]
    },
    {
     "name": "stderr",
     "output_type": "stream",
     "text": [
      "\n"
     ]
    }
   ],
   "source": [
    "wins_first = 0\n",
    "wins_second = 0\n",
    "n_trials = 1000\n",
    "\n",
    "player1 = ThePlayer\n",
    "player2 = RandomPlayer()\n",
    "\n",
    "for _ in tqdm(range(n_trials)):\n",
    "    g = Game()\n",
    "\n",
    "    player1.prepare_to_surrend(500)\n",
    "    winner = g.play(player1, player2)\n",
    "\n",
    "    if winner == 0: wins_first += 1\n",
    "\n",
    "    g = Game()\n",
    "\n",
    "    player1.prepare_to_surrend(500)\n",
    "    winner = g.play(player2, player1)\n",
    "\n",
    "    if winner == 1: wins_second += 1\n",
    "\n",
    "print(f\"Player won {wins_first} / {n_trials} as first\")\n",
    "print(f\"Player won {wins_second} / {n_trials} as second\")"
   ]
  }
 ],
 "metadata": {
  "kernelspec": {
   "display_name": "Python 3",
   "language": "python",
   "name": "python3"
  },
  "language_info": {
   "codemirror_mode": {
    "name": "ipython",
    "version": 3
   },
   "file_extension": ".py",
   "mimetype": "text/x-python",
   "name": "python",
   "nbconvert_exporter": "python",
   "pygments_lexer": "ipython3",
   "version": "3.10.11"
  }
 },
 "nbformat": 4,
 "nbformat_minor": 2
}
